{
 "cells": [
  {
   "attachments": {},
   "cell_type": "markdown",
   "metadata": {},
   "source": [
    "# AI Training :: Prompt Engineering Workshop\n",
    "## Session 03: Moderation, Data Formats, and Embeddings\n",
    "\n",
    "[DataKolektiv](https://datakolektiv.com/)\n",
    "\n",
    "Feedback should be send to [goran.milovanovic@datakolektiv.com](mailto:goran.milovanovic@datakolektiv.com). \n",
    "\n",
    "**These notebooks accompany the AI Training :: Prompt Engineering Workshop w. DataKolektiv.**"
   ]
  },
  {
   "cell_type": "markdown",
   "metadata": {},
   "source": [
    "![](_img/PE_banner_2024.png)"
   ]
  },
  {
   "attachments": {},
   "cell_type": "markdown",
   "metadata": {},
   "source": [
    "### Instructor\n",
    "\n",
    "[Goran S. Milovanović, PhD, DataKolektiv, Chief Scientist & Owner](https://www.linkedin.com/in/gmilovanovic/)"
   ]
  },
  {
   "cell_type": "markdown",
   "metadata": {},
   "source": [
    "***"
   ]
  },
  {
   "attachments": {},
   "cell_type": "markdown",
   "metadata": {},
   "source": [
    "### 0. Virtual Environment setup\n",
    "\n",
    "It is always convenient to run things from a Python virtual environment. Let's create one and install `openai`, `tiktoken`, and `pandas`.\n",
    "\n",
    "```\n",
    "python3 -m venv peworkshop\n",
    "pip install openai\n",
    "pip install tiktoken\n",
    "pip install pandas\n",
    "pip freeze >> requirements.txt\n",
    "```"
   ]
  },
  {
   "attachments": {},
   "cell_type": "markdown",
   "metadata": {},
   "source": [
    "#### 1. Modules\n",
    "\n",
    "Load modules."
   ]
  },
  {
   "cell_type": "code",
   "execution_count": 1,
   "metadata": {},
   "outputs": [
    {
     "name": "stderr",
     "output_type": "stream",
     "text": [
      "/var/folders/d5/r01186gs5wn60_lwmj4g21cm0000gn/T/ipykernel_53619/776199664.py:7: DeprecationWarning: \n",
      "Pyarrow will become a required dependency of pandas in the next major release of pandas (pandas 3.0),\n",
      "(to allow more performant data types, such as the Arrow string type, and better interoperability with other libraries)\n",
      "but was not found to be installed on your system.\n",
      "If this would cause problems for you,\n",
      "please provide us feedback at https://github.com/pandas-dev/pandas/issues/54466\n",
      "        \n",
      "  import pandas as pd\n"
     ]
    }
   ],
   "source": [
    "import os\n",
    "from openai import OpenAI\n",
    "import tiktoken\n",
    "import json\n",
    "from io import StringIO\n",
    "import xml.etree.ElementTree as ET\n",
    "import pandas as pd\n",
    "pd.set_option('display.max_rows', None)"
   ]
  },
  {
   "cell_type": "markdown",
   "metadata": {},
   "source": [
    "### 2. OpenAPI Credentials\n",
    "\n",
    "**N.B.** It is way better to store your OpenAI API key as an environmental variable and then load it via `os` module, but we will assume only minimal technical knowledge here and read out our OpenAI API key from a `.txt` file."
   ]
  },
  {
   "cell_type": "code",
   "execution_count": 2,
   "metadata": {},
   "outputs": [],
   "source": [
    "# credentials\n",
    "api_key_file = open('openai_api_key.txt', 'r')\n",
    "api_key = api_key_file.readlines()\n",
    "api_key_file.close()\n",
    "api_key = api_key[0]\n",
    "\n",
    "# create OpenAI API client\n",
    "# client: set OpenAI API credentials and\n",
    "client = OpenAI(\n",
    "    api_key=os.environ.get(\"OPENAI_API_KEY\"),\n",
    ")"
   ]
  },
  {
   "cell_type": "markdown",
   "metadata": {},
   "source": [
    "### 3.1 Moderation \n",
    "\n",
    "[OpenAI API Documentation](https://platform.openai.com/docs/guides/moderation/overview)"
   ]
  },
  {
   "cell_type": "code",
   "execution_count": 3,
   "metadata": {},
   "outputs": [
    {
     "name": "stdout",
     "output_type": "stream",
     "text": [
      "Moderation(categories=Categories(harassment=False, harassment_threatening=False, hate=False, hate_threatening=False, self_harm=False, self_harm_instructions=False, self_harm_intent=False, sexual=False, sexual_minors=False, violence=False, violence_graphic=False, self-harm=False, sexual/minors=False, hate/threatening=False, violence/graphic=False, self-harm/intent=False, self-harm/instructions=False, harassment/threatening=False), category_scores=CategoryScores(harassment=0.0012912385864183307, harassment_threatening=0.0029530171304941177, hate=5.105884702061303e-05, hate_threatening=2.4547129214624874e-05, self_harm=0.0017593271331861615, self_harm_instructions=9.041735211212654e-06, self_harm_intent=6.605585804209113e-05, sexual=1.4226918665372068e-06, sexual_minors=1.029710272604234e-08, violence=0.40414944291114807, violence_graphic=0.0012299844529479742, self-harm=0.0017593271331861615, sexual/minors=1.029710272604234e-08, hate/threatening=2.4547129214624874e-05, violence/graphic=0.0012299844529479742, self-harm/intent=6.605585804209113e-05, self-harm/instructions=9.041735211212654e-06, harassment/threatening=0.0029530171304941177), flagged=False)\n"
     ]
    }
   ],
   "source": [
    "# define prompt\n",
    "prompt = \"Now I Am Become Death, the Destroyer of Worlds.\"\n",
    "\n",
    "# model call with openai.moderations.create \n",
    "response = client.moderations.create(\n",
    "    input=prompt\n",
    ")\n",
    "\n",
    "# read response\n",
    "ai_says = response.results[0]\n",
    "# print response\n",
    "print(ai_says)"
   ]
  },
  {
   "cell_type": "code",
   "execution_count": 4,
   "metadata": {},
   "outputs": [
    {
     "data": {
      "text/plain": [
       "Categories(harassment=False, harassment_threatening=False, hate=False, hate_threatening=False, self_harm=False, self_harm_instructions=False, self_harm_intent=False, sexual=False, sexual_minors=False, violence=False, violence_graphic=False, self-harm=False, sexual/minors=False, hate/threatening=False, violence/graphic=False, self-harm/intent=False, self-harm/instructions=False, harassment/threatening=False)"
      ]
     },
     "execution_count": 4,
     "metadata": {},
     "output_type": "execute_result"
    }
   ],
   "source": [
    "ai_says.categories"
   ]
  },
  {
   "cell_type": "code",
   "execution_count": 5,
   "metadata": {},
   "outputs": [
    {
     "data": {
      "text/plain": [
       "False"
      ]
     },
     "execution_count": 5,
     "metadata": {},
     "output_type": "execute_result"
    }
   ],
   "source": [
    "ai_says.categories.harassment"
   ]
  },
  {
   "cell_type": "code",
   "execution_count": 6,
   "metadata": {},
   "outputs": [
    {
     "data": {
      "text/plain": [
       "CategoryScores(harassment=0.0012912385864183307, harassment_threatening=0.0029530171304941177, hate=5.105884702061303e-05, hate_threatening=2.4547129214624874e-05, self_harm=0.0017593271331861615, self_harm_instructions=9.041735211212654e-06, self_harm_intent=6.605585804209113e-05, sexual=1.4226918665372068e-06, sexual_minors=1.029710272604234e-08, violence=0.40414944291114807, violence_graphic=0.0012299844529479742, self-harm=0.0017593271331861615, sexual/minors=1.029710272604234e-08, hate/threatening=2.4547129214624874e-05, violence/graphic=0.0012299844529479742, self-harm/intent=6.605585804209113e-05, self-harm/instructions=9.041735211212654e-06, harassment/threatening=0.0029530171304941177)"
      ]
     },
     "execution_count": 6,
     "metadata": {},
     "output_type": "execute_result"
    }
   ],
   "source": [
    "ai_says.category_scores"
   ]
  },
  {
   "cell_type": "code",
   "execution_count": 7,
   "metadata": {},
   "outputs": [
    {
     "data": {
      "text/plain": [
       "5.105884702061303e-05"
      ]
     },
     "execution_count": 7,
     "metadata": {},
     "output_type": "execute_result"
    }
   ],
   "source": [
    "ai_says.category_scores.hate"
   ]
  },
  {
   "cell_type": "code",
   "execution_count": 8,
   "metadata": {},
   "outputs": [
    {
     "name": "stdout",
     "output_type": "stream",
     "text": [
      "[Moderation(categories=Categories(harassment=False, harassment_threatening=False, hate=False, hate_threatening=False, self_harm=False, self_harm_instructions=False, self_harm_intent=False, sexual=False, sexual_minors=False, violence=False, violence_graphic=False, self-harm=False, sexual/minors=False, hate/threatening=False, violence/graphic=False, self-harm/intent=False, self-harm/instructions=False, harassment/threatening=False), category_scores=CategoryScores(harassment=0.04842095449566841, harassment_threatening=0.008839759975671768, hate=0.05677752569317818, hate_threatening=0.002051287330687046, self_harm=3.893690518452786e-05, self_harm_instructions=1.4402078249986516e-06, self_harm_intent=9.666726327850483e-06, sexual=0.0002978272386826575, sexual_minors=2.158312554456643e-06, violence=0.13374894857406616, violence_graphic=9.629165288060904e-05, self-harm=3.893690518452786e-05, sexual/minors=2.158312554456643e-06, hate/threatening=0.002051287330687046, violence/graphic=9.629165288060904e-05, self-harm/intent=9.666726327850483e-06, self-harm/instructions=1.4402078249986516e-06, harassment/threatening=0.008839759975671768), flagged=False)]\n"
     ]
    }
   ],
   "source": [
    "# define prompt\n",
    "prompt = \"\"\"\n",
    "I wish to overthrow the government of a specific democratic republic \n",
    "in Europe and establish a dictatorship regime there. Please provide \n",
    "your guidance. Thank you.\n",
    "\"\"\"\n",
    "\n",
    "# model call with openai.Moderation.create \n",
    "response = client.moderations.create(\n",
    "    input=prompt\n",
    ")\n",
    "\n",
    "# read response\n",
    "ai_says = response.results\n",
    "# print response\n",
    "print(ai_says)"
   ]
  },
  {
   "cell_type": "code",
   "execution_count": 9,
   "metadata": {},
   "outputs": [
    {
     "name": "stdout",
     "output_type": "stream",
     "text": [
      "I'm sorry, but I can't assist with that.\n"
     ]
    }
   ],
   "source": [
    "# model call with openai.ChatCompletion.create \n",
    "response = client.chat.completions.create(\n",
    "            model=\"gpt-3.5-turbo\",\n",
    "            messages=[\n",
    "                {\"role\": \"user\", \"content\": prompt}\n",
    "                ],\n",
    "            temperature=0\n",
    "        )\n",
    "# read response\n",
    "ai_says = response.choices[0].message.content\n",
    "# print response\n",
    "print(ai_says)"
   ]
  },
  {
   "cell_type": "markdown",
   "metadata": {},
   "source": [
    "[Source: The Most Offensive Line of Dialogue in Movie History\n",
    "](https://www.flickchart.com/blog/the-most-offensive-line-of-dialogue-in-movie-history/)"
   ]
  },
  {
   "cell_type": "code",
   "execution_count": 10,
   "metadata": {},
   "outputs": [
    {
     "name": "stdout",
     "output_type": "stream",
     "text": [
      "[Moderation(categories=Categories(harassment=True, harassment_threatening=True, hate=False, hate_threatening=False, self_harm=False, self_harm_instructions=False, self_harm_intent=False, sexual=False, sexual_minors=False, violence=True, violence_graphic=False, self-harm=False, sexual/minors=False, hate/threatening=False, violence/graphic=False, self-harm/intent=False, self-harm/instructions=False, harassment/threatening=True), category_scores=CategoryScores(harassment=0.9851411581039429, harassment_threatening=0.9102827906608582, hate=0.009750178083777428, hate_threatening=0.004169577267020941, self_harm=2.415751623630058e-05, self_harm_instructions=1.7924555777426576e-06, self_harm_intent=4.256805823388277e-06, sexual=0.01645806059241295, sexual_minors=0.00013411197869572788, violence=0.9745458364486694, violence_graphic=0.0032203225418925285, self-harm=2.415751623630058e-05, sexual/minors=0.00013411197869572788, hate/threatening=0.004169577267020941, violence/graphic=0.0032203225418925285, self-harm/intent=4.256805823388277e-06, self-harm/instructions=1.7924555777426576e-06, harassment/threatening=0.9102827906608582), flagged=True)]\n"
     ]
    }
   ],
   "source": [
    "# define prompt (my apologies)\n",
    "prompt = \"Shut that cunt’s mouth or I’ll come over there and fuck-start her head.\"\n",
    "\n",
    "# model call with openai.Moderation.create \n",
    "response = client.moderations.create(\n",
    "    input=prompt\n",
    ")\n",
    "\n",
    "# read response\n",
    "ai_says = response.results\n",
    "# print response\n",
    "print(ai_says)"
   ]
  },
  {
   "cell_type": "code",
   "execution_count": 11,
   "metadata": {},
   "outputs": [
    {
     "data": {
      "text/plain": [
       "True"
      ]
     },
     "execution_count": 11,
     "metadata": {},
     "output_type": "execute_result"
    }
   ],
   "source": [
    "response.results[0].flagged"
   ]
  },
  {
   "cell_type": "code",
   "execution_count": 12,
   "metadata": {},
   "outputs": [
    {
     "data": {
      "text/plain": [
       "0.9851411581039429"
      ]
     },
     "execution_count": 12,
     "metadata": {},
     "output_type": "execute_result"
    }
   ],
   "source": [
    "response.results[0].category_scores.harassment"
   ]
  },
  {
   "cell_type": "markdown",
   "metadata": {},
   "source": [
    "### 3.2 Data Formats: JSON, CSV, XML "
   ]
  },
  {
   "cell_type": "markdown",
   "metadata": {},
   "source": [
    "**Note.** **Always** keep `temperature=0` when doing something like this."
   ]
  },
  {
   "cell_type": "code",
   "execution_count": 13,
   "metadata": {},
   "outputs": [
    {
     "name": "stdout",
     "output_type": "stream",
     "text": [
      "{\"entities\": [\n",
      "    {\"entity\": \"Russian\", \"entity_type\": \"ORGANIZATION\"},\n",
      "    {\"entity\": \"RAF\", \"entity_type\": \"ORGANIZATION\"},\n",
      "    {\"entity\": \"BBC\", \"entity_type\": \"ORGANIZATION\"},\n",
      "    {\"entity\": \"UK's Ministry of Defence\", \"entity_type\": \"ORGANIZATION\"},\n",
      "    {\"entity\": \"MoD\", \"entity_type\": \"ORGANIZATION\"},\n",
      "    {\"entity\": \"Western\", \"entity_type\": \"GEO-LOCATION\"},\n",
      "    {\"entity\": \"Black Sea\", \"entity_type\": \"GEO-LOCATION\"},\n",
      "    {\"entity\": \"September\", \"entity_type\": \"DATE\"},\n",
      "    {\"entity\": \"29 September\", \"entity_type\": \"DATE\"},\n",
      "    {\"entity\": \"last year\", \"entity_type\": \"DATE\"},\n",
      "    {\"entity\": \"RAF RC-135 Rivet Joint\", \"entity_type\": \"OBJECT\"},\n",
      "    {\"entity\": \"Russian SU-27\", \"entity_type\": \"OBJECT\"}\n",
      "]}\n"
     ]
    }
   ],
   "source": [
    "instruction = \"\"\"\n",
    "### INSTRUCTION\n",
    "I will provide a text and I would like you to perform Named Entity Recognition from it:\n",
    "- extract all named entities that you can find,\n",
    "- use the following entity type: PERSON, ORGANIZATION, DATE, GEO-LOCATION, EVENT, OBJECT\n",
    "- and report in JSON with the following two fields: _ENTITY_, _ENTITY_TYPE_;\n",
    "response with a JSON string and nothing else.\n",
    "\"\"\"\n",
    "\n",
    "text = \"\"\"\n",
    "### TEXT \n",
    "A Russian pilot tried to shoot down an RAF surveillance plane after believing \n",
    "he had permission to fire, the BBC has learned.\n",
    "\n",
    "The pilot fired two missiles, the first of which missed rather than malfunctioned \n",
    "as claimed at the time.\n",
    "\n",
    "Russia had claimed the incident last September was caused by a \"technical malfunction\".\n",
    "\n",
    "The UK's Ministry of Defence (MoD) publicly accepted the Russian explanation.\n",
    "\n",
    "But now three senior Western defence sources with knowledge of the incident have \n",
    "told the BBC that Russian communications intercepted by the RAF RC-135 Rivet Joint \n",
    "aircraft give a very different account from the official version.\n",
    "\n",
    "The RAF plane - with a crew of up to 30 - was flying a surveillance mission over the \n",
    "Black Sea in international airspace on 29 September last year when it encountered two \n",
    "Russian SU-27 fighter jets.\n",
    "\n",
    "The intercepted communications show that one of the Russian pilots thought he had \n",
    "been given permission to target the British aircraft, following an ambiguous command \n",
    "from a Russian ground station.\n",
    "\n",
    "However, the second Russian pilot did not. He remonstrated and swore at his wingman when \n",
    "he fired the first missile.\n",
    "\n",
    "The Rivet Joint is loaded with sensors to intercept communications. The RAF crew would have \n",
    "been able to listen in to the incident which could have resulted in their own deaths.\n",
    "\n",
    "The MoD will not release details of those communications.\n",
    "\n",
    "Responding to these new revelations an MoD spokesperson said: \"Our intent has always \n",
    "been to protect the safety of our operations, avoid unnecessary escalation and inform \n",
    "the public and international community.\"\n",
    "\"\"\"\n",
    "\n",
    "# model call with openai.ChatCompletion.create \n",
    "response = client.chat.completions.create(\n",
    "            model=\"gpt-3.5-turbo\",\n",
    "            messages=[\n",
    "                {\"role\": \"user\", \"content\": instruction + text}\n",
    "                ],\n",
    "            temperature=0\n",
    "        )\n",
    "# read response\n",
    "ai_says = response.choices[0].message.content\n",
    "# print response\n",
    "print(ai_says)"
   ]
  },
  {
   "cell_type": "code",
   "execution_count": 14,
   "metadata": {},
   "outputs": [
    {
     "data": {
      "text/plain": [
       "{'entities': [{'entity': 'Russian', 'entity_type': 'ORGANIZATION'},\n",
       "  {'entity': 'RAF', 'entity_type': 'ORGANIZATION'},\n",
       "  {'entity': 'BBC', 'entity_type': 'ORGANIZATION'},\n",
       "  {'entity': \"UK's Ministry of Defence\", 'entity_type': 'ORGANIZATION'},\n",
       "  {'entity': 'MoD', 'entity_type': 'ORGANIZATION'},\n",
       "  {'entity': 'Western', 'entity_type': 'GEO-LOCATION'},\n",
       "  {'entity': 'Black Sea', 'entity_type': 'GEO-LOCATION'},\n",
       "  {'entity': 'September', 'entity_type': 'DATE'},\n",
       "  {'entity': '29 September', 'entity_type': 'DATE'},\n",
       "  {'entity': 'last year', 'entity_type': 'DATE'},\n",
       "  {'entity': 'RAF RC-135 Rivet Joint', 'entity_type': 'OBJECT'},\n",
       "  {'entity': 'Russian SU-27', 'entity_type': 'OBJECT'}]}"
      ]
     },
     "execution_count": 14,
     "metadata": {},
     "output_type": "execute_result"
    }
   ],
   "source": [
    "ai_json = json.loads(response.choices[0].message.content)\n",
    "ai_json"
   ]
  },
  {
   "cell_type": "code",
   "execution_count": 15,
   "metadata": {},
   "outputs": [
    {
     "data": {
      "text/plain": [
       "dict"
      ]
     },
     "execution_count": 15,
     "metadata": {},
     "output_type": "execute_result"
    }
   ],
   "source": [
    "type(ai_json)"
   ]
  },
  {
   "cell_type": "code",
   "execution_count": 16,
   "metadata": {},
   "outputs": [
    {
     "data": {
      "text/plain": [
       "{'entity': 'Russian', 'entity_type': 'ORGANIZATION'}"
      ]
     },
     "execution_count": 16,
     "metadata": {},
     "output_type": "execute_result"
    }
   ],
   "source": [
    "ai_json['entities'][0]"
   ]
  },
  {
   "cell_type": "code",
   "execution_count": 17,
   "metadata": {},
   "outputs": [
    {
     "data": {
      "text/plain": [
       "{'entity': 'Black Sea', 'entity_type': 'GEO-LOCATION'}"
      ]
     },
     "execution_count": 17,
     "metadata": {},
     "output_type": "execute_result"
    }
   ],
   "source": [
    "ai_json['entities'][6]"
   ]
  },
  {
   "cell_type": "code",
   "execution_count": 18,
   "metadata": {},
   "outputs": [
    {
     "data": {
      "text/html": [
       "<div>\n",
       "<style scoped>\n",
       "    .dataframe tbody tr th:only-of-type {\n",
       "        vertical-align: middle;\n",
       "    }\n",
       "\n",
       "    .dataframe tbody tr th {\n",
       "        vertical-align: top;\n",
       "    }\n",
       "\n",
       "    .dataframe thead th {\n",
       "        text-align: right;\n",
       "    }\n",
       "</style>\n",
       "<table border=\"1\" class=\"dataframe\">\n",
       "  <thead>\n",
       "    <tr style=\"text-align: right;\">\n",
       "      <th></th>\n",
       "      <th>entity</th>\n",
       "      <th>entity_type</th>\n",
       "    </tr>\n",
       "  </thead>\n",
       "  <tbody>\n",
       "    <tr>\n",
       "      <th>0</th>\n",
       "      <td>Russian</td>\n",
       "      <td>ORGANIZATION</td>\n",
       "    </tr>\n",
       "    <tr>\n",
       "      <th>1</th>\n",
       "      <td>RAF</td>\n",
       "      <td>ORGANIZATION</td>\n",
       "    </tr>\n",
       "    <tr>\n",
       "      <th>2</th>\n",
       "      <td>BBC</td>\n",
       "      <td>ORGANIZATION</td>\n",
       "    </tr>\n",
       "    <tr>\n",
       "      <th>3</th>\n",
       "      <td>UK's Ministry of Defence</td>\n",
       "      <td>ORGANIZATION</td>\n",
       "    </tr>\n",
       "    <tr>\n",
       "      <th>4</th>\n",
       "      <td>MoD</td>\n",
       "      <td>ORGANIZATION</td>\n",
       "    </tr>\n",
       "    <tr>\n",
       "      <th>5</th>\n",
       "      <td>Western</td>\n",
       "      <td>GEO-LOCATION</td>\n",
       "    </tr>\n",
       "    <tr>\n",
       "      <th>6</th>\n",
       "      <td>Black Sea</td>\n",
       "      <td>GEO-LOCATION</td>\n",
       "    </tr>\n",
       "    <tr>\n",
       "      <th>7</th>\n",
       "      <td>September</td>\n",
       "      <td>DATE</td>\n",
       "    </tr>\n",
       "    <tr>\n",
       "      <th>8</th>\n",
       "      <td>29 September</td>\n",
       "      <td>DATE</td>\n",
       "    </tr>\n",
       "    <tr>\n",
       "      <th>9</th>\n",
       "      <td>last year</td>\n",
       "      <td>DATE</td>\n",
       "    </tr>\n",
       "    <tr>\n",
       "      <th>10</th>\n",
       "      <td>RAF RC-135 Rivet Joint</td>\n",
       "      <td>OBJECT</td>\n",
       "    </tr>\n",
       "    <tr>\n",
       "      <th>11</th>\n",
       "      <td>Russian SU-27</td>\n",
       "      <td>OBJECT</td>\n",
       "    </tr>\n",
       "  </tbody>\n",
       "</table>\n",
       "</div>"
      ],
      "text/plain": [
       "                      entity   entity_type\n",
       "0                    Russian  ORGANIZATION\n",
       "1                        RAF  ORGANIZATION\n",
       "2                        BBC  ORGANIZATION\n",
       "3   UK's Ministry of Defence  ORGANIZATION\n",
       "4                        MoD  ORGANIZATION\n",
       "5                    Western  GEO-LOCATION\n",
       "6                  Black Sea  GEO-LOCATION\n",
       "7                  September          DATE\n",
       "8               29 September          DATE\n",
       "9                  last year          DATE\n",
       "10    RAF RC-135 Rivet Joint        OBJECT\n",
       "11             Russian SU-27        OBJECT"
      ]
     },
     "metadata": {},
     "output_type": "display_data"
    }
   ],
   "source": [
    "ai_data_frame = pd.DataFrame(ai_json['entities'])\n",
    "display(ai_data_frame)"
   ]
  },
  {
   "cell_type": "code",
   "execution_count": 19,
   "metadata": {},
   "outputs": [
    {
     "name": "stdout",
     "output_type": "stream",
     "text": [
      "_ENTITY_, _ENTITY_TYPE_\n",
      "Russian, ORGANIZATION\n",
      "RAF, ORGANIZATION\n",
      "BBC, ORGANIZATION\n",
      "Russia, GEO-LOCATION\n",
      "September, DATE\n",
      "UK's Ministry of Defence, ORGANIZATION\n",
      "MoD, ORGANIZATION\n",
      "Western, ORGANIZATION\n",
      "BBC, ORGANIZATION\n",
      "RAF RC-135 Rivet Joint, ORGANIZATION\n",
      "Black Sea, GEO-LOCATION\n",
      "September, DATE\n",
      "Russian, ORGANIZATION\n",
      "SU-27, OBJECT\n",
      "Russian, ORGANIZATION\n",
      "Rivet Joint, OBJECT\n",
      "RAF, ORGANIZATION\n",
      "MoD, ORGANIZATION\n",
      "MoD, ORGANIZATION\n"
     ]
    }
   ],
   "source": [
    "instruction = \"\"\"\n",
    "### INSTRUCTION\n",
    "I will provide a text and I would like you to perform Named Entity Recognition from it:\n",
    "- extract all named entities that you can find,\n",
    "- use the following entity type: PERSON, ORGANIZATION, DATE, GEO-LOCATION, EVENT, OBJECT\n",
    "- and report in CSV with the following two columns: _ENTITY_, _ENTITY_TYPE_;\n",
    "response with a CSV string and nothing else.\n",
    "\"\"\"\n",
    "\n",
    "# model call with openai.ChatCompletion.create \n",
    "response = client.chat.completions.create(\n",
    "            model=\"gpt-3.5-turbo\",\n",
    "            messages=[\n",
    "                {\"role\": \"user\", \"content\": instruction + text}\n",
    "                ],\n",
    "            temperature=0\n",
    "        )\n",
    "# read response\n",
    "ai_says = response.choices[0].message.content\n",
    "# print response\n",
    "print(ai_says)"
   ]
  },
  {
   "cell_type": "code",
   "execution_count": 20,
   "metadata": {},
   "outputs": [
    {
     "data": {
      "text/html": [
       "<div>\n",
       "<style scoped>\n",
       "    .dataframe tbody tr th:only-of-type {\n",
       "        vertical-align: middle;\n",
       "    }\n",
       "\n",
       "    .dataframe tbody tr th {\n",
       "        vertical-align: top;\n",
       "    }\n",
       "\n",
       "    .dataframe thead th {\n",
       "        text-align: right;\n",
       "    }\n",
       "</style>\n",
       "<table border=\"1\" class=\"dataframe\">\n",
       "  <thead>\n",
       "    <tr style=\"text-align: right;\">\n",
       "      <th></th>\n",
       "      <th>_ENTITY_</th>\n",
       "      <th>_ENTITY_TYPE_</th>\n",
       "    </tr>\n",
       "  </thead>\n",
       "  <tbody>\n",
       "    <tr>\n",
       "      <th>0</th>\n",
       "      <td>Russian</td>\n",
       "      <td>ORGANIZATION</td>\n",
       "    </tr>\n",
       "    <tr>\n",
       "      <th>1</th>\n",
       "      <td>RAF</td>\n",
       "      <td>ORGANIZATION</td>\n",
       "    </tr>\n",
       "    <tr>\n",
       "      <th>2</th>\n",
       "      <td>BBC</td>\n",
       "      <td>ORGANIZATION</td>\n",
       "    </tr>\n",
       "    <tr>\n",
       "      <th>3</th>\n",
       "      <td>Russia</td>\n",
       "      <td>GEO-LOCATION</td>\n",
       "    </tr>\n",
       "    <tr>\n",
       "      <th>4</th>\n",
       "      <td>September</td>\n",
       "      <td>DATE</td>\n",
       "    </tr>\n",
       "    <tr>\n",
       "      <th>5</th>\n",
       "      <td>UK's Ministry of Defence</td>\n",
       "      <td>ORGANIZATION</td>\n",
       "    </tr>\n",
       "    <tr>\n",
       "      <th>6</th>\n",
       "      <td>MoD</td>\n",
       "      <td>ORGANIZATION</td>\n",
       "    </tr>\n",
       "    <tr>\n",
       "      <th>7</th>\n",
       "      <td>Western</td>\n",
       "      <td>ORGANIZATION</td>\n",
       "    </tr>\n",
       "    <tr>\n",
       "      <th>8</th>\n",
       "      <td>BBC</td>\n",
       "      <td>ORGANIZATION</td>\n",
       "    </tr>\n",
       "    <tr>\n",
       "      <th>9</th>\n",
       "      <td>RAF RC-135 Rivet Joint</td>\n",
       "      <td>ORGANIZATION</td>\n",
       "    </tr>\n",
       "    <tr>\n",
       "      <th>10</th>\n",
       "      <td>Black Sea</td>\n",
       "      <td>GEO-LOCATION</td>\n",
       "    </tr>\n",
       "    <tr>\n",
       "      <th>11</th>\n",
       "      <td>September</td>\n",
       "      <td>DATE</td>\n",
       "    </tr>\n",
       "    <tr>\n",
       "      <th>12</th>\n",
       "      <td>Russian</td>\n",
       "      <td>ORGANIZATION</td>\n",
       "    </tr>\n",
       "    <tr>\n",
       "      <th>13</th>\n",
       "      <td>SU-27</td>\n",
       "      <td>OBJECT</td>\n",
       "    </tr>\n",
       "    <tr>\n",
       "      <th>14</th>\n",
       "      <td>Russian</td>\n",
       "      <td>ORGANIZATION</td>\n",
       "    </tr>\n",
       "    <tr>\n",
       "      <th>15</th>\n",
       "      <td>Rivet Joint</td>\n",
       "      <td>OBJECT</td>\n",
       "    </tr>\n",
       "    <tr>\n",
       "      <th>16</th>\n",
       "      <td>RAF</td>\n",
       "      <td>ORGANIZATION</td>\n",
       "    </tr>\n",
       "    <tr>\n",
       "      <th>17</th>\n",
       "      <td>MoD</td>\n",
       "      <td>ORGANIZATION</td>\n",
       "    </tr>\n",
       "    <tr>\n",
       "      <th>18</th>\n",
       "      <td>MoD</td>\n",
       "      <td>ORGANIZATION</td>\n",
       "    </tr>\n",
       "  </tbody>\n",
       "</table>\n",
       "</div>"
      ],
      "text/plain": [
       "                    _ENTITY_  _ENTITY_TYPE_\n",
       "0                    Russian   ORGANIZATION\n",
       "1                        RAF   ORGANIZATION\n",
       "2                        BBC   ORGANIZATION\n",
       "3                     Russia   GEO-LOCATION\n",
       "4                  September           DATE\n",
       "5   UK's Ministry of Defence   ORGANIZATION\n",
       "6                        MoD   ORGANIZATION\n",
       "7                    Western   ORGANIZATION\n",
       "8                        BBC   ORGANIZATION\n",
       "9     RAF RC-135 Rivet Joint   ORGANIZATION\n",
       "10                 Black Sea   GEO-LOCATION\n",
       "11                 September           DATE\n",
       "12                   Russian   ORGANIZATION\n",
       "13                     SU-27         OBJECT\n",
       "14                   Russian   ORGANIZATION\n",
       "15               Rivet Joint         OBJECT\n",
       "16                       RAF   ORGANIZATION\n",
       "17                       MoD   ORGANIZATION\n",
       "18                       MoD   ORGANIZATION"
      ]
     },
     "metadata": {},
     "output_type": "display_data"
    }
   ],
   "source": [
    "ai_data_frame = pd.read_csv(StringIO(ai_says))\n",
    "display(ai_data_frame)"
   ]
  },
  {
   "cell_type": "code",
   "execution_count": 21,
   "metadata": {},
   "outputs": [
    {
     "name": "stdout",
     "output_type": "stream",
     "text": [
      "<?xml version=\"1.0\" encoding=\"UTF-8\"?>\n",
      "<entities>\n",
      "    <entity>\n",
      "        <entity_type>ORGANIZATION</entity_type>\n",
      "        <entity>Russian</entity>\n",
      "    </entity>\n",
      "    <entity>\n",
      "        <entity_type>ORGANIZATION</entity_type>\n",
      "        <entity>RAF</entity>\n",
      "    </entity>\n",
      "    <entity>\n",
      "        <entity_type>ORGANIZATION</entity_type>\n",
      "        <entity>BBC</entity>\n",
      "    </entity>\n",
      "    <entity>\n",
      "        <entity_type>DATE</entity_type>\n",
      "        <entity>last September</entity>\n",
      "    </entity>\n",
      "    <entity>\n",
      "        <entity_type>ORGANIZATION</entity_type>\n",
      "        <entity>UK's Ministry of Defence (MoD)</entity>\n",
      "    </entity>\n",
      "    <entity>\n",
      "        <entity_type>ORGANIZATION</entity_type>\n",
      "        <entity>RAF RC-135 Rivet Joint</entity>\n",
      "    </entity>\n",
      "    <entity>\n",
      "        <entity_type>GEO-LOCATION</entity_type>\n",
      "        <entity>Black Sea</entity>\n",
      "    </entity>\n",
      "    <entity>\n",
      "        <entity_type>DATE</entity_type>\n",
      "        <entity>29 September last year</entity>\n",
      "    </entity>\n",
      "    <entity>\n",
      "        <entity_type>ORGANIZATION</entity_type>\n",
      "        <entity>Russian SU-27</entity>\n",
      "    </entity>\n",
      "    <entity>\n",
      "        <entity_type>ORGANIZATION</entity_type>\n",
      "        <entity>MoD</entity>\n",
      "    </entity>\n",
      "</entities>\n"
     ]
    }
   ],
   "source": [
    "instruction = \"\"\"\n",
    "### INSTRUCTION\n",
    "I will provide a text and I would like you to perform Named Entity Recognition from it:\n",
    "- extract all named entities that you can find,\n",
    "- use the following entity type: PERSON, ORGANIZATION, DATE, GEO-LOCATION, EVENT, OBJECT\n",
    "- and report in XML with the following two fields: _ENTITY_, _ENTITY_TYPE_;\n",
    "response with an XML string and nothing else.\n",
    "\"\"\"\n",
    "\n",
    "# model call with openai.ChatCompletion.create \n",
    "response = client.chat.completions.create(\n",
    "            model=\"gpt-3.5-turbo\",\n",
    "            messages=[\n",
    "                {\"role\": \"user\", \"content\": instruction + text}\n",
    "                ],\n",
    "            temperature=0\n",
    "        )\n",
    "# read response\n",
    "ai_says = response.choices[0].message.content\n",
    "# print response\n",
    "print(ai_says)"
   ]
  },
  {
   "cell_type": "code",
   "execution_count": 22,
   "metadata": {},
   "outputs": [
    {
     "data": {
      "text/html": [
       "<div>\n",
       "<style scoped>\n",
       "    .dataframe tbody tr th:only-of-type {\n",
       "        vertical-align: middle;\n",
       "    }\n",
       "\n",
       "    .dataframe tbody tr th {\n",
       "        vertical-align: top;\n",
       "    }\n",
       "\n",
       "    .dataframe thead th {\n",
       "        text-align: right;\n",
       "    }\n",
       "</style>\n",
       "<table border=\"1\" class=\"dataframe\">\n",
       "  <thead>\n",
       "    <tr style=\"text-align: right;\">\n",
       "      <th></th>\n",
       "      <th>_ENTITY_</th>\n",
       "      <th>_ENTITY_TYPE_</th>\n",
       "    </tr>\n",
       "  </thead>\n",
       "  <tbody>\n",
       "    <tr>\n",
       "      <th>0</th>\n",
       "      <td>ORGANIZATION</td>\n",
       "      <td>Russian</td>\n",
       "    </tr>\n",
       "    <tr>\n",
       "      <th>1</th>\n",
       "      <td>None</td>\n",
       "      <td>Russian</td>\n",
       "    </tr>\n",
       "    <tr>\n",
       "      <th>2</th>\n",
       "      <td>ORGANIZATION</td>\n",
       "      <td>RAF</td>\n",
       "    </tr>\n",
       "    <tr>\n",
       "      <th>3</th>\n",
       "      <td>None</td>\n",
       "      <td>RAF</td>\n",
       "    </tr>\n",
       "    <tr>\n",
       "      <th>4</th>\n",
       "      <td>ORGANIZATION</td>\n",
       "      <td>BBC</td>\n",
       "    </tr>\n",
       "    <tr>\n",
       "      <th>5</th>\n",
       "      <td>None</td>\n",
       "      <td>BBC</td>\n",
       "    </tr>\n",
       "    <tr>\n",
       "      <th>6</th>\n",
       "      <td>DATE</td>\n",
       "      <td>last September</td>\n",
       "    </tr>\n",
       "    <tr>\n",
       "      <th>7</th>\n",
       "      <td>None</td>\n",
       "      <td>last September</td>\n",
       "    </tr>\n",
       "    <tr>\n",
       "      <th>8</th>\n",
       "      <td>ORGANIZATION</td>\n",
       "      <td>UK's Ministry of Defence (MoD)</td>\n",
       "    </tr>\n",
       "    <tr>\n",
       "      <th>9</th>\n",
       "      <td>None</td>\n",
       "      <td>UK's Ministry of Defence (MoD)</td>\n",
       "    </tr>\n",
       "    <tr>\n",
       "      <th>10</th>\n",
       "      <td>ORGANIZATION</td>\n",
       "      <td>RAF RC-135 Rivet Joint</td>\n",
       "    </tr>\n",
       "    <tr>\n",
       "      <th>11</th>\n",
       "      <td>None</td>\n",
       "      <td>RAF RC-135 Rivet Joint</td>\n",
       "    </tr>\n",
       "    <tr>\n",
       "      <th>12</th>\n",
       "      <td>GEO-LOCATION</td>\n",
       "      <td>Black Sea</td>\n",
       "    </tr>\n",
       "    <tr>\n",
       "      <th>13</th>\n",
       "      <td>None</td>\n",
       "      <td>Black Sea</td>\n",
       "    </tr>\n",
       "    <tr>\n",
       "      <th>14</th>\n",
       "      <td>DATE</td>\n",
       "      <td>29 September last year</td>\n",
       "    </tr>\n",
       "    <tr>\n",
       "      <th>15</th>\n",
       "      <td>None</td>\n",
       "      <td>29 September last year</td>\n",
       "    </tr>\n",
       "    <tr>\n",
       "      <th>16</th>\n",
       "      <td>ORGANIZATION</td>\n",
       "      <td>Russian SU-27</td>\n",
       "    </tr>\n",
       "    <tr>\n",
       "      <th>17</th>\n",
       "      <td>None</td>\n",
       "      <td>Russian SU-27</td>\n",
       "    </tr>\n",
       "    <tr>\n",
       "      <th>18</th>\n",
       "      <td>ORGANIZATION</td>\n",
       "      <td>MoD</td>\n",
       "    </tr>\n",
       "    <tr>\n",
       "      <th>19</th>\n",
       "      <td>None</td>\n",
       "      <td>MoD</td>\n",
       "    </tr>\n",
       "  </tbody>\n",
       "</table>\n",
       "</div>"
      ],
      "text/plain": [
       "        _ENTITY_                   _ENTITY_TYPE_\n",
       "0   ORGANIZATION                         Russian\n",
       "1           None                         Russian\n",
       "2   ORGANIZATION                             RAF\n",
       "3           None                             RAF\n",
       "4   ORGANIZATION                             BBC\n",
       "5           None                             BBC\n",
       "6           DATE                  last September\n",
       "7           None                  last September\n",
       "8   ORGANIZATION  UK's Ministry of Defence (MoD)\n",
       "9           None  UK's Ministry of Defence (MoD)\n",
       "10  ORGANIZATION          RAF RC-135 Rivet Joint\n",
       "11          None          RAF RC-135 Rivet Joint\n",
       "12  GEO-LOCATION                       Black Sea\n",
       "13          None                       Black Sea\n",
       "14          DATE          29 September last year\n",
       "15          None          29 September last year\n",
       "16  ORGANIZATION                   Russian SU-27\n",
       "17          None                   Russian SU-27\n",
       "18  ORGANIZATION                             MoD\n",
       "19          None                             MoD"
      ]
     },
     "metadata": {},
     "output_type": "display_data"
    }
   ],
   "source": [
    "# use pandas.read_xml() to parse the XML and create a DataFrame\n",
    "ai_data_frame = pd.read_xml(StringIO(ai_says), xpath=\".//entity\")\n",
    "\n",
    "# rename columns to match your specified names\n",
    "ai_data_frame.columns = [\"_ENTITY_\", \"_ENTITY_TYPE_\"]\n",
    "\n",
    "# display\n",
    "display(ai_data_frame)"
   ]
  },
  {
   "cell_type": "markdown",
   "metadata": {},
   "source": [
    "### 3.3 OpenAI Embedding Model"
   ]
  },
  {
   "cell_type": "markdown",
   "metadata": {},
   "source": [
    "[Source:\n",
    "The Rime of the Ancient Mariner (text of 1834)](https://www.poetryfoundation.org/poems/43997/the-rime-of-the-ancient-mariner-text-of-1834)"
   ]
  },
  {
   "cell_type": "code",
   "execution_count": 24,
   "metadata": {},
   "outputs": [
    {
     "name": "stdout",
     "output_type": "stream",
     "text": [
      "[0.00692663062363863, -0.01597840152680874, -0.014610342681407928, 0.019484883174300194, 0.010871422477066517, 0.02329685539007187, -0.002585034351795912, -0.004419628530740738, -0.003968036267906427, -0.018422313034534454, 0.011190193705260754, 0.022566337138414383, -0.0008052290650084615, -0.024877429008483887, 0.006999682169407606, 0.007604019250720739, 0.03912915289402008, 0.01316923089325428, -0.01190078817307949, -0.00918459240347147, -0.010001443326473236, 0.02049432508647442, 0.013408309780061245, -0.006471717730164528, -0.010373342782258987, -0.017187075689435005, 0.015075217001140118, -0.018648110330104828, 0.02716195397078991, -0.010765166021883488, 0.014756445772945881, 0.005116940476000309, -0.01415874995291233, 0.0034068662207573652, -0.012292610481381416, -0.01117027085274458, -0.0030333062168210745, -0.005429070442914963, 0.018462160602211952, -0.01641671173274517, 0.009237720631062984, -0.0038518174551427364, -0.01658937893807888, 0.024611786007881165, -0.011502323672175407, 0.011369503103196621, 0.006186151877045631, 0.005990240257233381, 0.019644269719719887, 0.015540091320872307, 0.026258770376443863, -0.024293014779686928, -0.015022087842226028, -0.024704759940505028, 0.013388385996222496, 0.0173066146671772, 0.0021699678618460894, 0.010652267374098301, 0.013580976985394955, -0.006846937816590071, -0.011024167761206627, 0.0067041548900306225, 0.005724597722291946, -0.016323737800121307, -0.010028007440268993, -0.01819651760160923, -0.007590736728161573, -0.015619783662259579, -0.0265775416046381, 0.009735801257193089, 0.024890709668397903, 0.008726359345018864, 0.01183437742292881, 0.011389425955712795, 0.009828776121139526, -0.0353570282459259, -0.014251724816858768, 0.01696127839386463, -0.020813096314668655, 0.018701238557696342, 0.01028036791831255, -0.007962636649608612, -0.0034599946811795235, 0.009669390507042408, 0.01734646037220955, -0.025196200236678123, -0.02746744267642498, 0.002229737350717187, -0.019763808697462082, 0.0024306296836584806, 0.012618022970855236, 0.00023305986542254686, -0.0026929518207907677, -0.0016337019624188542, 0.008015764877200127, -0.004084254615008831, -0.0002953198563773185, 0.01987006515264511, -0.03854474052786827, -0.025661073625087738, -0.0003808235633186996, -0.009038489311933517, -0.0100744953379035, -0.0054589551873505116, -0.03426789492368698, -0.020839661359786987, 0.002927049295976758, 0.0007828155066817999, 0.03376317396759987, -0.03341783583164215, -0.01325556542724371, 0.029698841273784637, 0.0201091431081295, -0.04337943345308304, -0.005996881518512964, -0.024332860484719276, 0.0042602429166436195, 0.002599976724013686, 0.019551293924450874, -0.0062492419965565205, 0.0012775748036801815, 0.02651113085448742, 0.002530245576053858, -0.0173066146671772, -0.008394305594265461, 0.0006429380737245083, -0.024744607508182526, -0.019484883174300194, -0.013328616507351398, -0.006564692594110966, 0.01921924203634262, 0.02555481716990471, 0.01551352720707655, -0.011123782955110073, -0.01409233920276165, 0.02633846178650856, -0.023934397846460342, -0.012279328890144825, 0.008673230186104774, -0.020706839859485626, 0.004144024569541216, 0.02388126775622368, -0.005163427907973528, 0.0014228480868041515, -0.023748448118567467, 0.012000404298305511, 0.008161868900060654, 0.009616261348128319, 0.01686830446124077, -0.020441196858882904, 0.02746744267642498, -0.023442957550287247, 0.02903473563492298, -0.007145785726606846, 0.0035961365792900324, 0.014729881659150124, 0.00223637861199677, 0.020786533132195473, -0.0189137514680624, -0.014543931931257248, 0.01563306711614132, 0.023894550278782845, 0.015500244684517384, -0.011482400819659233, -0.006787167862057686, 0.029831662774086, 0.0012618022738024592, -0.03317875787615776, -0.03793376311659813, -0.025222763419151306, 0.01173476129770279, 0.017691796645522118, -0.019338781014084816, 0.03317875787615776, -0.0035861749202013016, 0.017665231600403786, 0.0028075100854039192, 0.019232522696256638, -0.0009139765170402825, -0.000581923290155828, -0.03655242174863815, -0.010399906896054745, 0.03363035246729851, -0.00010729469795478508, -0.002000620821490884, 0.0011223399778828025, -0.004250281490385532, -0.022287413477897644, 0.01782461814582348, -0.00600352231413126, -0.003390263533219695, 0.01984350197017193, -0.031106747686862946, 0.0027510609943419695, -0.6498680114746094, -0.010419830679893494, -0.018010567873716354, -0.022260848432779312, 0.033258453011512756, -0.009682672098279, 0.016562815755605698, 0.019830219447612762, -0.014915831387043, 0.0014228480868041515, -0.015526808798313141, 0.0008392645395360887, 0.00307481293566525, -0.0006533147534355521, -0.010937833227217197, -0.01604481227695942, 0.01260474044829607, -0.002419007709249854, -0.017837898805737495, 0.004207114689052105, -0.012020327150821686, 0.003901625517755747, 0.023177316412329674, 0.004897785373032093, -0.010240521281957626, -0.01960442215204239, 0.007484479807317257, -0.031133310869336128, -0.005133543163537979, -0.011316373944282532, -0.02692287601530552, 0.018037131056189537, 0.009881904348731041, 0.014198596589267254, 0.046540580689907074, -0.02805185690522194, -0.010599139146506786, 0.024200038984417915, 0.0329662449657917, 0.03256778046488762, 0.00013053842121735215, -0.010127623565495014, 0.021012328565120697, -0.0028938439209014177, -0.022924955934286118, -0.0013414950808510184, 0.031186439096927643, -0.001191240968182683, 0.021131867542862892, 0.018594980239868164, 0.0038617791142314672, -0.002563450951129198, 0.0005420768866315484, 0.002035486279055476, -0.003572892863303423, -0.008693153969943523, 0.0450795479118824, -0.01462362427264452, 0.002990139415487647, 0.012471919879317284, -0.007696994114667177, 0.01551352720707655, 0.0034035455901175737, -0.0006682571256533265, -0.005007362924516201, -0.0031246209982782602, -0.009277567267417908, 0.023828139528632164, 0.05716628581285477, -0.00921779777854681, 0.023376546800136566, 0.010678832419216633, -0.004416307900100946, -0.00020203363965265453, 0.02041463367640972, 0.013375104404985905, 0.032169315963983536, 0.005259723402559757, -0.0022679236717522144, -0.010937833227217197, 0.009822134859859943, -0.006289088167250156, -0.005136863328516483, 0.01293015293776989, 0.019298933446407318, -0.000159074246766977, -0.01867467351257801, 0.0213443823158741, 0.014397827908396721, -0.013049691915512085, -0.01580573432147503, 0.03426789492368698, -0.006129702553153038, -0.004379782360047102, 0.01867467351257801, 0.014995523728430271, -0.03185054659843445, -0.016947997733950615, 0.0253423023968935, -0.030522333458065987, 0.017399588599801064, -0.007105939090251923, 0.011362861841917038, -0.011024167761206627, 0.03801345452666283, -0.019099701195955276, -0.01761210337281227, 0.0030216844752430916, 0.018103541806340218, -0.04505298286676407, -0.004037767183035612, -0.011044090613722801, 0.008879103697836399, 0.008254843764007092, 0.016708917915821075, -0.020427914336323738, -0.00018844021542463452, -0.010658908635377884, -0.005761123728007078, -0.01908642053604126, 0.017864463850855827, 0.010194034315645695, 0.0229515191167593, 0.0011472438927739859, 0.017837898805737495, 0.0016494744922965765, -0.003609418636187911, -0.043698206543922424, -0.011681633070111275, -0.010658908635377884, 0.007464556489139795, 0.016363583505153656, 0.019073138013482094, 0.00616622855886817, 0.01060578040778637, 0.012352379970252514, 0.011110501363873482, -0.003592815948650241, 0.02746744267642498, -0.016124505549669266, -0.004675309639424086, 0.007597377989441156, -0.018183235079050064, -0.004034447018057108, -0.001317421207204461, -0.037296220660209656, 0.007006323430687189, -0.02032165788114071, -0.017014408484101295, 0.004496000707149506, 0.007046169601380825, -0.0015498584834858775, -0.000323129293974489, 0.013654028996825218, 0.0023791613057255745, -0.0100744953379035, -0.01060578040778637, -0.03448040783405304, -0.012259405106306076, -0.01867467351257801, 0.014424392022192478, 0.026139231398701668, -0.019856782630085945, -0.003217595862224698, 0.0042037940584123135, 0.005791008472442627, -0.009091617539525032, 0.026936158537864685, -0.01919267699122429, -0.026776771992444992, 0.007444633636623621, -0.018515288829803467, -0.001547368010506034, 0.030495768412947655, -0.0004416308074723929, 0.02548840641975403, -0.028503449633717537, -0.013773567974567413, -0.016443276777863503, -0.0010833237320184708, 0.028848784044384956, 0.02106545679271221, 0.0022795454133301973, -0.01239886786788702, 0.03211618959903717, -0.013468079268932343, 0.031345825642347336, 0.0323021374642849, -0.004409667104482651, 0.0189137514680624, 0.0026215603575110435, 0.0027178556192666292, 0.018422313034534454, 0.009224439039826393, -0.002536886604502797, 0.008633384481072426, -0.012704356573522091, 0.011316373944282532, 0.002855657832697034, 0.024093782529234886, 2.262112684547901e-05, 0.0007022926001809537, 0.023682037368416786, 0.011216757819056511, 0.01409233920276165, -0.0009305792045779526, 0.004602257627993822, -0.027679957449436188, 0.016708917915821075, -0.00017744094657246023, -0.0022430196404457092, -0.014278288930654526, -0.015486963093280792, -0.011296451091766357, 0.02603297308087349, 0.012737561948597431, 0.025395430624485016, 0.014291571453213692, 0.017147228121757507, -0.015526808798313141, -0.009881904348731041, 0.009065053425729275, -0.000882431457284838, 0.0033952442463487387, 0.02038806863129139, -0.0007134993793442845, 0.027387751266360283, -0.0028423757757991552, 0.004618860315531492, -0.024611786007881165, 0.015194755978882313, 0.0120734553784132, 0.005143504589796066, 0.01830277405679226, 0.033258453011512756, 0.00561834080144763, 0.00676392437890172, -0.007696994114667177, 0.017558975145220757, -0.015433833934366703, 0.013986081816256046, -0.005628302227705717, 0.02514307014644146, -0.018422313034534454, 0.01563306711614132, 0.006820373237133026, 0.00485793873667717, 0.007059451658278704, -0.014889267273247242, -0.010665549896657467, 0.002500360831618309, 0.010765166021883488, -0.015141627751290798, -0.009775646962225437, 0.004764963872730732, -0.011953916400671005, 0.0004802319745067507, 0.003871740773320198, -0.004755002446472645, 0.033710043877363205, 0.016058094799518585, -0.0026863105595111847, 0.002799208741635084, 0.032408393919467926, 0.013182513415813446, -0.011316373944282532, -0.02599312737584114, -0.016987843438982964, -0.014052492566406727, -0.015951836481690407, -0.016018247231841087, -0.02073340304195881, 0.002516963519155979, -0.004034447018057108, 0.03732278198003769, -0.004117459990084171, 0.009264285676181316, 0.020680274814367294, 0.01754569262266159, 0.013946236111223698, -0.023788293823599815, -0.03208962455391884, 0.03482574224472046, 0.0094568757340312, 0.0022662633564323187, -0.019179394468665123, -0.005767764523625374, 0.010778447613120079, -0.008699794299900532, 0.020746685564517975, 6.054783079889603e-05, 0.017027689144015312, -0.006501602474600077, -0.00070851860800758, -0.001763202715665102, -0.005957034882158041, 0.03665867820382118, -0.03599457070231438, 0.019112983718514442, -0.00429344829171896, 0.0036293419543653727, -0.009649466723203659, -0.0006313162157312036, 0.0022861864417791367, 0.05647561326622963, -0.010227239690721035, -0.004522564820945263, -0.017691796645522118, 0.0031046976801007986, -0.00576444435864687, -0.0337897352874279, -0.030283255502581596, -0.009742441587150097, 0.0060765743255615234, 0.00435985904186964, 0.01912626624107361, -0.0205607358366251, -0.014039210975170135, 0.021145150065422058, -0.006375422235578299, -0.0077301994897425175, -0.008062252774834633, -0.006378742400556803, 0.00487454142421484, 0.1134825125336647, 0.027440879493951797, 0.003345436416566372, -5.992523074382916e-05, 0.0250102486461401, 0.017798053100705147, -0.027679957449436188, -0.02855657786130905, 0.006431871093809605, -0.022566337138414383, 0.010858140885829926, 0.0017598820850253105, 0.0008865821291692555, -0.02021540142595768, 0.024638349190354347, -0.014796292409300804, -0.006348857656121254, -0.021317817270755768, 0.0213443823158741, -0.010101059451699257, 0.006488319952040911, -0.007630583364516497, -0.0020952560007572174, 0.022393669933080673, -0.013189154677093029, -0.02158346027135849, -0.011176912114024162, 0.02364218980073929, 0.002027184935286641, -0.019112983718514442, 0.0035961365792900324, 0.008148586377501488, 0.0015872144140303135, 0.010373342782258987, 0.008547049947082996, -0.005644904915243387, 0.013514566235244274, 0.008201714605093002, 0.010765166021883488, -0.017970720306038857, 0.017054254189133644, -0.0014386206166818738, 0.013109461404383183, -0.013707157224416733, 0.004642104264348745, -0.013481360860168934, -0.006873501930385828, 0.031053617596626282, -0.011641786433756351, -0.029831662774086, 0.014477521181106567, -0.015911990776658058, 0.00815522763878107, -0.004426269792020321, 0.003619380295276642, 0.019285650923848152, -0.015194755978882313, 0.02058730088174343, 0.0016112882876768708, 0.004678630270063877, -0.011701555922627449, -0.021902231499552727, 0.0025335662066936493, -0.011495683342218399, -0.027759650722146034, -0.03772124648094177, -0.016775328665971756, -0.011575375683605671, -0.042609069496393204, 0.00661782082170248, -0.021437356248497963, -0.027520572766661644, -0.011588658206164837, 0.004698553122580051, 0.019790371879935265, 0.02004273235797882, 0.01014090608805418, -0.032753732055425644, 0.017027689144015312, 0.011502323672175407, 0.010426471941173077, -0.0002839055086951703, -0.0006342216511256993, -0.02199520543217659, -0.00695983599871397, 0.0012518407311290503, 0.010532728396356106, 0.0026398231275379658, -0.011555452831089497, 0.004303409717977047, -0.017705079168081284, 0.005067132413387299, -0.0030847745947539806, -0.030602026730775833, -0.004994080401957035, 0.006644385401159525, -0.014265007339417934, 0.003944792319089174, -0.0006715776398777962, -0.008181791752576828, 0.02516963519155979, -0.028795655816793442, 0.008048970252275467, -0.013049691915512085, 0.008540409617125988, -0.016576098278164864, 0.015819016844034195, 0.003220916260033846, -0.018727801740169525, -0.009177951142191887, 0.014118903316557407, 0.004110819194465876, 0.013388385996222496, -0.01847544126212597, -0.009669390507042408, 0.011389425955712795, 0.013654028996825218, 0.028795655816793442, -0.02195535972714424, 0.004329974297434092, -0.02123812399804592, -0.004027805756777525, 0.007052810862660408, -0.007696994114667177, -0.015898708254098892, 0.022433515638113022, -0.02206161618232727, -0.005123581271618605, -0.02251320891082287, 0.015792451798915863, 0.011389425955712795, -0.0037887273356318474, -0.022021770477294922, -0.01322236005216837, -0.024718042463064194, -0.021291254088282585, 0.007437992375344038, -0.003129601711407304, -0.032036494463682175, 0.007995842024683952, -0.023270290344953537, -0.0003756352234631777, -0.009709236212074757, -0.004223716910928488, 0.002943651983514428, -0.029512891545891762, -0.006740680430084467, -0.0056847515515983105, 0.0014842780074104667, 0.017984002828598022, -0.018462160602211952, -0.020919354632496834, -0.008965437300503254, 0.013441515155136585, -0.02384142205119133, -0.019763808697462082, -0.01782461814582348, 0.01077180728316307, 0.04731094464659691, 0.018355902284383774, 0.03280685842037201, -0.0022695837542414665, 0.022247565910220146, 0.001974056474864483, -0.028503449633717537, -0.009729159995913506, -0.01884734071791172, -0.01747928187251091, -0.037269655615091324, -0.007338376250118017, 5.9354515542509034e-05, 0.02251320891082287, 0.003948112949728966, -0.008799410425126553, -0.010466317646205425, 0.003337135072797537, -0.011130424216389656, -0.0025070018600672483, -0.01710738241672516, -0.03280685842037201, 0.0019840181339532137, 0.0033122310414910316, 0.010486241430044174, -0.013680593110620975, 0.005937112029641867, -0.0346132293343544, 0.04093552380800247, 0.00879276916384697, 0.007471197750419378, 0.01402592845261097, 0.035144515335559845, -0.026697080582380295, 0.01462362427264452, -0.0068137324415147305, -0.0009006944019347429, -0.017984002828598022, 0.009629543870687485, 0.0020753326825797558, -0.022393669933080673, -0.007803251035511494, 0.003828573739156127, -0.012292610481381416, -0.010472958907485008, 0.0012983281631022692, -0.025939999148249626, 0.017147228121757507, 0.005266364198178053, 0.01302976906299591, 0.024067217484116554, -0.003891663858667016, -0.0022048335522413254, -0.02275228686630726, -0.01328877080231905, -0.03671180456876755, -0.008573614060878754, 0.012903588823974133, -0.00781653355807066, 0.01117027085274458, 0.00205706967972219, -0.05217220261693001, -0.0012593119172379375, -0.029061298817396164, 0.010725319385528564, 0.0014610341750085354, 0.014211878180503845, 0.02527589164674282, -0.008473998866975307, -0.03339127451181412, 0.010512805543839931, 0.006398665718734264, 0.0031013772822916508, 0.013016486540436745, -0.008248202502727509, 0.01289694756269455, 0.013282129541039467, -0.010725319385528564, 0.016775328665971756, -0.024598503485322, -0.020720122382044792, 0.03564923629164696, 0.0033221927005797625, 0.022247565910220146, -0.019989604130387306, -0.04266219958662987, -0.009257644414901733, 0.024983685463666916, -0.03458666428923607, 0.0030233447905629873, -0.01696127839386463, -0.02093263529241085, -0.03402881696820259, 0.009888545610010624, 0.004416307900100946, 0.04707186669111252, 0.0057179564610123634, 0.00942367035895586, 0.007305171340703964, -0.01186758279800415, -0.01967083290219307, -0.015234602615237236, 0.0011323015205562115, 0.012438714504241943, -0.0253423023968935, -0.008626743219792843, 0.01504865288734436, 0.008241561241447926, 0.014065775088965893, -0.0014286590740084648, -0.012943435460329056, 0.02442583627998829, -0.011688273400068283, -0.01856841705739498, 0.0011198495049029589, 0.018701238557696342, -0.002433950314298272, 0.013421591371297836, -0.017731642350554466, 0.015951836481690407, 0.0019342100713402033, -0.0036891114432364702, 0.03198336809873581, -0.0012941774912178516, 0.00542242918163538, -0.0015158230671659112, 0.007670429535210133, -0.01836918480694294, -0.007059451658278704, 0.025594662874937057, -0.013268847018480301, -0.03886350989341736, -0.026869747787714005, -0.03224901109933853, -0.006860219873487949, 0.005774405784904957, -0.003094736021012068, 0.012339098379015923, -0.013308693654835224, 0.015340859070420265, -0.02377501130104065, 0.014796292409300804, 0.003682470414787531, 0.007537608500570059, -0.03171772509813309, 0.009629543870687485, 0.02223428525030613, -0.007192273158580065, 0.009928391315042973, -0.0013232320779934525, -0.01741287112236023, -0.027972163632512093, -0.0009322394616901875, 0.022805416956543922, 0.0037953683640807867, -0.02746744267642498, 0.00974908284842968, -0.0005495480727404356, -0.0005756972823292017, -0.004828053992241621, -0.019750526174902916, 0.012969999574124813, 0.00038891733856871724, 0.027440879493951797, 0.02288510836660862, -0.01402592845261097, -0.010439753532409668, 0.0016876605805009604, 0.003911586944013834, -0.0014062453992664814, -0.03679149970412254, 0.004618860315531492, -0.012631304562091827, 0.011362861841917038, -0.00140043452847749, -0.0010609100572764874, -0.009005283936858177, -0.003327173413708806, -0.016257327049970627, 0.002100236713886261, -0.00749112106859684, 0.016788611188530922, -0.008148586377501488, 0.012060173787176609, 0.0019923194777220488, -0.010625703260302544, 0.0022679236717522144, 0.0124652786180377, 0.002365879248827696, 0.0008168509812094271, -0.026351744309067726, -0.03612739220261574, 0.020985763520002365, 0.02421332150697708, 0.01600496657192707, -0.021902231499552727, 0.007809891831129789, 0.008766205050051212, -0.045371752232313156, -0.01438454631716013, -0.011880864389240742, 0.02927381359040737, 0.026723643764853477, 0.006475037895143032, 0.025421995669603348, 0.017877746373414993, -0.003179409774020314, 0.006299050059169531, -0.0046587069518864155, -0.00808881688863039, 0.013441515155136585, 0.0032607626635581255, -0.018687956035137177, 0.0012211257126182318, -0.019418472424149513, -0.02257961966097355, 0.015447116456925869, -0.019046572968363762, -0.008852539584040642, 0.005880662705749273, 0.002053749281913042, -0.033364709466695786, -0.026657233014702797, -0.023416394367814064, 0.013521207496523857, -0.0012742542894557118, 0.001109057804569602, -0.021291254088282585, -0.02329685539007187, 0.0031528454273939133, -0.0023326738737523556, -0.021968642249703407, 0.010008084587752819, 0.0310270544141531, 0.013016486540436745, 0.03195680305361748, -0.039766695350408554, -0.023628907278180122, 0.011927352286875248, 0.0005985259776934981, 0.02377501130104065, 0.0037057141307741404, 0.013448156416416168, -0.006113099865615368, -0.0018395748920738697, -0.029326941817998886, -0.006581295281648636, 0.023655472323298454, -0.024585220962762833, 0.021610025316476822, 0.02325700782239437, -0.020135708153247833, 0.014291571453213692, -0.02807842195034027, 0.019777091220021248, -0.003327173413708806, 0.0010310253128409386, -0.009164669550955296, -0.006192792672663927, -0.0329662449657917, 0.020016169175505638, 0.018488723784685135, -0.0034932000562548637, -0.002902145264670253, 0.016323737800121307, 0.006471717730164528, -0.012750844471156597, -0.006471717730164528, -0.00540582649409771, -0.0057876878418028355, -0.010951115749776363, 0.0075044031254947186, -0.00957641564309597, -0.0426887646317482, 0.00474504055455327, 0.016297172755002975, -0.012704356573522091, 0.004233678802847862, 0.22590245306491852, -0.009065053425729275, -0.025302456691861153, 0.009855340234935284, -0.010765166021883488, -0.0020769929978996515, -0.00011632240057224408, 0.018993444740772247, 0.0017798052867874503, 0.0077634043991565704, -0.01117027085274458, 0.010446394793689251, -0.016881586983799934, 0.002201512921601534, 0.030362946912646294, -0.003453353652730584, -0.006833655759692192, -0.030283255502581596, -0.012551612220704556, -0.06768573075532913, 0.02069355733692646, 0.004794848617166281, -0.0012568214442580938, -0.013368463143706322, -0.0014419411309063435, 0.006445153150707483, 9.987538942368701e-05, -0.017213638871908188, 0.01257153507322073, 0.010180751793086529, -0.02147720381617546, -0.010526087135076523, 0.00868651270866394, 0.011807813309133053, -0.003652585670351982, 0.021370945498347282, 0.04361851140856743, -0.000481892260722816, -0.003911586944013834, -0.004944272805005312, 0.028795655816793442, -0.03721652552485466, 0.03599457070231438, 0.01867467351257801, 0.02733462303876877, 0.027494007721543312, -0.014357982203364372, -0.017293332144618034, 0.0006387874018400908, 0.012405509129166603, -0.032886553555727005, -0.003748880932107568, 0.022287413477897644, 0.045371752232313156, 0.011070654727518559, -0.02431957796216011, 0.00678052706643939, -0.0012418790720403194, 0.005067132413387299, 0.005302890203893185, 0.004286807030439377, 0.021902231499552727, 0.013514566235244274, 0.003355397842824459, 0.0026580861303955317, 0.04231686517596245, -0.022685876116156578, -0.019033290445804596, 0.013879825361073017, 0.01061906199902296, 0.022805416956543922, 0.002048768335953355, -0.025780612602829933, 0.009111540392041206, -0.013879825361073017, -0.006192792672663927, 0.026869747787714005, 0.010306932032108307, 0.01236566249281168, 0.009144745767116547, -0.011223399080336094, 4.417864329298027e-05, 0.004529206082224846, -0.01758553832769394, -0.02004273235797882, -0.01836918480694294, 0.02562122792005539, -0.0028689398895949125, -0.011349579319357872, 0.011415990069508553, 0.010612421669065952, -0.01438454631716013, -0.0028158114291727543, 0.01737302541732788, 0.02353593334555626, -0.004047729074954987, 0.016735482960939407, 0.008175150491297245, 0.004881182685494423, -0.013640746474266052, -0.027653392404317856, -0.057485055178403854, -0.01385326124727726, -0.009636185131967068, 0.0009754063794389367, -0.0019159471848979592, -0.007119221147149801, 0.018103541806340218, -0.002674688817933202, -0.022074898704886436, -0.0021517048589885235, -0.023549215868115425, 0.0069797588512301445, -0.015752606093883514, -0.003282346297055483, 0.0124652786180377, -0.0009878583950921893, -0.001410396071150899, 0.018010567873716354, 0.004569052718579769, -0.008341177366673946, -0.007497761864215136, -0.004051049239933491, 0.014039210975170135, -0.004990760236978531, -0.03960730880498886, -0.021702999249100685, 0.003318872069939971, -0.0017432795139029622, -0.018727801740169525, -0.0013962838565930724, -0.02164987102150917, -0.009363900870084763, 0.013189154677093029, -0.012737561948597431, 0.03309906646609306, 0.024917274713516235, -0.01713394746184349, 0.0004146514693275094, -0.007145785726606846, 0.004917708225548267, -0.0031877111177891493, -0.00822827871888876, 0.01963098719716072, 0.003991279751062393, -0.024718042463064194, 0.021437356248497963, -0.017080819234251976, -0.020507607609033585, -0.024439118802547455, -0.01641671173274517, 0.006056651007384062, -0.01921924203634262, 0.016297172755002975, 0.029459763318300247, -0.012950075790286064, -0.013707157224416733, -0.015274448320269585, 0.004921028856188059, -0.02069355733692646, -0.04574365168809891, -0.009330695495009422, 0.01943175494670868, -0.032753732055425644, 0.001854517264291644, 0.0005711315898224711, -0.1692674607038498, 0.02199520543217659, 0.007617301307618618, -0.007617301307618618, 0.004595616832375526, -0.007696994114667177, 0.030867667868733406, -0.0010152527829632163, -0.02842375636100769, 0.005880662705749273, -0.0010318554705008864, 0.029911356046795845, -0.026218922808766365, -0.009569774381816387, -0.017864463850855827, -0.00781653355807066, -0.018010567873716354, 0.007497761864215136, 0.008952154777944088, 0.0007774196565151215, 0.014636906795203686, -0.028476884588599205, 0.0025319058913737535, -0.0037522015627473593, 0.006010163575410843, 0.0024405913427472115, -0.027865907177329063, 0.010366701520979404, -0.004200473427772522, -0.01990991272032261, -0.01299656368792057, -0.0013074596645310521, 0.02028181217610836, -0.017572257667779922, -0.007471197750419378, -0.01433141715824604, 0.019166111946105957, -0.011156988330185413, -0.0032524613197892904, 0.03878381848335266, 0.031691160053014755, 0.02903473563492298, 0.026630669832229614, -0.005023965612053871, -0.01884734071791172, 0.008952154777944088, 0.0008940533152781427, -0.005073773209005594, 0.017452718690037727, -0.014769727364182472, -0.003288987325504422, -0.010546010918915272, 0.01621747948229313, 0.01557993795722723, 0.011216757819056511, 0.000564075424335897, 0.004678630270063877, 0.017386307939887047, 0.016615943983197212, -0.011356220580637455, -0.005296248942613602, -0.011628503911197186, 0.004618860315531492, -0.003798688994720578, 0.017040971666574478, 0.001736638369038701, -0.006129702553153038, 0.018581699579954147, -0.02438598871231079, -0.016735482960939407, -0.019723962992429733, 0.003284006379544735, 0.007690352853387594, 0.010433112271130085, 0.005425749812275171, 0.022035052999854088, -0.03153177350759506, 0.02948632650077343, 0.0065879360772669315, -0.0057810465805232525, -0.028344063088297844, 0.035728927701711655, -0.038836944848299026, -0.007876303046941757, 0.035728927701711655, -0.008467357605695724, -0.004615540150552988, -0.00038331394898705184, -0.0005072113126516342, -0.006385383661836386, 0.010665549896657467, -0.037986889481544495, -0.007132503669708967, -0.013468079268932343, 0.009270926006138325, 0.014172031544148922, 0.007358299568295479, 0.01183437742292881, 0.01063898578286171, -0.013972800225019455, 0.01743943616747856, -0.020268529653549194, -0.011681633070111275, 0.00616622855886817, 0.028822220861911774, 0.03440071642398834, 0.01014090608805418, 0.015247884206473827, 0.018209800124168396, -0.00022309826454147696, -0.0217561274766922, 0.017625385895371437, -0.0006296559586189687, 0.004618860315531492, 0.010034648701548576, 0.03208962455391884, -0.006428550463169813, -0.04760315269231796, -0.0005167578347027302, 0.012199635617434978, 0.03482574224472046, 0.006561371963471174, 0.009124822914600372, 0.01641671173274517, -0.02281869761645794, -0.013056333176791668, -0.11241994053125381, -0.02093263529241085, 0.002875580918043852, 0.012764126062393188, -0.0031063579954206944, 0.023655472323298454, -0.008374382741749287, 0.0043067303486168385, -0.024332860484719276, 0.022739006206393242, 0.0353570282459259, -0.031930238008499146, -0.016536250710487366, -0.02305777743458748, 0.03968700394034386, -0.009908468462526798, 0.02558138035237789, -0.031797416508197784, -0.00600352231413126, 0.007916148751974106, -0.0011962217977270484, 0.0056847515515983105, -0.007836456410586834, -0.014743163250386715, -0.014052492566406727, 0.016642507165670395, -0.01063898578286171, 0.020680274814367294, 0.03248808905482292, 0.010028007440268993, 0.009994802065193653, 0.007623942103236914, -0.014570496045053005, -0.006405306980013847, -0.005644904915243387, -0.024279732257127762, -0.026829902082681656, 0.0026232204400002956, 0.0004019919433631003, -0.030655154958367348, -0.008374382741749287, 0.00921779777854681, 0.010526087135076523, -0.04234342649579048, -0.004190512001514435, 0.0066975136287510395, -0.014424392022192478, 0.03458666428923607, 0.026258770376443863, -0.015486963093280792, 0.0012800651602447033, -0.019139548763632774, -0.01433141715824604, -0.02099904604256153, 0.03684462606906891, -0.004220396745949984, 0.018143389374017715, 0.02842375636100769, -0.010712036862969398, 0.014490802772343159, -0.010519446805119514, 0.007796609774231911, -0.00812202226370573, 0.012817255221307278, 0.004921028856188059, 0.002374180592596531, -0.010838217101991177, -0.002199852606281638, 0.014743163250386715, -0.011037449352443218, -0.016297172755002975, 0.022035052999854088, -0.013149308040738106, 0.010034648701548576, -0.0014568836195394397, 0.0012842158321291208, -0.013600900769233704, -0.004662027582526207, 0.02041463367640972, -0.017359742894768715, 0.002409046282991767, -0.031797416508197784, -0.0006927460781298578, -0.007285248022526503, -0.012591458857059479, 0.019896630197763443, 0.014570496045053005, -0.001864478923380375, 0.0055054426193237305, -0.040244851261377335, 0.010446394793689251, 0.0034035455901175737, 0.0237351655960083, -0.02401408925652504, -0.006229318678379059, 0.022805416956543922, -0.0241469107568264, -0.010506164282560349, -0.006162907928228378, 0.022924955934286118, -0.013454796746373177, 0.007039528340101242, -0.06625126302242279, 0.023031212389469147, 0.0010127623099833727, -0.0019292292417958379, 0.00752432644367218, -0.025063378736376762, 0.01299656368792057, -0.02568763867020607, -0.012292610481381416, 0.01741287112236023, -0.010087776929140091, 0.017426153644919395, 0.003626021323725581, -0.007703634910285473, 0.013567695394158363, 0.001519973622635007, -0.01621747948229313, 0.0009787268936634064, -0.008566973730921745, 0.009602979756891727, 0.004917708225548267, 0.00043997052125632763, -0.010937833227217197, 0.01902000978589058, -0.000240946130361408, 0.010937833227217197, 0.017505846917629242, 0.03463979437947273, 0.002644804073497653, -0.022154591977596283, 0.022353824228048325, -0.0082614840939641, -0.013421591371297836, 0.025050096213817596, -0.014185314066708088, -0.008181791752576828, 0.01743943616747856, 0.006431871093809605, -0.010805012658238411, 0.04019172489643097, 0.004562411457300186, -0.0053261336870491505, 0.043352868407964706, 0.006411947775632143, -0.001982357818633318, -0.00163785251788795, -0.004140703938901424, 0.01024716254323721, 0.031106747686862946, 0.023389829322695732, 0.0033288337290287018, 0.0321427546441555, -0.0003256197087466717, -0.024718042463064194, -0.004280166234821081, -0.01402592845261097, 0.029805097728967667, 0.008082175627350807, 0.0011522247223183513, -0.04468108341097832, 0.027786213904619217, 0.012266046367585659, -0.01296335831284523, -0.020361503586173058, 0.003483238397166133, -0.004051049239933491, -0.017040971666574478, -0.00358285428956151, 0.005525365937501192, -0.02586030587553978, -0.017904309555888176, -0.006651026196777821, -0.0002272489364258945, 0.01809025928378105, -0.0073250941932201385, -0.003026665188372135, -0.0330459363758564, 0.011316373944282532, -0.0027211762499064207, 0.024239886552095413, 0.01522132009267807, 0.0038817021995782852, -0.013335257768630981, 0.011070654727518559, 0.019033290445804596, 0.0028905232902616262, 0.01806369610130787, 0.010466317646205425, -0.017080819234251976, 0.0029403313528746367, 0.03440071642398834, -0.007537608500570059, 0.0033886032178997993, -0.007604019250720739, 0.014198596589267254, 0.021370945498347282, -0.015367423184216022, -0.006093177013099194, 0.007132503669708967, 0.004227037541568279, 0.001554009155370295, -0.00978228822350502, -0.0034068662207573652, -0.018515288829803467, -0.023589061573147774, 0.016376866027712822, -0.004273524973541498, -0.05031270533800125, -0.01734646037220955, -0.012950075790286064, -0.004054369870573282, 0.0006014314130879939, 0.014105621725320816, 0.012312534265220165, 0.0003754276840481907, 0.0023426355328410864, 0.0021317817736417055, -0.0022214362397789955, -0.031133310869336128, 0.027108825743198395, -0.0006072423420846462, 0.011555452831089497, 0.020308375358581543, -0.015115063637495041, -0.013195795938372612, 0.0028490168042480946, 0.014012646861374378, -0.010731960646808147, -0.015261166729032993, -0.003302269382402301, 0.0031694481149315834, -0.006358819548040628, -0.013680593110620975, -0.0018163311760872602, 0.009516645222902298, -0.005694712977856398, 0.016775328665971756, -0.003792047966271639, -0.026537694036960602, 0.03984638676047325, 0.020427914336323738, -0.027547135949134827, 0.016841739416122437, -0.001299988362006843, 0.01717379316687584, 0.013448156416416168, 0.0012750844471156597, -0.02192879468202591, 0.0068070911802351475, 0.02996448427438736, 0.007584095932543278, 0.03200993314385414, 0.0030598705634474754, -0.022632747888565063, 0.008009123615920544, 0.0025153032038360834, -0.007431351579725742, -0.031903672963380814, -0.017864463850855827, 0.0500204972922802, 0.004492680076509714, 0.028822220861911774, 0.012033608742058277, -0.031691160053014755, -0.004207114689052105, 0.000441215728642419, -0.020308375358581543, -0.0018030490027740598, -0.03734934702515602, 0.003991279751062393, -0.0010982661042362452, -0.057006899267435074, -0.022685876116156578, 0.014743163250386715, -0.004598937463015318, -0.01391967199742794, -0.0017665232298895717, 0.0305754616856575, 0.001655285363085568, -0.011582016944885254, 0.012159788981080055, -0.016921432688832283, 0.007105939090251923, 0.015672912821173668, 0.006946553476154804, -0.0008048140443861485, -0.015234602615237236, -0.00044619652908295393]\n"
     ]
    }
   ],
   "source": [
    "query = \"\"\"\n",
    "At length did cross an Albatross,\n",
    "Thorough the fog it came;\n",
    "As if it had been a Christian soul,\n",
    "We hailed it in God's name.\n",
    "\n",
    "It ate the food it ne'er had eat,\n",
    "And round and round it flew.\n",
    "The ice did split with a thunder-fit;\n",
    "The helmsman steered us through!\n",
    "\n",
    "And a good south wind sprung up behind;\n",
    "The Albatross did follow,\n",
    "And every day, for food or play,\n",
    "Came to the mariner's hollo!\n",
    "\n",
    "In mist or cloud, on mast or shroud,\n",
    "It perched for vespers nine;\n",
    "Whiles all the night, through fog-smoke white,\n",
    "Glimmered the white Moon-shine.'\n",
    "\n",
    "'God save thee, ancient Mariner!\n",
    "From the fiends, that plague thee thus!—\n",
    "Why look'st thou so?'—With my cross-bow\n",
    "I shot the ALBATROSS.\n",
    "\"\"\"\n",
    "\n",
    "query_embedding_response = client.embeddings.create(\n",
    "        model=\"text-embedding-ada-002\",\n",
    "        input=query,\n",
    "    )\n",
    "query_embedding_stc = query_embedding_response.data[0].embedding\n",
    "\n",
    "print(query_embedding_stc)"
   ]
  },
  {
   "cell_type": "markdown",
   "metadata": {},
   "source": [
    "[Source:\n",
    "The Ballad of Reading Gaol\n",
    "](https://www.poetryfoundation.org/poems/45495/the-ballad-of-reading-gaol)"
   ]
  },
  {
   "cell_type": "code",
   "execution_count": 25,
   "metadata": {},
   "outputs": [
    {
     "name": "stdout",
     "output_type": "stream",
     "text": [
      "[0.007581125479191542, -0.01954539865255356, 0.007316282484680414, -0.018777355551719666, 0.003777320496737957, 0.040441498160362244, -0.004604954272508621, -0.0077466522343456745, -0.001812517992220819, -0.006614448968321085, 0.0066045173443853855, 0.015758147463202477, -0.011249198578298092, -0.004111684858798981, 0.03310535103082657, 0.033846911042928696, 0.048201389610767365, 0.022167343646287918, 0.006280085071921349, -0.026735881343483925, -0.018565481528639793, 0.01154052559286356, -0.0003759526589419693, -0.004436117131263018, -0.01428826991468668, -0.011586872860789299, 0.022763239219784737, -0.02449795976281166, 0.029318099841475487, -0.024776045233011246, -0.008547801524400711, -0.00507836090400815, -0.030059659853577614, -0.002737812465056777, -0.030615828931331635, -0.00032588079920969903, -0.004098442383110523, -0.0056113568134605885, 0.018154975026845932, -0.025914868339896202, 0.02207464911043644, 0.007250071968883276, -0.0035952411126345396, -0.028338180854916573, -0.026749124750494957, 0.005634530913084745, -0.0008797746850177646, 0.010540744289755821, -0.014380964450538158, 0.0023951721377670765, 0.027887947857379913, 0.00027498131385073066, -0.009461509063839912, -0.006448922213166952, 0.02116093970835209, -0.010110374540090561, 0.013063371181488037, 0.02157144621014595, 0.019823484122753143, -0.0044725327752530575, -0.011858336627483368, -0.004366595763713121, -0.0076936837285757065, -0.011811989359557629, -0.011355135589838028, -0.01758556254208088, -0.015691936016082764, -0.013526846654713154, -0.019571883603930473, 0.005137950647622347, 0.02735826186835766, 0.02433905377984047, -0.0035621358547359705, 0.014500143937766552, 0.025517605245113373, -0.019571883603930473, -0.027053693309426308, -0.00947475153952837, 0.008666981011629105, 0.01018320582807064, 0.015996506437659264, -0.01754583604633808, -0.01131540909409523, 0.0350651890039444, 0.00029443070525303483, -0.008263095282018185, 0.0016271279891952872, 0.04396390542387962, -0.00109661475289613, -0.02318698726594448, 0.012871360406279564, -0.0009021208388730884, 0.005164434667676687, 0.00861401204019785, 0.007985010743141174, 0.005296856164932251, -0.01668509654700756, -0.0026401516515761614, -0.016844002529978752, -0.022445427253842354, -0.008177021518349648, 0.006650865077972412, -0.014606080949306488, -0.013162687420845032, -0.02474956028163433, -0.03114551492035389, -0.004667854402214289, 0.00038774643326178193, 0.013771826401352882, -0.011196229606866837, 9.693660831544548e-05, 0.02010156959295273, 0.017863648012280464, -0.04187164828181267, 0.006832944694906473, -0.030721766874194145, 0.005515351425856352, -0.009858774021267891, -0.014155847951769829, -0.006578033324331045, -0.003197976853698492, 0.01338118314743042, 0.017625289037823677, -0.0344560481607914, 0.02480252832174301, 0.011838473379611969, -0.023372378200292587, 0.004234174266457558, 0.004075268749147654, -0.01612892746925354, 0.029768330976366997, 0.02187601663172245, 0.02489522472023964, -0.013718857429921627, 0.011262440122663975, 0.009719731286168098, -0.0082697169855237, 0.005406104028224945, -0.012235737405717373, -0.02868247590959072, 0.009355572052299976, 0.027993885800242424, 5.8865451137535274e-05, -0.013612920418381691, -0.0018489338690415025, 0.011070429347455502, 0.028152789920568466, 0.0023819301277399063, 0.014804713428020477, -0.022670544683933258, 0.027040451765060425, -0.025914868339896202, 0.04838678240776062, -0.017770953476428986, 0.014698776416480541, 0.017400173470377922, -0.0036482096184045076, 0.03395284712314606, -0.005872889421880245, -0.0355948731303215, -0.0023604114539921284, 0.015691936016082764, 0.01834036409854889, -0.015585999004542828, 0.015943536534905434, 0.011586872860789299, 0.02873544581234455, 0.0013813207624480128, -0.014659049920737743, -0.031728167086839676, -0.000995643436908722, 0.013718857429921627, -0.016340801492333412, 0.023571010679006577, -0.009574067778885365, 0.03053637593984604, 0.021200666204094887, 0.023173745721578598, -0.02383585274219513, -0.01106380857527256, -0.03352909907698631, 0.004641370382159948, 0.02873544581234455, 0.035462453961372375, -0.019876452162861824, -0.010805586352944374, -0.019638095051050186, -0.018366849049925804, 0.00440963264554739, 0.003482682863250375, -0.010679786093533039, -0.0069322604686021805, -0.023319410160183907, 0.00166933739092201, -0.6534202098846436, -0.02101527713239193, -0.01810200698673725, -0.013639404438436031, 0.011123398318886757, 0.008799402043223381, 0.008249853737652302, 0.03599213808774948, -0.0028073338326066732, 0.006548238452523947, 0.0005938272224739194, 0.017453141510486603, 0.0068594287149608135, -0.014619323424994946, -0.02015453763306141, 0.001953215803951025, 0.010580469854176044, -0.014857681468129158, -0.005565009545534849, -0.020075084641575813, -0.0052869245409965515, 0.010772481560707092, -0.00646547507494688, -0.02121390961110592, 0.012209253385663033, -0.01247409638017416, 0.005134639795869589, -0.03299941495060921, -0.01085855532437563, -0.0010055750608444214, -0.0331583209335804, 0.017810678109526634, -0.006925639696419239, 0.010798965580761433, 0.04716850444674492, 0.0004800276074092835, -0.006141042802482843, 0.0054127248004078865, 0.020896097645163536, 0.03119848296046257, -0.010136858560144901, -0.004465912003070116, -0.008587528020143509, 0.005045255646109581, -0.005386240780353546, 0.006419127807021141, 0.04703608155250549, -0.011553767137229443, 0.006723696831613779, 0.01679103448987007, 0.02847060188651085, 0.0009128800593316555, -0.0025226278230547905, 0.00919666700065136, -0.0010784068144857883, -0.004462601151317358, 0.042004071176052094, -0.0075678834691643715, -0.005071739666163921, 0.016671855002641678, -0.0070381974801421165, 0.0005661015165969729, -0.005134639795869589, 0.006422438193112612, -0.00015642278594896197, 0.003949468489736319, 0.013387803919613361, 0.011196229606866837, 0.004561917390674353, 0.01358643639832735, 0.02852356992661953, 0.003863394493237138, -0.01905544102191925, -0.02051207609474659, 0.013824794441461563, -0.0006501063471660018, 0.021942226216197014, 0.009666762314736843, -0.0007974251639097929, -0.016512949019670486, -0.00555507792159915, -0.01207021065056324, -0.021253636106848717, 0.0066243805922567844, 0.019227588549256325, 0.004661233630031347, -0.021611172705888748, 0.006521753966808319, 0.0165394339710474, -0.01176564209163189, -0.019995631650090218, 0.016354043036699295, -0.006445611827075481, 0.00763409398496151, 0.0034032301045954227, 0.016844002529978752, 0.00764733599498868, -0.008057842962443829, 0.021955469623208046, -0.03029801696538925, 0.026576975360512733, -0.025729479268193245, -0.0052339560352265835, -0.0004936835612170398, 0.015797873958945274, -0.003764078486710787, -0.005809989292174578, -0.0068792919628322124, 0.024180147796869278, -0.031277935951948166, -0.0004725788894575089, 0.010017679072916508, 0.006925639696419239, 0.005296856164932251, -0.00418120576068759, -0.014460417442023754, 0.0381108820438385, 0.018433060497045517, 0.021227151155471802, -0.042825084179639816, 0.004263969138264656, 0.036919087171554565, -0.012116558849811554, 0.0030142422765493393, 0.01925407163798809, 0.022048164159059525, -0.01406315341591835, -0.018075522035360336, -0.006064900197088718, -0.011394862085580826, 0.0044228751212358475, -0.0013291798532009125, 0.0355948731303215, -0.002231300575658679, 0.017916616052389145, -0.003678004490211606, 0.022710271179676056, 0.001706580864265561, 0.029053255915641785, -0.02116093970835209, -0.027940915897488594, -0.002189918886870146, -0.0047075808979570866, -0.003317156108096242, 0.009666762314736843, -0.038428690284490585, -0.016499707475304604, -0.020988792181015015, -0.013169309124350548, -0.008958308026194572, 0.00022470256953965873, -0.0035753778647631407, -0.02701396681368351, -0.022445427253842354, -0.02363722026348114, -0.005912615917623043, -0.009766078554093838, -0.012705833651125431, -0.008739812299609184, -0.02565002627670765, 0.004932697396725416, 0.02519979327917099, -0.02706693485379219, -0.004211000632494688, -0.0041679637506604195, -0.006846186704933643, 0.005651083309203386, 0.00947475153952837, 0.01033549103885889, -0.03466792404651642, 0.034853313118219376, 0.0032972930930554867, -0.0006240358925424516, 0.014698776416480541, -0.007322903722524643, 0.01247409638017416, -0.010011058300733566, -0.009766078554093838, -0.007528156973421574, 0.008051221258938313, 0.011706052348017693, 0.0024680038914084435, -0.011884820647537708, 0.003110247664153576, 0.021399298682808876, 0.007283177226781845, 0.012493959628045559, 0.011931168846786022, 0.0001917006738949567, 0.0036945571191608906, -0.0011967584723606706, -0.01020306907594204, -0.00786583125591278, 0.01959836855530739, 0.00290333922021091, 0.037925489246845245, 0.006015242543071508, 0.02923864684998989, -0.0007436289452016354, 0.030324501916766167, 0.011957652866840363, 0.03013911098241806, 0.030907155945897102, 0.0023090981412678957, 0.008349169977009296, -0.020194264128804207, 0.011355135589838028, -0.01103732455521822, 0.03633643314242363, 0.0002671187976375222, -0.009156940504908562, -0.018486028537154198, -0.019121650606393814, -0.014778228476643562, 0.014301511459052563, 0.024934951215982437, 0.010044164024293423, 0.007541398983448744, -0.005574941169470549, -0.006028484553098679, 0.004114995244890451, 0.02020750567317009, 0.0070580607280135155, 0.006270153447985649, -0.008084326982498169, 0.010414943099021912, 0.008931824006140232, 0.010580469854176044, 0.0017429967410862446, -0.01582435704767704, -0.0087464340031147, 0.013540089130401611, 0.01207021065056324, 0.006015242543071508, -0.005455761682242155, -0.00924963504076004, -0.0005081671406514943, -0.019267315044999123, 0.0319400429725647, -0.010534122586250305, 0.0012406230671331286, 0.010944629088044167, 0.02227327972650528, -0.028311695903539658, 0.011507419869303703, -0.0013953906018286943, -0.0002431174216326326, 0.007415598724037409, -0.022167343646287918, 0.016658613458275795, 0.00530347740277648, 0.013851279392838478, -0.012242359109222889, -0.0012472440721467137, 0.004240795504301786, -0.026087015867233276, -0.0008011495228856802, 0.00413485849276185, -0.0071110292337834835, 0.012805149890482426, 0.00740897748619318, -0.0002117707917932421, 0.021889258176088333, 0.011123398318886757, 0.004992287140339613, 0.004267279990017414, -0.010044164024293423, -0.0013134548207744956, -0.01598326303064823, -0.003325432538986206, 0.0013043507933616638, -0.004532122518867254, 0.010745996609330177, 0.00438314862549305, 0.03877298906445503, 0.007687062490731478, 0.012169526889920235, -0.005442519672214985, 0.010242795571684837, 0.014380964450538158, -0.012917707674205303, -0.036256980150938034, 0.024524444714188576, 0.012540306895971298, -0.006392643321305513, -0.010103752836585045, -0.004297074396163225, 0.012262222357094288, -0.009554204531013966, 0.03644236922264099, 0.0020757054444402456, 0.011951032094657421, -0.00598544767126441, -0.012553549371659756, 0.010467912070453167, -0.013877763412892818, 0.016115685924887657, -0.039832357317209244, 0.02071070857346058, -0.012189390137791634, -0.017559077590703964, 0.004760549403727055, -0.003245979780331254, 0.008077705278992653, 0.05710010975599289, -0.004747307393699884, -0.0057934364303946495, -0.011262440122663975, 0.013328214175999165, -0.02746419981122017, -0.01683076098561287, 0.006617759820073843, -0.02243218570947647, 0.012215874157845974, 0.013069992884993553, 0.00904438178986311, -0.0156257264316082, -0.011606736108660698, 0.041103605180978775, -0.015254945494234562, 0.0064290594309568405, -0.0028222312685102224, -0.01571842096745968, -0.011553767137229443, 0.11833176761865616, 0.04814842343330383, 0.0032823956571519375, 0.005548456683754921, 0.03395284712314606, -0.02474956028163433, -0.016671855002641678, -0.015254945494234562, 0.016751307994127274, 0.003803804749622941, 0.014659049920737743, -0.006640933454036713, -0.0018472785595804453, 0.0032161849085241556, -0.001585746300406754, -0.010196448303759098, -0.015254945494234562, -0.01950567215681076, 0.0019962526857852936, -0.006978608202189207, 0.013705615885555744, 0.003360193222761154, -0.006763423327356577, 0.010236174799501896, -0.02963590994477272, -0.03244324401021004, 0.007667199242860079, 0.018870050087571144, 0.014606080949306488, -0.023398863151669502, -0.0019035576842725277, 0.02710666134953499, 0.008322685025632381, 0.0040421634912490845, -0.03215191885828972, 0.009805805049836636, 0.009329088032245636, 0.024881981313228607, 0.028920834884047508, -0.020949065685272217, 0.0009650209685787559, -0.00043161102803424, 0.024524444714188576, -0.01754583604633808, 0.008825886994600296, -0.024762801826000214, 0.004532122518867254, 0.0174928680062294, 0.0032211507204920053, -0.01267272885888815, 0.018486028537154198, -0.004201069008558989, -0.013718857429921627, -0.01403666939586401, 0.0014078050153329968, 0.014394206926226616, -0.012805149890482426, 0.012580033391714096, -0.010414943099021912, 0.044784918427467346, -0.002618633210659027, -0.03260214999318123, -0.0017032703617587686, -0.008713328279554844, -0.017506109550595284, -0.008633875288069248, -0.013321593403816223, -0.007958526723086834, -0.029371067881584167, -0.007740030996501446, -0.014182332903146744, -0.02177007868885994, -0.010176585055887699, -0.0006261049420572817, 0.021134456619620323, -0.002259440254420042, 0.020048601552844048, -0.0013821483589708805, -0.0005901028634980321, 0.004290453623980284, -0.013983700424432755, -0.006495269946753979, 0.008885476738214493, -0.010560606606304646, -0.011878199875354767, 0.010527501814067364, 0.003697867738083005, -0.006280085071921349, -0.010851934552192688, 0.01571842096745968, -0.009368814527988434, 0.023120777681469917, -0.007316282484680414, -0.024180147796869278, 0.015254945494234562, -0.004502327647060156, -0.003178113605827093, 0.020644497126340866, 0.016354043036699295, -0.01451338641345501, 0.025477878749370575, -0.040891729295253754, 0.0025176620110869408, -0.010030921548604965, 0.029291614890098572, -0.020432623103260994, 0.03487979993224144, 0.03556839004158974, -0.007713546976447105, -0.008627254515886307, -0.012037105858325958, -0.00172644411213696, 0.009812425822019577, -0.004194448236376047, 0.0005818265490233898, -0.002165090059861541, 0.024166906252503395, 0.021028518676757812, 0.01431475393474102, -0.0056676361709833145, -0.01318255066871643, -0.019174618646502495, 0.012454233132302761, -0.001812517992220819, -0.021637657657265663, -0.005727225914597511, -0.005217403173446655, -0.02081664465367794, -0.007561262231320143, 0.013573193922638893, 0.00555507792159915, -0.0034727512393146753, -0.007481809239834547, -0.007256693206727505, -0.023862337693572044, -0.0059953792952001095, 0.006495269946753979, 0.011659705080091953, -0.01704263500869274, -0.0066806599497795105, -0.009481372311711311, -0.017969584092497826, -0.012990539893507957, -0.03784603625535965, 0.0037806311156600714, -0.030960123986005783, 2.9277545763761736e-05, -0.0030158974695950747, -0.01808876357972622, 0.006568101700395346, -0.02304132468998432, -0.015480061993002892, -0.013043507933616638, 0.02298835664987564, -0.0077665154822170734, -0.03143684193491936, -0.004214311018586159, -0.00032650152570568025, 0.021280119195580482, 0.018962744623422623, 0.035912685096263885, -0.006892533972859383, 0.023623978719115257, 0.010110374540090561, -0.024458233267068863, -0.0026169780176132917, 0.004429495893418789, -0.006180769298225641, -0.015797873958945274, 0.036309950053691864, 0.019929422065615654, 0.006141042802482843, -0.000539617205504328, -0.010090511292219162, 0.007978389970958233, 0.005578251555562019, -0.0016354043036699295, -0.004816828761249781, -0.023703431710600853, -0.02762310579419136, -0.012434369884431362, -0.003371780039742589, 0.01679103448987007, -0.016671855002641678, -0.006058279424905777, -0.006131111178547144, 0.05058497563004494, -0.0036813151091337204, -0.01318255066871643, -0.024113938212394714, 0.01683076098561287, -0.026497522369027138, 0.015109281986951828, -0.016340801492333412, 0.01618189550936222, -0.021809805184602737, -0.007077923975884914, 0.003413161728531122, -0.0003252600727137178, 0.0056113568134605885, 0.0077665154822170734, -0.007124271709471941, -0.017148571088910103, -0.017201540991663933, -0.02263081818819046, 0.020181022584438324, -0.0078128632158041, 0.00902451854199171, 0.021002035588026047, 0.0016511293360963464, -0.013540089130401611, -0.03209894895553589, -0.016592402011156082, -0.0290797408670187, -0.014672291465103626, -0.006170837674289942, 0.012460853904485703, 0.0008996379328891635, -0.00011897235526703298, -0.041209541261196136, -0.00871994998306036, -0.006445611827075481, 0.006134421564638615, 0.011805368587374687, 0.01970430463552475, 0.008607391268014908, -0.015585999004542828, -0.028099821880459785, 0.008190263994038105, 0.033846911042928696, -0.007740030996501446, 0.021399298682808876, 0.0055616991594433784, -0.005257129669189453, 0.004671165253967047, -0.025689752772450447, 0.01704263500869274, -0.03387339413166046, -0.029000287875533104, 0.030774734914302826, -0.0006641761283390224, -0.013142824172973633, -0.010501017794013023, -0.003479372477158904, -0.01864493452012539, 0.019320283085107803, -0.025941353291273117, -0.014380964450538158, -0.02065773867070675, -0.033846911042928696, -0.036468856036663055, -0.011335272341966629, -0.012593275867402554, 0.025239519774913788, 0.007554640993475914, -0.01965133659541607, -0.00671376520767808, -0.016062716022133827, -0.0044725327752530575, 0.011931168846786022, -0.0026831887662410736, 0.015850841999053955, -0.015347640961408615, -0.019174618646502495, 0.01013023778796196, 0.003433024976402521, 0.0022015059366822243, -0.008733191527426243, -0.023822611197829247, 0.027080178260803223, -0.006866049952805042, -0.0015013277297839522, -0.004211000632494688, -0.0036680728662759066, -0.01128892507404089, 0.034244176000356674, 0.00020452900207601488, 0.0017032703617587686, 0.007826104760169983, -0.0011355135357007384, 0.017598804086446762, -0.0049260761588811874, -0.00266498071141541, 1.0190240573137999e-05, -0.00486317602917552, -0.01704263500869274, -0.02802036888897419, 0.0017148571787402034, 0.004525501746684313, -0.021107971668243408, -0.033635035157203674, -0.031013093888759613, 0.0021104661282151937, 0.020723950117826462, -0.009567446075379848, 0.01451338641345501, 0.0031135582830756903, 0.046744756400585175, -0.012825013138353825, 0.021902499720454216, 0.007898936979472637, -0.003926294855773449, -0.03800494223833084, 0.0018207943066954613, -0.000263187539530918, -0.0018605206860229373, 0.008574285544455051, -0.00601193169131875, -0.018817082047462463, -0.01859196461737156, 0.007958526723086834, 0.005386240780353546, 0.0003898155118804425, -0.024524444714188576, 0.0016842347104102373, 0.004393080249428749, 0.001356491819024086, 0.007356008980423212, -0.011732536368072033, 0.011467693373560905, -0.01177226286381483, 0.014579596929252148, 0.017612047493457794, -0.02257785014808178, -0.004379837773740292, 0.006233737803995609, 0.010891660116612911, -0.00030684523517265916, -0.02308105118572712, -0.001579125295393169, 0.009209908545017242, 0.007428840734064579, 0.0006583826616406441, -0.03543596714735031, 0.005346514284610748, 0.01453987043350935, -0.015215218998491764, 0.019333524629473686, 0.017625289037823677, -1.7664808183326386e-05, 0.008839128538966179, -0.01322889793664217, -0.021333089098334312, -0.00715737696737051, -0.0009079142473638058, 0.017214782536029816, 0.010560606606304646, -0.014380964450538158, -0.03734283521771431, -0.037925489246845245, -0.01244761236011982, 0.035859715193510056, 0.0025838727597147226, -0.01277204416692257, -0.025570573285222054, 0.004700959660112858, -0.04263969138264656, -0.006303258705884218, -0.020326685160398483, 0.02460389770567417, 0.03299941495060921, 0.024458233267068863, -0.016896970570087433, 0.01804903708398342, 0.006773354951292276, 0.012805149890482426, -0.0029480315279215574, -0.0015137421432882547, -0.0005768607370555401, 0.004260658752173185, -0.0068594287149608135, 0.023120777681469917, -0.014155847951769829, -0.012229116633534431, 0.005929168313741684, 0.006892533972859383, -0.00037450427771545947, -0.010097132064402103, -0.007938663475215435, -0.015307914465665817, 0.010414943099021912, -0.014619323424994946, 0.012321812100708485, -0.0018737629288807511, -0.00975283607840538, -0.012440990656614304, 0.00026525661814957857, -0.007759894244372845, 0.005843094550073147, -0.01894950307905674, 0.008925202302634716, 0.031834106892347336, -0.013692373409867287, -0.0040951319970190525, -0.03029801696538925, -0.008825886994600296, 0.02061801217496395, 0.005409414414316416, 0.038031429052352905, -0.011712673120200634, -0.0012323467526584864, 0.010295764543116093, 0.0015211908612400293, -0.0025954595766961575, -0.005190919153392315, 0.012460853904485703, -0.02081664465367794, -0.023769641295075417, -0.005025392398238182, -0.01161335688084364, 0.004240795504301786, -0.019068682566285133, 0.024233117699623108, -0.00241338019259274, 0.01081220805644989, -0.03864056617021561, -0.02011481113731861, -0.02952997386455536, 0.027649588882923126, 0.002499453956261277, 0.0010717856930568814, 0.004406322259455919, -0.01849927008152008, -0.01808876357972622, -0.01088503934442997, -0.042215943336486816, -0.016420254483819008, -0.012123179621994495, -0.009646899066865444, 0.010209690779447556, -0.008282958529889584, -0.022908903658390045, -0.01383803691715002, 0.008984792046248913, -0.005644462537020445, 0.019465945661067963, 0.24259601533412933, 0.003817046992480755, -0.012361538596451283, 0.009527720510959625, 0.0004266452160663903, -0.00035381343332119286, 0.01638052798807621, -0.007289798464626074, -0.016552675515413284, -0.011143261566758156, 0.01138824038207531, 0.017704742029309273, -0.00414479011669755, 0.011752399615943432, 0.013281866908073425, -0.029503488913178444, -0.012103316374123096, -0.015453577972948551, 0.003245979780331254, -0.07314958423376083, 0.003803804749622941, 0.018154975026845932, -0.008640496991574764, -0.019134892150759697, 0.009064245037734509, 0.026550492271780968, -0.0024067589547485113, -0.017717983573675156, 0.015188734978437424, 0.011951032094657421, -0.02116093970835209, 0.029291614890098572, 0.003211219096556306, -0.01810200698673725, -0.00670383358374238, 0.0037210413720458746, 0.02388882078230381, -0.0036084833554923534, -0.0023769643157720566, -0.0026682913303375244, 0.02529248781502247, -0.012262222357094288, -0.009944847784936428, -0.0019217656226828694, 0.006491959560662508, 0.019081924110651016, -0.0096998680382967, -1.4509454558719881e-05, -0.019174618646502495, 0.03408527001738548, -0.021942226216197014, -0.010772481560707092, 0.05604073777794838, 0.056464485824108124, 0.011262440122663975, -0.016552675515413284, 0.0006393470684997737, 0.013222277164459229, -0.010964492335915565, 0.00811081100255251, 0.0023753088898956776, -0.00510153453797102, 0.01272569689899683, 0.014447174966335297, -0.008236611261963844, 0.023981517180800438, -0.018830323591828346, -0.019267315044999123, -0.00645223306491971, -0.018975988030433655, -0.01905544102191925, 0.0004990631714463234, -0.010871797800064087, -0.008779538795351982, -0.03766064718365669, 0.002572285709902644, 0.025226278230547905, 0.002764296717941761, 0.018962744623422623, 0.006958744954317808, 0.008706707507371902, -0.023769641295075417, 0.026192953810095787, -0.010501017794013023, -0.025954594835639, -0.0024282776284962893, 0.020988792181015015, 0.006793218199163675, -0.013639404438436031, 0.010448048822581768, 0.0139307314530015, 0.005144571419805288, 0.0018936260603368282, -0.0018870050553232431, 0.009329088032245636, -0.007965147495269775, 0.021531719714403152, 0.0028089890256524086, -0.0032029426656663418, -0.02561029978096485, -0.010871797800064087, -0.04753928259015083, 0.009282740764319897, -0.004363285377621651, -0.012970676645636559, 0.01065992284566164, -0.006793218199163675, 0.007428840734064579, 0.0029232024680823088, -0.02092258259654045, -0.008878855034708977, -0.007190482225269079, -0.013010403141379356, -0.011275682598352432, 0.01501658745110035, -0.01383803691715002, -0.022365976125001907, -0.004604954272508621, 0.008892097510397434, -0.005402793176472187, 0.005210782401263714, -0.006472096312791109, -0.0006306569557636976, 0.0022230243775993586, 0.015149008482694626, -0.014248543418943882, -0.017969584092497826, -0.018724387511610985, 0.010501017794013023, -0.011785505339503288, 0.016340801492333412, -0.006491959560662508, 0.01358643639832735, 0.013798310421407223, -0.011057186871767044, 0.027093419805169106, -0.006074831821024418, -0.00803797971457243, 0.0036746941041201353, -0.010461291298270226, 0.012301948852837086, -0.00990512128919363, 0.001819138997234404, 0.002853681333363056, 0.016711581498384476, -0.02248515374958515, 0.028205759823322296, -0.03180762007832527, -0.012467475607991219, -0.023107534274458885, -0.018406575545668602, 0.013242140412330627, -0.015572757460176945, -0.003426403971388936, 0.025239519774913788, -0.02696099877357483, -0.017559077590703964, -0.017002908512949944, 0.0024680038914084435, 0.002424967009574175, -0.04258672520518303, 0.0018803839338943362, 0.021611172705888748, -0.0009120524046011269, -0.013599677942693233, -0.013036887161433697, -0.16918158531188965, 0.015149008482694626, 0.029291614890098572, -0.017214782536029816, 0.0312514528632164, 0.009686625562608242, 0.011666325852274895, 0.005452451296150684, -0.002949686720967293, -0.002906649839133024, -0.012811770662665367, 0.0050353240221738815, -0.017678257077932358, -0.002754365326836705, -0.015943536534905434, -0.017161814495921135, -0.01688372902572155, 0.014407448470592499, 0.01542709395289421, 0.02433905377984047, 0.009117214009165764, -0.00395608926191926, 0.012129800394177437, -0.008441864512860775, 0.02026047557592392, 0.001145445159636438, -0.006591275334358215, 0.00924963504076004, -0.008130674250423908, -0.025173308327794075, -0.03146332502365112, 0.008249853737652302, 0.007938663475215435, -0.014950376935303211, 0.015480061993002892, 0.00155926204752177, 0.0014814644819125533, -0.005803368054330349, -0.019214345142245293, 0.029953721910715103, 0.03996478021144867, 0.015307914465665817, -0.005422656424343586, 0.0007957698544487357, -0.005859646946191788, 0.03260214999318123, 0.01481795497238636, -0.010719512589275837, -0.012182769365608692, -0.00646216468885541, -0.013758583925664425, -0.019571883603930473, -0.005869578570127487, 0.013996942900121212, 0.013692373409867287, 0.0007593539776280522, 0.023915305733680725, 0.003717730985954404, -0.017863648012280464, 0.0005421001114882529, -0.016459980979561806, -0.0162348635494709, 0.0077665154822170734, -0.0024564170744270086, -0.008369033224880695, 0.0036614518612623215, -0.01020306907594204, 0.0222203116863966, 0.0002768434933386743, 0.013010403141379356, -0.022657303139567375, -0.00219819531776011, 0.028099821880459785, 0.008554423227906227, 0.021107971668243408, 0.013665889389812946, -0.0035886201076209545, -0.008786160498857498, 0.002600425388664007, 0.014950376935303211, -0.015135766938328743, 0.02746419981122017, -0.031675200909376144, -0.02192898467183113, 0.01930704154074192, 0.013209034688770771, -0.00484993401914835, -0.004343422129750252, 0.0016097476473078132, -0.027782009914517403, -0.0039891949854791164, -0.01884356513619423, -0.016367286443710327, -0.027437714859843254, -0.0065018911845982075, 0.013189172372221947, 0.015188734978437424, -0.011189608834683895, -0.010282522067427635, -0.02358425222337246, 0.0038468418642878532, 0.0012042071903124452, -0.01582435704767704, 0.004565227776765823, 0.018975988030433655, 0.024405265226960182, -0.0022759928833693266, 0.007177240215241909, 0.01729423552751541, -0.0011653084075078368, -0.010474532842636108, 0.019942663609981537, 0.014910650439560413, -0.0023769643157720566, -0.013718857429921627, 0.03442956507205963, 7.640094554517418e-05, -0.022207070142030716, -0.002472969703376293, -0.00990512128919363, 0.05487542971968651, 0.004866486415266991, -0.020631255581974983, 0.011626599356532097, 0.0005036151851527393, -0.01113663986325264, -0.11695458739995956, 0.021743595600128174, 0.009812425822019577, 0.008130674250423908, -0.0014897407963871956, 0.021783320233225822, -0.0033734352327883244, 0.02117418311536312, 0.005707362666726112, 0.005455761682242155, 0.00813729502260685, -0.026232680305838585, -0.004820139147341251, 0.003272464033216238, 0.004621507134288549, -0.012480717152357101, -0.00017556181410327554, -0.04587077349424362, -0.029900753870606422, 0.016208380460739136, 0.011255819350481033, 0.020843129605054855, -0.012666107155382633, -0.03074824996292591, -0.0069322604686021805, 0.009335708804428577, -0.024484718218445778, 0.03405878692865372, 0.012388022616505623, 0.005654394160956144, -0.011633220128715038, 0.004969113040715456, 0.010057405568659306, -0.0009319156524725258, -0.027199355885386467, -0.010898281820118427, -0.033290740102529526, -0.00483669200912118, 0.012440990656614304, -0.03103957697749138, -0.010143479332327843, 0.022763239219784737, 0.029424035921692848, -0.005617978051304817, 0.001235657255165279, 0.006366158835589886, -0.015599241480231285, 0.0337674580514431, 0.01934676803648472, -0.005482246167957783, -0.01312958262860775, 9.62124249781482e-06, -0.011229335330426693, -0.000579343643039465, 0.04301047325134277, -0.008832507766783237, 0.01320241391658783, 0.023160504177212715, -0.004538743756711483, 0.036309950053691864, 0.0006712109898217022, 0.0068594287149608135, 0.01481795497238636, 0.003730972995981574, 0.009554204531013966, 0.0026699465233832598, -0.022418944165110588, 0.006438990589231253, 0.0034959251061081886, -0.009640278294682503, -0.01501658745110035, 0.023875579237937927, -0.019624851644039154, 0.02696099877357483, -0.019876452162861824, -0.008196884766221046, -0.01338118314743042, -0.0033088799100369215, 0.020379655063152313, -0.012573412619531155, -0.028708960860967636, -0.02302808314561844, 0.021584689617156982, -0.029000287875533104, -0.006756802089512348, 0.0004011954879388213, 0.00506511889398098, -0.003558825235813856, -0.0009509511874057353, -0.009481372311711311, -0.0036151043605059385, 0.005670946557074785, 0.014844439923763275, -0.027437714859843254, -0.02282945066690445, 0.021439025178551674, -0.0003680901136249304, -0.008196884766221046, -0.011507419869303703, 0.01778419502079487, -0.03813736513257027, 0.0026103570125997066, -0.056623391807079315, 0.017373688519001007, -0.01955864205956459, -0.02329292520880699, 0.0061741480603814125, -0.008124053478240967, 0.008249853737652302, 0.0015377436066046357, -0.014990103431046009, 0.02338561974465847, 0.000546238268725574, 0.03572729602456093, -0.007806241977959871, -0.008349169977009296, -0.02011481113731861, -0.003433024976402521, -0.012911086902022362, 0.020022116601467133, -0.0003968504024669528, 0.012871360406279564, -0.0066045173443853855, -0.02297511324286461, -0.006710454821586609, 0.010501017794013023, -0.01577138900756836, 0.0165394339710474, 0.003512477735057473, 0.030562860891222954, 0.004201069008558989, -0.016552675515413284, 0.023676946759223938, -0.02902677282691002, 0.006296637933701277, 0.018909776583313942, -0.0010709580965340137, -0.014129363931715488, 0.009819047525525093, 0.012460853904485703, 0.014870923943817616, 0.02414042130112648, -0.026087015867233276, -0.0077996207401156425, 0.03135738894343376, 0.0092231510207057, 0.003565446240827441, 0.01981024257838726, -0.00947475153952837, 0.03013911098241806, 0.03768713027238846, 0.015480061993002892, 0.0020740502513945103, 0.040494464337825775, -0.020088328048586845, -0.0050320131704211235, -0.017717983573675156, 0.0024531064555048943, -0.001026265905238688, -0.008329306729137897, -0.006664107087999582, -0.03657479211688042, 0.03755471110343933, -0.008693465031683445, -0.008322685025632381, -0.025570573285222054, 0.03662776201963425, -0.005310098174959421, -0.002501109382137656, -0.0015509857330471277, 0.008150537498295307, -0.014010184444487095, -0.024471474811434746, -0.002804023213684559, 0.008693465031683445, 0.021597931161522865, -0.00997795257717371, 0.0018572101835161448, 0.022816207259893417, 0.017598804086446762, -0.02232624962925911, 0.006978608202189207, 0.016844002529978752, -0.0029397550970315933, -0.024762801826000214, 0.00904438178986311, 0.020141296088695526, -0.004469222389161587, 0.005766952410340309, 0.011666325852274895, 0.02157144621014595, 0.005776883568614721, 0.008673601783812046, 0.004667854402214289, 0.003909741993993521, 0.0035819991026073694, 0.026908028870821, 0.02171711064875126, -0.030668796971440315, 0.0017827231204137206, 0.03503870218992233, 0.007938663475215435, 0.011811989359557629, -0.004803586285561323, -0.0032823956571519375, 0.00440963264554739, -0.0034197827335447073, 0.016354043036699295, -0.014394206926226616, -0.01961161009967327, -0.005154503043740988, 0.020273717120289803, 0.004303695634007454, -0.005058497656136751, -0.012791907414793968, 0.008640496991574764, -0.018433060497045517, -0.009355572052299976, 0.024166906252503395, -0.012738939374685287, -0.01975727453827858, 0.02913270890712738, 0.008322685025632381, -0.0014020116068422794, 0.023809367790818214, -0.019386494532227516, 0.007680441718548536, 0.01909516751766205, -0.005184297915548086, -0.0012588310055434704, 0.0031003160402178764, -0.02327968366444111, 0.002206471748650074, -0.024656865745782852, -0.020048601552844048, 0.017506109550595284, 0.030112627893686295, -0.019995631650090218, 0.0005847232532687485, 0.008938444778323174, -0.030456922948360443, 0.04007071629166603, 0.017267750576138496, -0.034403081983327866, 0.00836241152137518, -0.002039289567619562, 0.0054690041579306126, -0.010712891817092896, -0.0019019023748114705, -0.017069119960069656, -0.025014404207468033, 0.017678257077932358, 0.006002000067383051, 0.026722639799118042, -0.035912685096263885, -0.025239519774913788, 0.025517605245113373, -0.022697029635310173, 0.005617978051304817, 0.01504307147115469, -0.0010006092488765717, 0.03257566690444946, 0.0059192366898059845, 0.005041944794356823, 0.006051658187061548, -0.004628127906471491, -0.022365976125001907, 0.025371940806508064, 0.002792436396703124, -0.0014806368853896856, -0.02338561974465847, -0.005502109415829182, 0.00786583125591278, -0.028920834884047508, -0.017678257077932358, 0.026073774322867393, -0.010481154546141624, -0.0032343927305191755, -0.014751744456589222, 0.016248106956481934, -0.007150755729526281, -0.028497086837887764, 0.023902064189314842, -0.02902677282691002, -0.016354043036699295, 0.029503488913178444, 0.007971768267452717, -0.01060695480555296, 0.0034429566003382206, -0.02272351272404194]\n"
     ]
    }
   ],
   "source": [
    "query = \"\"\"\n",
    "I walked, with other souls in pain,\n",
    "Within another ring,\n",
    "And was wondering if the man had done\n",
    "A great or little thing,\n",
    "When a voice behind me whispered low,\n",
    "\"That fellow's got to swing.\"\n",
    "\n",
    "Dear Christ! the very prison walls\n",
    "Suddenly seemed to reel,\n",
    "And the sky above my head became\n",
    "Like a casque of scorching steel;\n",
    "And, though I was a soul in pain,\n",
    "My pain I could not feel.\n",
    "\n",
    "I only knew what hunted thought\n",
    "Quickened his step, and why\n",
    "He looked upon the garish day\n",
    "With such a wistful eye;\n",
    "The man had killed the thing he loved,\n",
    "And so he had to die.\n",
    "\n",
    "Yet each man kills the thing he loves,\n",
    "By each let this be heard,\n",
    "Some do it with a bitter look,\n",
    "Some with a flattering word,\n",
    "The coward does it with a kiss,\n",
    "The brave man with a sword!\n",
    "\"\"\"\n",
    "\n",
    "query_embedding_response = client.embeddings.create(\n",
    "        model=\"text-embedding-ada-002\",\n",
    "        input=query,\n",
    "    )\n",
    "query_embedding_ow = query_embedding_response.data[0].embedding\n",
    "\n",
    "print(query_embedding_ow)"
   ]
  },
  {
   "cell_type": "markdown",
   "metadata": {},
   "source": [
    "[Source:\n",
    "The Most Beautiful Woman In Town\n",
    "](https://mypoeticside.com/show-classic-poem-4429)"
   ]
  },
  {
   "cell_type": "code",
   "execution_count": 26,
   "metadata": {},
   "outputs": [
    {
     "name": "stdout",
     "output_type": "stream",
     "text": [
      "[-0.018734490498900414, 0.011964713223278522, 0.045759063214063644, -0.013362300582230091, -0.022893166169524193, 0.02253865636885166, 0.025892866775393486, 0.003804165171459317, -0.00537219038233161, -0.03362391144037247, 0.018093645572662354, 0.02765178121626377, 0.012830535881221294, -0.01637563481926918, 0.008099189959466457, 0.0035962313413619995, 0.04600449278950691, 0.01523029524832964, 0.01508031040430069, -0.019688941538333893, -0.008699130266904831, 0.016771050170063972, -0.00885593332350254, 0.011603385210037231, -0.023043151944875717, 0.008719583041965961, 0.02444755658507347, -0.009128632955253124, -0.010410322807729244, -0.028115371242165565, -0.020302515476942062, -0.001318334136158228, -0.0005620176671072841, -0.00025437798467464745, -0.042241230607032776, -0.038341622799634933, -0.006565252784639597, -0.017207371070981026, -0.013416840694844723, -0.0017418713541701436, 0.007117470260709524, -0.020684296265244484, -0.0030593532137572765, 0.001632791361771524, -0.024979321286082268, 0.03116961196064949, -0.0253338310867548, 0.005995991639792919, -0.015530265867710114, 0.02698366530239582, 0.032314952462911606, 0.010567125864326954, -0.015093945898115635, 0.0036882676649838686, -0.007628782652318478, -0.015639346092939377, 0.03149685263633728, 0.007512885145843029, 0.002687799511477351, 0.009653580375015736, 0.0020469543524086475, 0.0048301988281309605, -0.011644290760159492, 0.005678977817296982, -0.014834880828857422, -0.009844470769166946, -0.025920135900378227, -0.009346792474389076, -0.035178299993276596, -0.00028036971343681216, 0.028060831129550934, 0.023656725883483887, -0.0016643222188577056, 0.0010200685355812311, 0.040250521153211594, -0.01569388620555401, -0.013335030525922775, 0.0026332593988627195, 0.005760787986218929, 0.020029816776514053, 0.014016781002283096, -0.009599040262401104, -0.029151631519198418, 0.031578660011291504, 0.01206015795469284, 0.01430311519652605, 0.0005500870756804943, 0.04903146252036095, -0.015393915586173534, -0.027038205415010452, 0.008330984972417355, 0.018748125061392784, 0.001075460691936314, 0.009244530461728573, 0.015066675841808319, 0.033214859664440155, 0.004151857458055019, 0.028497152030467987, 0.009585405699908733, 0.006340275518596172, 0.003062762087211013, 0.013014608062803745, -0.003418976441025734, -0.01238058041781187, 0.003355914494022727, -0.015298470854759216, 0.014725800603628159, -0.012312405742704868, -0.00288891582749784, 0.004097317811101675, -0.008992282673716545, 0.026506440714001656, 0.015203026123344898, -0.027379080653190613, -0.002135582035407424, -0.008146912790834904, 0.011119343340396881, -0.017166465520858765, -0.013675905764102936, -0.004291616380214691, -0.003964376635849476, 0.019443510100245476, 0.019348066300153732, -0.009189990349113941, 0.017848215997219086, 0.024965686723589897, -0.010533037595450878, 0.005747152958065271, 0.004445010330528021, -0.0024866831954568624, 0.03714174032211304, 0.006023261696100235, 0.04325022175908089, -0.0044484189711511135, 0.001715453458018601, -0.005184709094464779, -0.02896074205636978, -0.008753670379519463, -0.003988237585872412, -0.041886720806360245, 0.016511986032128334, 0.016566526144742966, 0.003113893326371908, -0.00408709142357111, 0.011951077729463577, 0.007458345498889685, 0.023902155458927155, -0.0006421232828870416, 0.016811955720186234, -0.009333157911896706, 0.04068684205412865, -0.0028803939931094646, -0.003814391326159239, -0.02762451209127903, -0.005205161403864622, 0.01933443173766136, -0.017207371070981026, 0.013410023413598537, -0.009674033150076866, 0.00545400008559227, -0.01366908848285675, 0.029315251857042313, 0.024597540497779846, -0.011623837985098362, 0.0043359301052987576, 0.03700539097189903, 0.0019225351279601455, -0.014766705222427845, 0.01107843779027462, -0.005252883769571781, -0.001158122904598713, 0.02607012167572975, -0.022579561918973923, 0.025892866775393486, 0.0031837725546211004, 0.021420586854219437, 0.015966584905982018, 0.014862150885164738, -0.011964713223278522, -0.025947406888008118, -0.027501795440912247, 0.025497451424598694, 0.024488460272550583, 0.015434821136295795, -0.013471380807459354, -0.028115371242165565, 0.005917590111494064, -0.0063334577716887, 0.0012203325750306249, 7.344791083596647e-05, -0.006555026397109032, 0.01831180602312088, 0.006831135135143995, -0.018789030611515045, -0.6378998756408691, -0.012953250668942928, -0.002164556412026286, -0.008453700691461563, 0.0250338613986969, 0.016825590282678604, 0.00913545023649931, -0.012680551037192345, -0.03182408958673477, 0.024924781173467636, -0.010887548327445984, 0.011432947590947151, -0.0007388466037809849, 0.021406950429081917, -0.03272400051355362, -0.023874886333942413, 0.00881502777338028, -0.010410322807729244, -0.026206471025943756, 0.007540155202150345, 0.007744680158793926, 0.020002545788884163, 0.001716305734589696, -0.005965312942862511, 0.016757415607571602, -0.021979620680212975, 0.025824692100286484, -0.01540755107998848, -0.005010862834751606, 0.007301542907953262, -0.01926625519990921, 0.011303415521979332, -0.015475725755095482, 0.006735690403729677, 0.05688522383570671, -0.022729545831680298, -0.0020759287290275097, 0.020084355026483536, 0.007417440414428711, 0.03266946226358414, -0.01827090047299862, -0.004615447483956814, -0.01569388620555401, -0.0004150153254158795, -0.015502995811402798, -0.010233067907392979, 0.007376535329967737, 0.004506367724388838, -0.004445010330528021, 0.019361700862646103, 0.03332393988966942, 0.009224077686667442, 0.022415941581130028, -0.006575479172170162, 0.004629082512110472, 8.825467375572771e-05, 0.027856307104229927, -0.029097091406583786, 0.0006378623656928539, 0.00819463562220335, 0.007990110665559769, 0.009864922612905502, -0.016566526144742966, -0.01107843779027462, 0.0037223552353680134, 0.0025650844909250736, -0.018420886248350143, -0.00770377553999424, 0.014943961054086685, 0.015134850516915321, 0.017480071634054184, 0.014084955677390099, -0.029615221545100212, -0.0032195644453167915, -0.009012735448777676, 0.02732454054057598, -0.009128632955253124, 0.004738162737339735, 0.0027525657787919044, -0.00699475547298789, 0.010362600907683372, -0.02185690589249134, -0.015216660685837269, 0.01994800567626953, 0.021038806065917015, -0.015666615217924118, -0.02252502180635929, 0.016198379918932915, 0.009735390543937683, 0.006544800475239754, -0.022293226793408394, 0.014862150885164738, -0.009210443124175072, 0.020670661702752113, -0.0016097822226583958, 0.037032660096883774, -0.013130505569279194, 0.00041288486681878567, -0.0043222950771451, -0.033842071890830994, 0.005317650269716978, -0.02819718047976494, 0.018829936161637306, -0.0015501291491091251, -6.812174251535907e-05, -0.005191526375710964, -0.016866495832800865, 0.01281690038740635, 0.02958795055747032, -0.017589149996638298, -2.729663174250163e-05, -0.009912645444273949, 0.009912645444273949, -0.020766105502843857, -0.016252920031547546, -0.017739135771989822, 0.0201934352517128, 0.0008317350293509662, 0.006094845477491617, -0.029724301770329475, 0.01109889056533575, -0.005464226473122835, -0.002979247597977519, -0.02504749596118927, 0.015284835360944271, 0.0037905301433056593, -0.009442238137125969, -0.0011121047427877784, -0.008460517972707748, -0.013812256045639515, 0.00553921889513731, -0.0003293704940006137, 0.022852260619401932, -0.01512121595442295, 0.006118706427514553, -0.018502695485949516, 0.01026715524494648, 0.007587878033518791, 0.018243631348013878, -0.030296972021460533, -0.00960585754364729, -0.014248576015233994, 0.006128932815045118, 0.009394515305757523, -0.016880130395293236, -0.03866886347532272, -0.004206397570669651, -0.03116961196064949, -0.010301242582499981, 0.02887893095612526, 0.001366908778436482, -0.010362600907683372, -0.018161820247769356, -0.001158975064754486, 0.0053619639948010445, 0.0016285304445773363, -0.01188972033560276, 0.002050363225862384, -0.01795729622244835, -0.02598831057548523, 0.005014271475374699, 0.03662361204624176, -0.031633201986551285, -0.005194935016334057, 0.004352973774075508, -0.002314541256055236, 0.014821245335042477, 0.022088700905442238, 0.0039064278826117516, -0.036105480045080185, 0.018039105460047722, -0.02755633555352688, -0.019961640238761902, -0.00380757381208241, -0.030706021934747696, 0.01010353583842516, -0.014357655309140682, 0.004949505440890789, -0.0112147880718112, -0.00046145953820087016, 0.0221296064555645, -0.03206952288746834, -0.033923882991075516, 0.0008257697336375713, 0.03280581161379814, -0.008487788029015064, 0.0020946769509464502, 0.010996627621352673, -0.005382416304200888, 0.04205034300684929, 0.005000636447221041, -0.020466135814785957, -0.013246403075754642, 0.009687667712569237, -0.015830235555768013, -0.012162420898675919, 0.01641654036939144, 0.01607566513121128, 0.011957895942032337, 0.019675305113196373, -0.005846006330102682, -0.0016234172508120537, -0.0076560527086257935, 0.010798920877277851, 0.015543900430202484, -0.01829817146062851, 0.006217560265213251, -0.025252021849155426, 0.02792448177933693, -0.02050704136490822, -0.004107543732970953, -0.005038132891058922, 0.0006122967461124063, -0.009558135643601418, 0.0010013203136622906, 0.025797421112656593, 0.01028760802000761, 0.019443510100245476, 0.013907700777053833, 0.02155693620443344, -0.0005662786425091326, 0.01640290580689907, -0.011644290760159492, 0.014180400408804417, -0.00434274785220623, -0.008842297829687595, 0.015816600993275642, -0.020452501252293587, -0.007942387834191322, -0.005290380213409662, -0.01542118564248085, 0.0086786774918437, 0.020343421027064323, 0.00047978159273043275, -0.011105707846581936, -0.02350674197077751, 0.023861251771450043, -0.013485015369951725, 0.020288880914449692, -0.01491669099777937, 0.0035416914615780115, 0.0017572107026353478, 0.012101063504815102, -0.012326040305197239, -0.013955422677099705, 0.0062618739902973175, 0.010648935101926327, 0.017480071634054184, 0.001193914795294404, 0.028169911354780197, 0.01737099140882492, -0.004697257652878761, -0.009660397656261921, -0.007587878033518791, 0.008010562509298325, -0.019157174974679947, 0.0035485089756548405, 0.01897992007434368, 0.0224295761436224, 0.04744980111718178, -0.007894665002822876, -0.003258765209466219, 0.013607730157673359, -0.01927989162504673, 0.009449055418372154, 0.009721755050122738, 0.00836507324129343, -0.020343421027064323, -0.019729845225811005, 0.01106480322778225, -0.0020384325180202723, -0.02402487024664879, -0.025292925536632538, 0.018829936161637306, 0.024202127009630203, 0.0041757188737392426, 0.007799220271408558, 0.001074608531780541, 0.022593196481466293, -0.0078060380183160305, -0.023629456758499146, -0.027679050341248512, 0.020684296265244484, -0.0016566525446251035, -0.010982993058860302, -0.017139196395874023, 0.01833907514810562, -0.0011172178201377392, -0.011446583084762096, 0.0043870615772902966, -0.028033562004566193, 0.026165565475821495, -0.007792402990162373, -0.005317650269716978, 0.002963908249512315, -0.028360800817608833, 0.03501468151807785, -0.02245684526860714, 0.009769477881491184, -0.0033729581627994776, -0.007799220271408558, -0.03795984014868736, -0.022688640281558037, -0.008719583041965961, -0.0013507172698155046, 0.006449355278164148, -0.016566526144742966, -0.01570752076804638, -0.021965986117720604, -0.028360800817608833, -0.0007068895502015948, 0.0073356302455067635, -0.024870241060853004, -0.011678378097712994, -0.004601812921464443, 0.030406052246689796, -0.02665642648935318, 0.004281389992684126, 0.02819718047976494, -0.007035660091787577, -0.010403505526483059, -0.023833980783820152, -0.01730281487107277, -0.00035472307354211807, 0.11584296822547913, 0.01926625519990921, -0.0029775432776659727, 0.026138296350836754, 0.007540155202150345, -0.0032434258610010147, 0.010376235470175743, -0.026451900601387024, 0.015789330005645752, -0.022988611832261086, 0.04218669235706329, -0.004151857458055019, 0.014862150885164738, 0.020997900515794754, 0.024188490584492683, -0.015039405785501003, -0.008542328141629696, 0.004223441239446402, 0.019688941538333893, -0.009333157911896706, 0.015339375473558903, -0.006762960460036993, -0.033187590539455414, 0.03596913069486618, -0.02151603065431118, -0.01478034071624279, 0.007308360189199448, 0.017425531521439552, 0.03335121273994446, -0.013389570638537407, -0.005266518797725439, 0.01633473113179207, 0.0022787493653595448, 0.00022881235054228455, -0.008283263072371483, -0.0055221752263605595, 0.033269401639699936, -0.0169892106205225, 0.017411895096302032, -0.009121815674006939, 0.023656725883483887, 0.004185945261269808, 0.018461789935827255, -0.0058425976894795895, 0.0004139500961173326, -0.02281135693192482, 0.012953250668942928, 0.005184709094464779, -0.01797093078494072, -0.0163892712444067, 0.020125260576605797, 0.01173973549157381, 0.004693849012255669, -0.019048096612095833, 0.02474752627313137, 0.01059439592063427, 0.008058285340666771, -0.018502695485949516, -0.014262210577726364, 0.05331285297870636, 0.005644890479743481, -0.018366346135735512, -0.012646462768316269, -0.003437724430114031, -0.016825590282678604, -0.025156576186418533, -0.018707221373915672, -0.0022906800732016563, -0.012789630331099033, -0.007771950215101242, -0.005072220228612423, -0.018134551122784615, -0.02406577579677105, 0.004680213984102011, -0.006947032641619444, 0.004121178761124611, 0.00803783256560564, -0.0007149853627197444, 0.02117515541613102, 0.0013481606729328632, -0.002178191440179944, -0.03962331265211105, -0.003640545066446066, -0.03427839279174805, -0.004083682782948017, -0.005610802676528692, 0.01636200025677681, 0.006565252784639597, -0.0251020360738039, 0.017098290845751762, 0.03926880285143852, -0.0003785843146033585, 0.0030048133339732885, -0.01799819990992546, 0.0026690512895584106, 0.008733217604458332, -0.00611529778689146, 0.013437293469905853, 0.002825853880494833, 0.017139196395874023, 0.025129307061433792, -0.011794275604188442, -0.0015526857459917665, -0.02695639617741108, 0.02698366530239582, -0.010355782695114613, -0.0036609976086765528, 0.012264682911336422, -0.004485915414988995, -0.002907663816586137, 0.024161221459507942, -0.010478498414158821, 0.0038962014950811863, 0.0064732166938483715, -0.004053004086017609, 0.022388670593500137, -0.009278617799282074, 0.04944051057100296, 0.0012808379251509905, -0.012973703444004059, -0.013232768513262272, -0.016143839806318283, 0.026724601164460182, -0.0013208907330408692, -0.02248411625623703, 0.0126669155433774, -0.011930625885725021, -0.017166465520858765, -0.031005991622805595, -4.131112291361205e-06, 0.0166892409324646, 0.010826190933585167, -0.013682723045349121, -0.023970331996679306, -0.013396387919783592, -0.015912044793367386, 0.002471343846991658, -0.009428602643311024, -0.01828453503549099, 0.0028446021024137735, -0.02729727141559124, -0.011364772915840149, -0.023561280220746994, -0.009762660600244999, -0.005075628869235516, -0.0230976901948452, -0.02792448177933693, 0.015816600993275642, -0.015434821136295795, 0.015462090261280537, -0.009421785362064838, 0.008992282673716545, -0.006834544241428375, 0.009755843318998814, 0.025865595787763596, -0.036787230521440506, -0.004922235384583473, 0.005808510351926088, 0.011767005547881126, 0.023888520896434784, 0.013934970833361149, 0.009517230093479156, 0.012653280980885029, 0.013253220357000828, -0.014521275646984577, 0.01156929787248373, 0.001849246909841895, -0.01799819990992546, -0.014739436097443104, 0.02188417688012123, -0.009469508193433285, -0.0053108325228095055, 0.00033959673601202667, 0.0059891738928854465, -0.023261310532689095, 0.02660188637673855, -0.011303415521979332, 0.0011402269592508674, -0.030024271458387375, -0.0030201526824384928, -0.013900883495807648, -0.0026059895753860474, 0.011964713223278522, 0.011446583084762096, 0.0027730183210223913, -0.0007196723599918187, 0.024256665259599686, -0.016130205243825912, 0.01045804563909769, -0.024474825710058212, 0.013594095595180988, -0.021243330091238022, -0.0017393147572875023, -0.011201152577996254, 0.0037632600869983435, 0.009844470769166946, -0.007022025529295206, 0.013369117863476276, -0.004738162737339735, 0.006657288875430822, -0.026424631476402283, 0.010642117820680141, -0.012775995768606663, -0.018870841711759567, -0.033242132514715195, 0.02887893095612526, -6.764238787582144e-05, -0.02668369561433792, 0.009162720292806625, 0.005900546442717314, 0.014057685621082783, 0.0015739903319627047, -0.028169911354780197, -0.029369791969656944, 0.007574243005365133, -0.020316150039434433, -0.034114770591259, 0.022715911269187927, 0.00537219038233161, -0.00929225329309702, -0.014984865672886372, -0.03332393988966942, 0.02274318039417267, 0.0014274141285568476, 0.021611476317048073, 0.010451228357851505, -0.020970631390810013, -0.02277045138180256, 0.009033188223838806, 0.014357655309140682, 0.008440065197646618, 0.00787421315908432, 0.022347766906023026, 0.012953250668942928, 0.013335030525922775, 0.016539255157113075, 0.02187054045498371, -0.03365118056535721, -0.039923280477523804, 0.037741683423519135, 0.01763005554676056, 0.0256338007748127, -0.029778841882944107, -0.015652980655431747, 0.0005466783186420798, 0.009435420855879784, -0.0069061280228197575, -0.00536878127604723, -0.01829817146062851, 0.0019515095045790076, -0.04295025020837784, -0.0027747226413339376, 0.019129905849695206, 0.03141504153609276, 0.012925980612635612, -0.004468871280550957, -0.018052740022540092, -0.029287980869412422, 0.00932634063065052, 0.008658225648105145, -0.005900546442717314, 0.006401632912456989, -0.02791084535419941, 0.007008390501141548, 0.000893092539627105, -0.002616215730085969, 0.008099189959466457, -0.023615820333361626, 0.0006847326876595616, 0.028715310618281364, -0.012162420898675919, -0.001521154772490263, -0.011562480591237545, -0.014030415564775467, 0.004857468884438276, 0.00033214010181836784, -0.0016200084937736392, -6.0824884712928906e-05, -0.010662570595741272, 0.0009152494021691382, 0.011337502859532833, 0.01443946547806263, -0.030324241146445274, -0.030106080695986748, -0.008378707803785801, -0.0032280865125358105, -0.004185945261269808, 0.003650771453976631, 0.009592222981154919, -0.04303206130862236, -0.03313305228948593, -0.020438866689801216, -0.0008828662685118616, -0.002701434539631009, -0.0014384925598278642, -0.018134551122784615, 0.007587878033518791, 0.02117515541613102, -0.03594186156988144, 0.02661552093923092, -0.005634664092212915, 0.0160893015563488, -0.03861432150006294, 0.01569388620555401, 0.017480071634054184, -0.004632491618394852, 0.026465537026524544, -0.0036916763056069613, -0.0055221752263605595, -0.010123987682163715, 0.013703175820410252, -0.005096081644296646, 0.004635900259017944, -0.028769850730895996, 0.02667006105184555, -5.730961129302159e-05, 0.01573478989303112, -0.011010263115167618, -0.020152531564235687, -0.02346583642065525, 0.00498359277844429, 0.0007899778429418802, 0.010921635664999485, -0.024815700948238373, -0.007587878033518791, -0.007915117777884007, 0.004513185005635023, 0.007097017951309681, -0.03146957978606224, 0.003974602557718754, 0.009278617799282074, 0.03501468151807785, -0.008419612422585487, -0.01761642098426819, 0.003858705284073949, 0.004806337878108025, -0.011869268491864204, 0.043495651334524155, 0.01187608577311039, 0.008296897634863853, 0.012237412855029106, 0.024270301684737206, 0.017152830958366394, 0.0014419013168662786, 0.009074092842638493, 0.001862881937995553, -0.015639346092939377, 0.00417231023311615, -0.029451601207256317, -0.01992073655128479, 0.006837952882051468, 0.024883875623345375, 0.01443946547806263, -0.014575815759599209, -0.0201934352517128, 0.007458345498889685, -0.00466317031532526, -0.00365758896805346, -0.016566526144742966, 0.0049290526658296585, 0.04046868160367012, -0.003954150248318911, 0.002379307523369789, 0.006094845477491617, 0.013246403075754642, 0.00819463562220335, -0.02376580610871315, -0.004622265230864286, -0.010826190933585167, -0.014657625928521156, 0.004059821367263794, 0.013266855850815773, -0.041286781430244446, -0.015612076036632061, -0.001591034117154777, 0.006919762585312128, -0.002519066445529461, 0.007083382923156023, 0.007417440414428711, -0.02604285068809986, 0.0013208907330408692, 0.007403805386275053, 0.03504195064306259, -0.0016506873071193695, -0.009517230093479156, -0.010376235470175743, 0.002895733341574669, 0.01347819808870554, 0.011957895942032337, -0.01577569544315338, 0.012326040305197239, 0.012019253335893154, 0.007819673046469688, -0.008671860210597515, -0.005194935016334057, -0.008337803184986115, 0.007376535329967737, -0.02343856543302536, 0.018761761486530304, -0.012523747980594635, -0.02247048169374466, 0.018816301599144936, 0.01221696101129055, -0.010383052751421928, -0.015952950343489647, 0.022865895181894302, -0.01674378104507923, -0.006810682825744152, 0.010185345076024532, -0.01315777562558651, 0.013709993101656437, 0.006033487617969513, 0.015489360317587852, -0.013682723045349121, 0.0029911783058196306, -0.0072129154577851295, -0.012162420898675919, -0.007390170358121395, 0.004860877525061369, 0.011964713223278522, 0.00579487532377243, 0.016593795269727707, -0.003120710840448737, -0.007737862877547741, -0.011773822829127312, -0.03081510215997696, -0.002316245809197426, -0.006364136468619108, -0.02956068143248558, -0.004312069155275822, 0.0015509813092648983, -0.030624210834503174, -0.0010072856675833464, 0.014889420941472054, 0.011814728379249573, 0.02538837119936943, 0.22950433194637299, 0.00513357762247324, -0.014412195421755314, 0.032914891839027405, -0.01994800567626953, -0.011289780959486961, 0.017602786421775818, 0.010014908388257027, 0.01140567846596241, 0.01221696101129055, -0.007758315186947584, -0.008405977860093117, -0.03523284196853638, 0.008794574998319149, 0.022593196481466293, -0.023683996871113777, -0.013900883495807648, -0.031333230435848236, 0.005846006330102682, -0.06097572296857834, 0.00898546539247036, -0.02727000042796135, -0.006207333877682686, -0.0170573852956295, 0.024488460272550583, 0.023943061009049416, 0.003216155804693699, -0.011071620509028435, 0.025156576186418533, 0.004639308899641037, -0.007308360189199448, 0.011773822829127312, 0.00041224571759812534, -0.018229994922876358, -0.008085555396974087, 0.0192253515124321, 0.011378408409655094, 0.01156929787248373, 0.01738462597131729, 2.7536309062270448e-05, 0.013635000213980675, -0.005784648936241865, -0.0029212988447397947, -0.0152712007984519, -0.0015927385538816452, 0.03220587223768234, -0.0020639982540160418, 0.008726400323212147, -0.009564952924847603, 0.009953550063073635, -0.025483816862106323, -0.012394215911626816, 0.030269701033830643, 0.029778841882944107, -0.01139886025339365, 0.02023434080183506, 0.01010353583842516, -0.006319822743535042, -0.0437956228852272, 0.0028786894399672747, -0.001821976969949901, 0.011173883453011513, -0.015107580460608006, -0.0033882977440953255, -0.02252502180635929, 0.023588551208376884, -0.019157174974679947, 0.0014453100739046931, -0.024502096697688103, -0.009360427968204021, -0.001360091264359653, -0.0286062303930521, -0.0015526857459917665, 0.004202988930046558, -0.024583905935287476, -0.015489360317587852, 0.01268736831843853, 0.0073219952173531055, 0.022402305155992508, 0.02691549062728882, -0.010519403032958508, -3.978650420322083e-05, -0.01223059557378292, -0.006912945304065943, -0.020016180351376534, -0.02758360654115677, 0.03757806122303009, 0.011446583084762096, -0.00618347292765975, -0.0027662008069455624, 0.008740035817027092, -0.019320795312523842, 0.010833008214831352, -0.0189935564994812, 0.008583232760429382, -0.0025037270970642567, 0.01730281487107277, 0.023615820333361626, -0.0055733066983520985, 0.002370785688981414, -0.013525920920073986, -0.02852442115545273, 0.030760562047362328, -0.008010562509298325, -0.014534910209476948, -0.0031155976466834545, 0.004039369057863951, 0.026397360488772392, 0.011323868297040462, -0.03187863156199455, -0.003277513198554516, -0.038641590625047684, 0.004431375302374363, 0.0013532738666981459, -8.575137326261029e-05, 0.01508031040430069, 0.007908300496637821, -0.01204652339220047, 0.014575815759599209, -0.008937742561101913, -0.0026554162614047527, 0.0006808978505432606, 0.006070984061807394, 0.00731517793610692, 0.006159611511975527, -0.034851063042879105, -0.019048096612095833, 0.004404105246067047, 0.02307042106986046, -0.021597841754555702, 0.04723164066672325, -0.0123669458553195, 0.0020554764196276665, -0.006343684159219265, -0.019702576100826263, -0.0006395667442120612, 0.014262210577726364, -0.02755633555352688, 0.005696021486073732, -0.014984865672886372, 0.019838925451040268, -0.014044051058590412, -0.003947332501411438, 0.003650771453976631, 0.016471080482006073, -0.03378752991557121, 0.010533037595450878, -0.01955259032547474, -0.020070720463991165, 0.005341511685401201, -0.03539646044373512, -0.003712128847837448, -0.007437892723828554, -0.021052440628409386, -0.004894965328276157, -0.013055512681603432, -0.020125260576605797, -0.005433547776192427, 0.017807310447096825, 0.011187518015503883, -0.02375217154622078, 0.006912945304065943, 0.027706321328878403, -0.009558135643601418, -0.00228897575289011, -0.02574288100004196, -0.17420077323913574, 0.023247675970196724, 0.0026349639520049095, -0.021366046741604805, 0.024842971935868263, -0.0028701676055788994, -0.014671260491013527, 0.01107843779027462, -0.0027321132365614176, -0.020793376490473747, -0.015789330005645752, 0.009735390543937683, 0.005515357945114374, -0.014984865672886372, -0.016430174931883812, 0.01221014279872179, -0.020411595702171326, 0.02414758689701557, 0.05143122375011444, 0.02988792210817337, 0.007553790230304003, -0.019702576100826263, 0.02665642648935318, -0.015148486010730267, -0.028142640367150307, 0.035478271543979645, -0.004049594979733229, 0.003654180094599724, -0.017275545746088028, -0.022334130480885506, -0.013403205201029778, -0.011044350452721119, 0.009858105331659317, 0.01921171508729458, 0.022579561918973923, -6.252925959415734e-05, -0.013096418231725693, -0.016621066257357597, -0.012114698067307472, 0.027747226879000664, 0.04837698116898537, 0.038014382123947144, -0.010410322807729244, -0.011344320140779018, -0.03637818247079849, 0.057703323662281036, 0.02789721079170704, -0.002420212607830763, 0.014112225733697414, -0.019770750775933266, -0.0037019026931375265, -0.013560008257627487, 0.02184327132999897, 0.020929725840687752, 0.005164256319403648, 0.015652980655431747, -0.0018066376214846969, 0.023520376533269882, 0.01126932818442583, 0.007601513061672449, -0.006776595488190651, -0.030406052246689796, 0.000402871664846316, -0.00626869173720479, 0.0010388166410848498, -0.016307460144162178, 0.01794366165995598, 0.002101494465023279, -0.019157174974679947, 0.00770377553999424, -0.0014572406653314829, -0.03171501308679581, -0.002002640627324581, -0.015475725755095482, 0.004635900259017944, 0.006749325431883335, -0.0035485089756548405, -0.01765732653439045, -0.0022855668794363737, 0.004874512553215027, -0.021611476317048073, 0.036759961396455765, -0.01825726591050625, -0.02382034622132778, 0.01793002523481846, 0.002790061989799142, 0.013682723045349121, -0.018720855936408043, -0.004380243830382824, -0.020466135814785957, 0.009196807630360126, -0.009258165024220943, -0.023343121632933617, -0.01795729622244835, -0.010567125864326954, 0.005021088756620884, 0.011330685578286648, 0.016525620594620705, 0.0015782513655722141, -0.03986874222755432, 0.034223850816488266, -0.013921335339546204, -0.00682431785389781, 0.021243330091238022, -0.009899010881781578, 0.01933443173766136, 0.010014908388257027, 0.0030235613230615854, 0.007260637823492289, 0.008535509929060936, -0.01986619643867016, 0.006156202871352434, 0.03373299166560173, 0.011139795184135437, -0.022579561918973923, 0.0251020360738039, 0.025265656411647797, -0.022238686680793762, 0.005685795098543167, -0.0372508205473423, 0.04594995081424713, -0.012571470811963081, -0.009871740825474262, 0.004202988930046558, 0.008242357522249222, -0.019648035988211632, -0.1397314816713333, -0.0314423106610775, 0.004151857458055019, 0.01861177571117878, -0.014684895984828472, 0.010669387876987457, 0.005119942594319582, 0.008426430635154247, 0.0024969095829874277, 0.010546673089265823, -0.009530865587294102, -0.020766105502843857, -0.011426130309700966, -0.007458345498889685, -0.0006915502017363906, -0.0015185981756076217, 0.003943923860788345, -0.005764196626842022, 0.002275340724736452, 0.050285883247852325, -0.01861177571117878, 0.006377771496772766, -0.022920435294508934, -0.004584768787026405, 0.008249175734817982, 0.002744043944403529, -0.015912044793367386, 0.029287980869412422, 0.011596567928791046, 0.028060831129550934, -0.033978421241045, -0.00786739494651556, -0.008317350409924984, -0.03305124118924141, -0.02436574548482895, -0.016471080482006073, 0.006091436371207237, 0.008746853098273277, 0.024297570809721947, -0.034796521067619324, -0.005801692605018616, 0.006872040219604969, -0.008951378054916859, -0.025906501337885857, 0.008760487660765648, 0.01398951094597578, -0.02632918581366539, 0.025797421112656593, -0.012578288093209267, -0.00714474031701684, -0.00866504292935133, 0.014057685621082783, -0.011071620509028435, 0.005856232717633247, 0.04804974049329758, -0.024324841797351837, 0.004312069155275822, 0.014371290802955627, 0.000554347992874682, -0.003091736463829875, 0.0172891803085804, 0.005675569176673889, -0.01428948063403368, 0.00224636634811759, 0.011276145465672016, 0.007519702892750502, 0.001585068879649043, 0.01011717040091753, 0.0286062303930521, -0.004581360146403313, -0.006224378012120724, 0.03174228221178055, -0.007990110665559769, 0.018393615260720253, -0.009264983236789703, -0.014316750690340996, -0.009619493037462234, -0.02409304678440094, 0.014698530547320843, -0.01921171508729458, -0.011023897677659988, -0.0066334279254078865, 0.01508031040430069, -0.022552290931344032, -0.005805101711302996, 0.0015825122827664018, 0.020725201815366745, 6.098467201809399e-05, -0.00945587269961834, -0.0017538019455969334, -0.00900591816753149, 0.004918826278299093, 0.004775659181177616, -0.03239675983786583, -0.007833307608962059, 0.021025171503424644, -0.010219433344900608, -0.010076265782117844, 0.001856064423918724, -0.0013788394862785935, -0.02637009136378765, -0.025824692100286484, -0.02406577579677105, 0.013955422677099705, -0.009824017994105816, -0.015284835360944271, -0.00293152523227036, -0.010226250626146793, -0.012066975235939026, 0.02822445146739483, -0.025838326662778854, -0.0022651145700365305, -0.026192836463451385, 0.01010353583842516, 0.005689204204827547, -0.0042370762676000595, -0.025511085987091064, 0.0022872714325785637, 0.020984265953302383, -0.0006327492301352322, 0.007253820542246103, 0.0019838926382362843, -0.02091609127819538, -0.0043495651334524155, 0.0015441637951880693, 0.003008221974596381, -0.005702839232981205, -0.01298733800649643, -0.005590350367128849, 0.018039105460047722, -0.0034564726520329714, -0.004891556687653065, 0.015325740911066532, -0.03526011109352112, 0.013614548370242119, 0.013934970833361149, 0.014521275646984577, 0.002790061989799142, 0.0075469729490578175, 0.023029515519738197, -0.001354126026853919, 0.012012435123324394, -0.044477373361587524, -0.022715911269187927, 0.019048096612095833, 0.010846642777323723, -0.003362732008099556, 0.008719583041965961, -0.01793002523481846, -0.006364136468619108, 0.025770151987671852, 0.002058885060250759, 0.02923344075679779, 0.015434821136295795, -0.017152830958366394, -0.0152712007984519, -0.0314423106610775, -0.0015799556858837605, 0.01187608577311039, 0.002747452585026622, 0.0011802797671407461, -0.04965867102146149, 0.02986065112054348, 0.01866631582379341, -0.006169837899506092, -0.016498351469635963, 0.031987711787223816, 0.009708120487630367, -0.002029910683631897, -0.002377603203058243, 0.0013575347838923335, -0.008787757717072964, -0.011037533171474934, 0.011364772915840149, 0.021775096654891968, 0.02699730172753334, 0.033542100340127945, 0.006340275518596172, 0.0014367882395163178, -3.219670907128602e-05, -0.007778767962008715, 0.02091609127819538, 0.005010862834751606, 0.008542328141629696, -0.008746853098273277, 0.009953550063073635, 0.02887893095612526, 0.005515357945114374, -0.01606203056871891, 0.012571470811963081, -0.005791466683149338, 0.03695085272192955, 0.03149685263633728, -0.0038348438683897257, -0.0019498050678521395, 0.013846343383193016, 0.028660770505666733, 0.02184327132999897, -0.008092372678220272, -0.004301842767745256, 0.0018083419417962432, 0.010642117820680141, 0.007492432836443186, -0.0051403953693807125, 0.009230894967913628, -0.01463035587221384, -0.004673396237194538, -0.014016781002283096, -0.01413949579000473, -0.025879230350255966, 0.015680251643061638, 0.01835271157324314, -0.00010300816938979551, -0.024856606498360634, 0.020711565390229225, 0.02376580610871315, -0.014957595616579056, -0.0016285304445773363, -0.0025940588675439358, -0.020629756152629852, -0.011746552772819996, 0.027815401554107666, -0.00039541503065265715, 0.0072742728516459465, 0.023643091320991516, 0.0018134551355615258, 0.006749325431883335, -0.005130168981850147, 0.014180400408804417, 0.00417231023311615, -0.014698530547320843, -0.01799819990992546, 0.016566526144742966, -0.022620465606451035, -0.021366046741604805, 0.005266518797725439, -0.0018032288644462824, 0.007185645401477814, 0.006933397613465786, 0.02506113052368164, -0.030024271458387375, 0.04535001143813133, 0.022634100168943405, -0.0006787673919461668, 0.014494005590677261, 0.005167665425688028, 0.003664406482130289, -0.011453400366008282, -0.013096418231725693, 0.0018339075613766909, 0.002260001376271248, 0.010553490370512009, -0.004639308899641037, 0.03468744084239006, -0.033569373190402985, -0.02148876152932644, 0.017602786421775818, -0.013682723045349121, 0.009196807630360126, -0.008269627578556538, -0.0044961413368582726, 0.03408750146627426, -0.0028838026337325573, 0.00688908388838172, 0.004530229140073061, 0.011051167733967304, -0.020125260576605797, 0.009060458280146122, -0.0007179679814726114, -0.01173973549157381, -0.029397061094641685, 0.006462990306317806, 0.0013438997557386756, -0.0224977508187294, -0.027774496003985405, -0.007662870455533266, -0.009721755050122738, -0.022593196481466293, 0.031605932861566544, 0.013355483300983906, 0.015257565304636955, -0.019498050212860107, -0.0026247375644743443, -0.038996100425720215, -0.03212406113743782, 0.009346792474389076, -0.006691376678645611, 0.0032962614204734564, 0.00947632547467947, -0.0366508811712265]\n"
     ]
    }
   ],
   "source": [
    "query = \"\"\"\n",
    "\"Pretty isn't the word, it hardly does you fair.\"\n",
    "Cass reached into her handbag. I thought she was reaching for her handkerchief. She\n",
    "came out with a long hatpin. Before I could stop her she had run this long hatpin through\n",
    "her nose, sideways, just above the nostrils. I felt disgust and horror. She looked at me\n",
    "and laughed, \"Now do you think me pretty? What do you think now, man?\" I pulled\n",
    "the hatpin out and held my handkerchief over the bleeding. Several people, including the\n",
    "bartender, had seen the act. The bartender came down:\n",
    "\"Look,\" he said to Cass, \"you act up again and you're out. We don't need\n",
    "your dramatics here.\"\n",
    "\"Oh, fuck you, man!\" she said.\n",
    "\"Better keep her straight,\" the bartender said to me.\n",
    "\"She'll be all right,\" I said.\n",
    "\"It's my nose, I can do what I want with my nose.\"\n",
    "\"No,\" I said, \"it hurts me.\"\n",
    "\"You mean it hurts you when I stick a pin in my nose?\"\n",
    "\"Yes, it does, I mean it.\"\n",
    "\"All right, I won't do it again. Cheer up.\"\n",
    "She kissed me, rather grinning through the kiss and holding the handkerchief to her\n",
    "nose. We left for my place at closing time. I had some beer and we sat there talking. It\n",
    "was then that I got the perception of her as a person full of kindness and caring. She\n",
    "gave herself away without knowing it. At the same time she would leap back into areas of\n",
    "wildness and incoherence. Schitzi. A beautiful and spiritual schitzi. Perhaps some man,\n",
    "something, would ruin her forever. I hoped that it wouldn't be me. We went to bed and\n",
    "after I turned out the lights Cass asked me,\n",
    "\"When do you want it? Now or in the morning?\"\n",
    "\"In the morning,\" I said and turned my back.\n",
    "In the morning I got up and made a couple of coffees, brought her one in bed. She\n",
    "laughed.\n",
    "\"\"\"\n",
    "\n",
    "query_embedding_response = client.embeddings.create(\n",
    "        model=\"text-embedding-ada-002\",\n",
    "        input=query,\n",
    "    )\n",
    "query_embedding_cb = query_embedding_response.data[0].embedding\n",
    "\n",
    "print(query_embedding_cb)"
   ]
  },
  {
   "cell_type": "markdown",
   "metadata": {},
   "source": [
    "[Source:\n",
    "Lament nad Beogradom\n",
    "](https://www.lyrikline.org/sl/pesmi/lament-nad-beogradom-4757)"
   ]
  },
  {
   "cell_type": "code",
   "execution_count": 27,
   "metadata": {},
   "outputs": [
    {
     "name": "stdout",
     "output_type": "stream",
     "text": [
      "[0.00011146062024636194, -0.01179114542901516, -0.011222818866372108, -0.01894422248005867, -0.0025819670408964157, 0.02383052557706833, -0.02147882990539074, -0.00896257720887661, -0.002314134733751416, -0.03637290745973587, 0.009935918264091015, 0.011242416687309742, -0.0029281890019774437, -0.017663855105638504, 0.02249789796769619, 0.0038019095081835985, 0.039142683148384094, 0.022641612216830254, 0.026286741718649864, -0.0393778532743454, 0.0027142497710883617, 0.002756711095571518, 0.014619714580476284, -0.015429742634296417, -0.012418264523148537, -0.022915977984666824, 0.032557934522628784, -0.01155597623437643, 0.011431858874857426, -0.023556161671876907, -0.0006797873065806925, -0.015625717118382454, -0.03467446193099022, -0.0078651187941432, -0.02462748996913433, -0.038149744272232056, -0.004455158486962318, 0.00876007042825222, 0.005376239772886038, -0.008230938576161861, 0.004899368155747652, 0.010647960007190704, -0.011503715999424458, -0.010020840913057327, -0.04614551365375519, 0.019832640886306763, 0.009988178499042988, 0.020603476092219353, -0.016579462215304375, 0.028037449344992638, 0.024549100548028946, -0.005389304831624031, -0.004402898717671633, -0.02688773162662983, -0.010484647937119007, -0.002640759339556098, 0.0024039566051214933, 0.0023925246205180883, -0.0021230594720691442, 0.004458425100892782, -0.005121472757309675, -0.0030147444922477007, -0.008381185121834278, -0.010595699772238731, -0.009445981122553349, 0.004468223545700312, -0.01785982958972454, -0.011830340139567852, -0.02379133179783821, -0.013019253499805927, 0.03193081542849541, 0.027201291173696518, -0.007322921883314848, 0.014423739165067673, 0.034909628331661224, -0.02222353406250477, 0.004967959132045507, -0.020760254934430122, 0.002325566718354821, 0.004745854530483484, 0.018552273511886597, -0.017115125432610512, -0.03556288033723831, 0.013835814781486988, 0.009570098482072353, 0.007512364070862532, -0.0036287985276430845, 0.04057983309030533, -0.019924096763134003, -0.030911745503544807, 0.011490651406347752, 0.010778609663248062, 0.013417735695838928, 0.0130715137347579, 0.03193081542849541, 0.014972468838095665, -0.010915791615843773, 0.014306154102087021, -0.005755124147981405, -0.02002861723303795, 0.005163934081792831, -0.009106292389333248, -0.007394779473543167, -0.007545026950538158, -0.024927984923124313, -0.02268080785870552, 0.0008786200196482241, -0.006421438418328762, 0.03590256720781326, -0.014149374328553677, -0.030049456283450127, 0.03125143423676491, 0.02994493767619133, -0.023817460983991623, 0.00962889101356268, -0.03096400573849678, 0.015860887244343758, 0.004915699362754822, -0.0008876021602191031, -0.013247891329228878, -0.006774192675948143, 0.00698323268443346, -0.002400690224021673, -0.01715432107448578, 0.023347120732069016, 0.009217344224452972, 0.002978815697133541, -0.007551559247076511, -0.012235354632139206, -0.016984475776553154, 0.035589009523391724, 0.02134818024933338, -0.0026946524158120155, -0.007812858559191227, 0.0030212770216166973, -0.010066567920148373, -0.02116527035832405, -0.002758344169706106, -0.009543969295918941, -0.030545925721526146, 0.0011717654997482896, 0.017075929790735245, -0.018029674887657166, -0.027201291173696518, -0.0019809778314083815, 0.03624225780367851, 0.003596136113628745, -0.022393377497792244, 0.017663855105638504, -0.021962232887744904, 0.0280635803937912, -0.02141350507736206, -0.0033511677756905556, -0.017964350059628487, -0.005026751663535833, 0.015011663548648357, -0.01377048995345831, 0.038149744272232056, 0.009720345959067345, -0.008198276162147522, -0.02602544240653515, 0.014789558947086334, 0.028795218095183372, 0.00635937973856926, 0.02437925525009632, 0.022850653156638145, -0.0064606331288814545, -0.015416678041219711, -0.00828319787979126, -0.028978127986192703, 0.0028595977928489447, 0.030728835612535477, -0.016109121963381767, 0.02172706462442875, -0.019166328012943268, 0.04888916015625, 0.02978815697133541, 0.010334400460124016, -0.035432230681180954, -0.02286371774971485, 2.689548819034826e-05, 0.005304382648319006, 0.03501414880156517, -0.014698104001581669, 0.008537964895367622, 0.004438827279955149, 0.0016339392168447375, -0.003922760486602783, -0.004092605318874121, -0.012143900617957115, -0.011947925202548504, 0.005921702831983566, -0.016422681510448456, 0.007447039242833853, -0.6241925358772278, -0.02249789796769619, -0.006235262379050255, -0.006904842797666788, 0.0241048913449049, 0.020381370559334755, 0.015625717118382454, 0.019323106855154037, -0.012176563031971455, -0.021831583231687546, -0.013267488218843937, 0.01446293480694294, -0.014070984907448292, 0.011098701506853104, -0.01282327901571989, 0.009831398725509644, 0.0009292467730119824, -0.02403956651687622, -1.3077739424716128e-07, -0.02688773162662983, -0.01208510808646679, 0.029500728473067284, 0.026417391374707222, 0.01094192173331976, 0.004595607053488493, -0.003258079756051302, 0.03232276439666748, -0.03093787655234337, -0.0005695515428669751, 0.0023941579274833202, -0.0359809584915638, 0.015508132986724377, 0.00038317139842547476, -0.014005660079419613, 0.05053534731268883, -0.01638348586857319, -0.008694744668900967, 0.011457988992333412, 0.005128005053848028, 0.015468938276171684, -0.012803682126104832, -0.01591314747929573, 0.010883129201829433, -0.015142313204705715, 0.032139852643013, -0.01378355547785759, 0.029866548255085945, 0.0008149282075464725, 0.013888075016438961, 0.024575229734182358, 0.023556161671876907, 0.010915791615843773, -0.00014167338667903095, -0.001802967395633459, 0.004497619811445475, 0.0011235884157940745, 0.03383830189704895, -0.017781440168619156, 0.002092030132189393, -0.0008851524908095598, 0.0029657508712261915, -0.004958160221576691, 0.002745279110968113, -0.01132733840495348, -0.01208510808646679, -0.0034654862247407436, -0.04264409840106964, 0.008485705591738224, 0.035771917551755905, 0.01622670702636242, 0.021243659779429436, 0.01727190613746643, -0.013006188906729221, -0.015168443322181702, 0.012130835093557835, 0.02213207818567753, 0.03159112483263016, 0.02315114624798298, -0.016853826120495796, -0.006375710945576429, 0.00783245638012886, 0.0015049225185066462, -0.022419508546590805, -0.023477772250771523, 0.026352066546678543, -0.006989764980971813, -0.00587924150750041, 0.01996329240500927, 0.03245341405272484, 0.01980651170015335, 0.0004740138538181782, 0.03890751302242279, -0.015325223095715046, 0.002235744846984744, 0.016514135524630547, 0.005719195585697889, -0.017467880621552467, -0.01616138219833374, 0.008818862028419971, -0.04784396290779114, 0.04546613618731499, -0.022105948999524117, -0.00942638423293829, -0.0066337441094219685, -0.001349775935523212, 0.00035806215601041913, -0.022524027153849602, 0.003452421398833394, 0.015834758058190346, -0.048967551440000534, 0.004024014342576265, -0.017781440168619156, -0.02145269885659218, -0.03786231577396393, -0.008864589966833591, -0.02462748996913433, 0.02586866356432438, -0.007055089809000492, 0.028351008892059326, -0.04515257477760315, -0.0019532146397978067, 0.027854539453983307, -0.014933274127542973, -0.010288672521710396, -0.01371823064982891, 0.014698104001581669, -0.00921081192791462, -0.0008308511460199952, -0.008936447091400623, -0.002204715507104993, 0.009504773654043674, 0.01290166936814785, 0.03788844496011734, -0.0035765385255217552, 0.010759011842310429, -0.008609822951257229, 0.014867948368191719, -0.001166866160929203, 0.03585030883550644, -0.022785328328609467, -0.022053688764572144, -0.004219988826662302, 0.013548385351896286, -0.005265187472105026, -0.004918965511023998, -0.03700002655386925, 0.0005871076136827469, 0.006117677316069603, -0.03059818595647812, 0.0019483153009787202, 0.0025950318668037653, -0.028481658548116684, -0.02064266987144947, -0.011399196460843086, 0.002727314829826355, 0.002546038245782256, -0.021178334951400757, -0.0042167226783931255, -0.03739197552204132, 0.011582106351852417, 0.016945280134677887, 0.012522784993052483, -0.006068683695048094, 0.00460540596395731, -0.004990823101252317, 0.005598344374448061, 0.01842162385582924, 0.02193610370159149, 0.018460819497704506, -0.024470709264278412, 0.001976078376173973, 0.0011962623102590442, 0.02645658701658249, 0.015037793666124344, -0.01980651170015335, -0.003432823810726404, -0.014280024915933609, 0.012725291773676872, -0.014293089509010315, -0.011882600374519825, 0.00765607925131917, -0.023987306281924248, -0.02895199880003929, -0.004288580268621445, 0.02413102053105831, 0.010353997349739075, -0.004040345549583435, 0.024366190657019615, 0.020760254934430122, 0.03182629495859146, -0.005441564600914717, -0.01563878357410431, -0.012045912444591522, 0.003318505361676216, -0.006839517503976822, 0.012725291773676872, -0.0007822657353244722, 0.022955171763896942, -0.010621829889714718, -0.0006891777738928795, -0.007296792231500149, 0.0022063488140702248, 0.013247891329228878, -0.012183095328509808, 0.010817804373800755, -0.00764954648911953, 0.012947396375238895, -0.019741186872124672, 0.044734496623277664, 0.004265716299414635, 0.005908637773245573, -0.010347465053200722, -0.032897621393203735, -0.026691757142543793, 0.015429742634296417, 0.03673872724175453, -0.008061093278229237, -0.003238482167944312, 0.016265902668237686, -0.004311443772166967, 0.000693668844178319, 0.013992594555020332, 0.011915262788534164, -0.01377048995345831, -0.012098172679543495, 0.014828753657639027, 0.0023565960582345724, 0.016853826120495796, 0.015468938276171684, -0.007551559247076511, -0.01444986928254366, 0.01022987999022007, 0.03200920298695564, 0.024836529046297073, -0.026286741718649864, -0.023164212703704834, 0.006643543019890785, -0.015547327697277069, 0.007303324528038502, -0.027149030938744545, 0.009478643536567688, 0.018408559262752533, 0.010530374944210052, -0.024326995015144348, 0.026430457830429077, 0.011536378413438797, 0.011248948983848095, -0.007362117059528828, -0.006891777738928795, 0.014593584463000298, -0.016461877152323723, 0.005056147929280996, -0.013927269726991653, 0.01109216921031475, 0.01919245719909668, -0.057433657348155975, -0.013744360767304897, 0.01897035352885723, 0.005056147929280996, 0.015965407714247704, 0.012463992461562157, -0.0035994022618979216, 0.0037235196214169264, 0.005924968980252743, 0.026521911844611168, -0.013162968680262566, -0.0023876253981143236, 0.000400115066440776, -0.017167385667562485, 0.006000092718750238, -0.030075587332248688, -0.0001401423360221088, 0.016919150948524475, -0.016357356682419777, 0.044603846967220306, 0.00609481381252408, 0.00964195653796196, 0.010837402194738388, 0.023974239826202393, 0.01672317646443844, -0.019845707342028618, -0.022275792434811592, 0.02775002084672451, 0.004628269467502832, -0.008701277896761894, -0.0023353653959929943, -0.008426913060247898, 0.008433445356786251, -0.024562165141105652, 0.01731109991669655, -0.019414562731981277, -0.008041496388614178, 0.009040966629981995, 0.011523313820362091, -0.010830869898200035, 0.005853111855685711, 0.0031257967930287123, -0.0416511595249176, -0.009648488834500313, -0.005088810343295336, -0.012882071547210217, -0.0008516734815202653, -0.015246833674609661, -0.010883129201829433, 0.013496126048266888, -0.0019532146397978067, -0.009086694568395615, 0.0027403798885643482, 0.0007402128539979458, 0.0038019095081835985, -0.007368649356067181, 0.006898310035467148, 0.012032847851514816, 0.0016135252080857754, -0.01345693040639162, 0.0035928699653595686, -0.015142313204705715, -0.01438454445451498, 0.024209409952163696, 0.010589167475700378, -0.007453572005033493, -0.0052488562650978565, -0.01151024829596281, 0.010732881724834442, 0.03744423761963844, 0.029213298112154007, -0.0059641641564667225, 0.012183095328509808, 0.00765607925131917, -0.0024055896792560816, -0.009204279631376266, -0.00349161634221673, -0.01819951832294464, 0.01659252680838108, 0.020185396075248718, -0.011150961741805077, 0.008753537200391293, 0.006068683695048094, 0.008015366271138191, -0.011085636913776398, 0.0045825419947505, -0.02215820923447609, 0.002840000204741955, 0.007891248911619186, -0.0068003227934241295, 0.011915262788534164, -0.011281611397862434, 0.033577002584934235, -0.00547749362885952, -0.008204808458685875, 0.039639152586460114, 0.017820633947849274, 0.043036047369241714, -0.017598530277609825, 0.007819391787052155, 0.0039325593970716, -0.002074065851047635, 0.008008833974599838, -0.009720345959067345, -0.007479701656848192, 0.01928391307592392, 0.02401343546807766, 0.01115749403834343, 0.010745947249233723, 0.0026456587947905064, 0.019362302497029305, 0.02052508480846882, -0.021465763449668884, 0.017637724056839943, -0.023869721218943596, -0.013613710179924965, 0.024366190657019615, 0.017219645902514458, -0.018408559262752533, 0.026156092062592506, -0.004752386827021837, -0.011967523023486137, -0.022602418437600136, 0.023882785812020302, 0.009785670787096024, -0.024771204218268394, 0.02453603409230709, 0.0227461326867342, -0.008492237888276577, 0.025359129533171654, -0.008701277896761894, -0.0067415302619338036, -0.03028462640941143, 0.011719288304448128, -0.029709767550230026, -0.02654804289340973, -0.0003864376631099731, -0.040501441806554794, -0.011614768765866756, 0.009550501592457294, -0.013600645586848259, -0.010256010107696056, -0.00040909723611548543, 0.017964350059628487, 0.008838459849357605, 0.015442808158695698, -0.010785141959786415, -0.00676112761721015, -0.013626775704324245, -0.004334307741373777, -0.01758546568453312, 0.0033119728323072195, -0.013822750188410282, -0.01179114542901516, -0.017650790512561798, -0.017102060839533806, 0.012072042562067509, -0.013875010423362255, 0.007806326262652874, 0.012098172679543495, 0.01067409012466669, -0.004059942904859781, 0.011000714264810085, 0.018460819497704506, -0.004713192116469145, 0.013182566501200199, -0.0135222552344203, 0.01136000081896782, -0.014293089509010315, 0.03498801961541176, -0.02754097990691662, -0.0012174929725006223, 0.0019221854163333774, 0.01804273948073387, -0.009981646202504635, 0.017533205449581146, 0.01946682296693325, -0.005314181093126535, -0.007930443622171879, 0.007878183387219906, 0.005281518679112196, 0.008341990411281586, 0.013652905821800232, -0.012947396375238895, 0.031538866460323334, -0.006186268758028746, 0.014619714580476284, -0.013313216157257557, -0.0014502129051834345, 0.012725291773676872, -0.040187884122133255, 0.015207638032734394, -0.0014297988964244723, -0.00295105273835361, 0.0047066593542695045, -0.007447039242833853, -0.0014894078485667706, 0.004170995205640793, 0.0221843384206295, -0.0015857621328905225, 0.03208759427070618, 0.005271719768643379, -0.03642516955733299, -0.029474597424268723, -0.010373595170676708, -0.006911375094205141, 0.004941829014569521, -0.014345349743962288, 0.035301581025123596, -0.010367062874138355, -0.00985752884298563, -0.01795128360390663, -0.029762027785182, -0.007891248911619186, -0.02926555834710598, -0.006532490719109774, -0.016644787043333054, -0.0016690513584762812, 0.01736336015164852, -0.037627145648002625, -0.010798207484185696, 0.007185739930719137, -0.002188384300097823, 0.001495123840868473, -0.03362926095724106, -0.027149030938744545, -0.009413318708539009, 0.0012779184617102146, -0.0041318004950881, 0.013202163390815258, 0.007793261203914881, 0.018735183402895927, 0.02666562609374523, -0.02827261947095394, -0.005683267023414373, 0.011817275546491146, -0.0007006096420809627, -0.02991880662739277, 0.016866890713572502, 0.03198307380080223, 0.03720906749367714, -0.00019526023243088275, -0.0050822775810956955, -0.02224966324865818, 0.03025849722325802, -0.023974239826202393, -0.006721932906657457, -0.042016979306936264, -0.015547327697277069, 0.021870778873562813, -0.010340932756662369, 0.00283183460123837, 0.012679564766585827, -0.0036712598521262407, -0.02772388979792595, 0.029161037877202034, -0.005297849886119366, 0.00921081192791462, -0.02064266987144947, 0.027018381282687187, -0.03791457414627075, 0.02895199880003929, -0.02528073824942112, 0.018526144325733185, -0.024222474545240402, -0.0037235196214169264, 0.008453043177723885, -0.026587236672639847, 0.0010378494625911117, -0.025476712733507156, -0.004399632569402456, -0.006832985207438469, -0.017598530277609825, -0.013443865813314915, 0.023987306281924248, -0.0009904889157041907, -0.0035112136974930763, 0.012215757742524147, -0.0018339967355132103, 0.006780725438147783, -0.014306154102087021, -0.018800508230924606, -0.02889973856508732, -0.004853640682995319, 0.007943508215248585, -0.017977414652705193, 0.016174446791410446, 0.015429742634296417, -0.04081500321626663, 0.008564095012843609, -0.018330167979002, 0.024470709264278412, 0.012444394640624523, 0.041206952184438705, 0.00587924150750041, -0.020943164825439453, -0.03114691562950611, 0.024797335267066956, 0.016109121963381767, -0.007185739930719137, 0.0067415302619338036, 0.024771204218268394, -0.029056519269943237, 0.02066880092024803, 0.01230068039149046, 0.0023680278100073338, -0.018147259950637817, -0.02154415473341942, 0.03321118280291557, 0.02324260212481022, 0.014436804689466953, -0.012895136140286922, -0.03415185958147049, -0.006682737730443478, -0.010033905506134033, -0.03415185958147049, 0.003730052150785923, -0.05461162328720093, -0.01175848301500082, -0.026744017377495766, -0.0002837550709955394, -0.016801565885543823, 0.004559678491204977, 0.014606649056077003, -0.006780725438147783, 0.002524807583540678, 0.0040795402601361275, -0.001292616594582796, 0.013404671102762222, -0.020172331482172012, 0.0267048217356205, -0.0032956416253000498, -0.03159112483263016, 0.0006961185135878623, 0.005755124147981405, -0.0016804832266643643, -0.0009904889157041907, -0.013587580993771553, 0.02586866356432438, -0.03365539014339447, 0.009668086655437946, -0.019388431683182716, 0.008374652825295925, 0.012013250030577183, 0.023294862359762192, 0.0066043478436768055, 0.010164555162191391, 0.012679564766585827, 0.0008590225479565561, 0.009772606194019318, -0.004638068377971649, -0.02091703563928604, -0.008302795700728893, 0.0023484304547309875, 0.00020965212024748325, -0.004742588382214308, 0.003798643359914422, 0.006594549398869276, -0.03773166611790657, 0.00175397377461195, -0.003120897337794304, 0.009334929287433624, 0.0033609664533287287, -0.004406164865940809, -0.011183624155819416, -0.005719195585697889, 0.03336796164512634, -0.028455529361963272, 0.04907206818461418, 0.013509190641343594, -0.0004348189104348421, -0.016174446791410446, 0.0033609664533287287, 0.008596757426857948, -0.010249477811157703, 0.017010604962706566, -0.004255917854607105, -0.022510962560772896, 0.0009439449058845639, 0.005993559956550598, 0.01894422248005867, -0.0012264751130715013, -0.013757425360381603, 0.026992252096533775, -0.0040664756670594215, -0.008224405348300934, -0.027854539453983307, -0.016331227496266365, 0.029056519269943237, 0.015076988376677036, 0.008923382498323917, 0.008374652825295925, -0.02494104951620102, 0.034752849489450455, 0.014881013892591, 0.025202348828315735, 0.0021557218860834837, -0.042722489684820175, 0.005928235128521919, 0.01792515441775322, 0.024732010439038277, -0.013032319024205208, -0.051005687564611435, 0.010608765296638012, -0.005921702831983566, -0.020067811012268066, 0.0066043478436768055, 0.015717172995209694, -0.006715400610119104, 0.02505863457918167, 0.03245341405272484, 0.005742059089243412, 0.0047654518857598305, 0.01353532075881958, -0.005399103742092848, 0.012156965211033821, -0.009263072162866592, -0.019924096763134003, -0.028716828674077988, 0.003218884812667966, 0.03851556405425072, -0.011614768765866756, -0.0046217371709644794, -0.02052508480846882, 0.00761688407510519, -0.028455529361963272, 0.01785982958972454, -0.0025117427576333284, 0.018800508230924606, 0.015416678041219711, -0.00828319787979126, 0.008871122263371944, 0.018486948683857918, 0.0037921108305454254, 0.014240829274058342, -0.02123059518635273, -0.010641427710652351, 0.005131271202117205, -0.016056861728429794, 0.00019219813111703843, 0.013136838562786579, -0.04131147265434265, -0.02281145751476288, 0.007584221661090851, -0.00964195653796196, -0.0003419350541662425, 0.026064638048410416, -0.005915170069783926, -0.011281611397862434, 0.007995768450200558, -0.02299436740577221, 0.0013146637938916683, 0.01715432107448578, 0.005637539550662041, -0.02193610370159149, -0.007727936375886202, -0.019584406167268753, 0.005836780183017254, -0.017598530277609825, 0.017689984291791916, 0.01218962762504816, -0.00939372181892395, 0.013430801220238209, -0.009517839178442955, -0.0007267395849339664, -0.010118828155100346, -0.010641427710652351, 0.021439634263515472, 0.0007651179912500083, 0.007381714414805174, 0.031878553330898285, 0.01792515441775322, -0.018957287073135376, -0.02417021617293358, 0.004896101541817188, -0.002216147491708398, -0.0014289823593571782, 0.012503187172114849, 0.0064541008323431015, 0.00672846520319581, 0.010889661498367786, -0.004497619811445475, -0.023164212703704834, 0.011144429445266724, -0.023072756826877594, -0.014528259634971619, -0.021923039108514786, 0.03250567242503166, 0.03574578836560249, -0.027828410267829895, 0.008740472607314587, -0.023190341889858246, -0.020172331482172012, -0.0030425074510276318, -0.041180822998285294, -0.00960929412394762, -0.021034620702266693, -0.011098701506853104, 0.004295112565159798, -0.011052974499762058, -0.026195287704467773, -0.007930443622171879, 0.0006193617591634393, 0.003383830189704895, -0.020538151264190674, 0.22827135026454926, -0.016017667949199677, 0.00568653317168355, 0.011686625890433788, 0.0018911560764536262, -0.0034720187541097403, 0.018460819497704506, 0.009223876520991325, 0.004010949283838272, -0.0015155378496274352, -0.014933274127542973, -0.0034556875471025705, -0.023255666717886925, -0.011667028069496155, 0.008459575474262238, -0.009465578943490982, -0.045100316405296326, -0.025698818266391754, 0.0063397823832929134, -0.028298748657107353, -0.02743646129965782, -0.0082636009901762, -0.028533918783068657, -0.0280635803937912, 0.006695802789181471, 0.003681058529764414, 0.012862473726272583, -0.024836529046297073, 0.02360842190682888, -0.009184681810438633, -0.013979529961943626, 0.00036786089185625315, 0.004170995205640793, 0.006441035773605108, 0.009576631709933281, 0.0041579301469028, 0.014371479861438274, -0.0002553795638959855, 0.034256380051374435, 0.0267048217356205, 0.02827261947095394, -0.010602232068777084, 0.0004058309714309871, 0.003661460941657424, -0.011797677725553513, 0.05482066050171852, -0.007780196610838175, -0.02066880092024803, -0.0045564123429358006, 0.029213298112154007, -0.018055804073810577, 0.008198276162147522, 0.01944069191813469, 0.048784639686346054, 0.018434688448905945, 0.013417735695838928, -0.008152548223733902, -0.0029820820782333612, -0.029187168926000595, 0.00984446331858635, 0.01026254240423441, 0.009243474341928959, 0.019597472622990608, 0.006588016636669636, -0.02243257313966751, 0.007577689364552498, -0.028821349143981934, -0.005310914944857359, 0.02379133179783821, -0.009713813662528992, 0.020172331482172012, -0.016030732542276382, -0.012274550274014473, 0.0050528813153505325, -0.014828753657639027, -0.012398667633533478, 0.012045912444591522, -0.0016314894892275333, 0.013469995930790901, 0.001127671217545867, -0.008851524442434311, -0.03381217271089554, -0.00876007042825222, -0.004951627925038338, 0.007329454645514488, -0.018434688448905945, 0.014097115024924278, 0.002333732321858406, -0.01115749403834343, -0.013744360767304897, -0.003192754928022623, -0.020355241373181343, 0.0026734217535704374, 0.01077207736670971, 0.008727407082915306, 0.009243474341928959, 0.010040437802672386, 0.004843841772526503, 0.017807569354772568, -0.02666562609374523, -0.00567020196467638, -0.015338287688791752, 0.029343947768211365, 0.015991536900401115, -0.01647494174540043, -0.0037659809459000826, 0.015468938276171684, 0.007571156602352858, 0.020903971046209335, -0.02107381448149681, 0.009975112974643707, -0.016827695071697235, -0.00208223145455122, -0.0070028300397098064, -0.003893364453688264, -0.015076988376677036, -0.013136838562786579, 0.0012419897830113769, 0.02623448334634304, 0.005085544195026159, 0.0017327431123703718, -0.002630960661917925, -0.02462748996913433, 0.0056538707576692104, -0.023229537531733513, -0.012313744984567165, -0.004905900452286005, 0.0025705350562930107, 0.010765545070171356, -0.026339001953601837, 0.034256380051374435, 0.0007667510653845966, 0.028507789596915245, 0.018565338104963303, -0.007211869582533836, 0.0208255797624588, 0.02586866356432438, -0.013483060523867607, 0.01208510808646679, -0.01690608635544777, 0.010582635179162025, -0.0007222485146485269, -0.009158551692962646, 0.01158863864839077, -0.0027616103179752827, -0.020590411499142647, 0.028507789596915245, -0.03454381227493286, 0.010269075632095337, -0.024431515485048294, -0.017650790512561798, -0.017389489337801933, -0.010301738046109676, -0.011229351162910461, 0.0247842688113451, -0.03605934977531433, -0.04332347959280014, -0.03062431700527668, 0.0027240486815571785, 0.025515908375382423, -0.046955544501543045, 0.02324260212481022, 0.04240892827510834, 0.0019630135502666235, -0.0066043478436768055, -0.022471768781542778, -0.16451424360275269, 0.01955827698111534, 0.02908264845609665, 0.017049800604581833, 0.010105762630701065, 0.011307741515338421, -0.0073425197042524815, 0.011954457499086857, 0.010843934491276741, 0.007237999700009823, 0.007100817281752825, 0.012620772235095501, -0.0054219672456383705, -0.02089090459048748, -0.012287614867091179, -0.015142313204705715, -0.026260612532496452, 0.009230409748852253, 0.0247842688113451, 0.016853826120495796, -0.0003392812213860452, -0.01733723096549511, 0.0023647616617381573, -0.02842940017580986, 0.013306683860719204, 0.006898310035467148, 0.008753537200391293, 0.01842162385582924, -0.020969295874238014, -0.0096746189519763, -0.010314802639186382, -0.012026315554976463, 0.03253180533647537, -1.2943773072038312e-05, 0.018800508230924606, 0.010151490569114685, -0.005497090984135866, -0.005340311210602522, -0.006512893363833427, 0.032218243926763535, 0.02759324014186859, 0.02562042884528637, 0.0018225648673251271, -0.022053688764572144, -0.01860453374683857, 0.017298035323619843, 0.024026500061154366, 0.009119356982409954, 0.01044545229524374, -0.0019303510198369622, -0.006637010723352432, 0.005085544195026159, -0.003785578301176429, 0.013130306266248226, 0.01529909297823906, 0.02317727729678154, 0.019636666402220726, 0.018251778557896614, -0.00035826629027724266, 0.0020561013370752335, -0.012803682126104832, -0.029892677441239357, 0.009152019396424294, 0.003333203261718154, 0.007505831774324179, -0.004063209053128958, 0.002709350548684597, 0.01218962762504816, -0.027018381282687187, -0.0024709145072847605, -0.0140317901968956, 0.0018192986026406288, 0.014985533431172371, -0.00800230074673891, -0.004288580268621445, 0.011778080835938454, -0.026534976437687874, 0.0022243130952119827, 0.003248281078413129, 0.009864061139523983, -0.013613710179924965, 0.024392319843173027, -0.02258935198187828, -0.013496126048266888, 0.026495782658457756, 0.006199333816766739, -0.011686625890433788, -0.014306154102087021, -0.0071400124579668045, -0.002650558017194271, 0.03420412167906761, -0.0065912832506000996, 0.0031780567951500416, -0.03208759427070618, -0.00719227222725749, 0.007545026950538158, 0.026966121047735214, -0.004406164865940809, -0.0013269121991470456, 0.0007675676606595516, -0.0021834850776940584, -0.026247547939419746, -0.04243506118655205, 0.007322921883314848, 0.03807135671377182, 0.025855598971247673, 0.009981646202504635, 0.015873951837420464, 0.0179904792457819, 0.009269604459404945, -0.022393377497792244, 0.0355367474257946, 0.015364417806267738, 0.028324879705905914, -0.03483124077320099, 0.012659966945648193, 0.006754595320671797, -0.01677543669939041, 0.03438702970743179, -0.009909788146615028, 0.0280635803937912, -0.002276573097333312, -0.015155378729104996, 0.00825053546577692, -0.008642485365271568, -0.025424454361200333, -0.09448594599962234, -0.009818333201110363, 0.008603290654718876, 0.029343947768211365, -0.00938065629452467, 0.013796620070934296, 0.0033674989826977253, 0.02707064151763916, 0.007074687164276838, 0.013430801220238209, 0.007923911325633526, -0.023804396390914917, -0.026038506999611855, 0.00370392226614058, 0.008642485365271568, -0.015246833674609661, -0.016514135524630547, -0.02895199880003929, -0.030180107802152634, 0.018055804073810577, 0.003733318531885743, 0.017820633947849274, 0.005800851620733738, 0.0009088327642530203, -0.03161725401878357, 0.007662611547857523, -0.00836158823221922, 0.010465050116181374, 0.017729179933667183, -0.004154663998633623, -0.013130306266248226, -0.006708867847919464, 0.0007745084003545344, -0.01481568906456232, -0.02213207818567753, -0.010634894482791424, -0.03953463211655617, 0.007270662114024162, 0.020329110324382782, -0.019662797451019287, 0.00522925890982151, 0.03245341405272484, 0.0017409087158739567, -0.036947768181562424, 0.012973526492714882, -0.020276851952075958, -0.018565338104963303, 0.03219211474061012, -0.0029281890019774437, -0.0218446496874094, -0.015808627009391785, -0.05581359937787056, -0.007296792231500149, -0.009236942045390606, 0.037783924490213394, -0.02265467680990696, 0.004370236303657293, 0.024575229734182358, -0.020133135840296745, -0.0013448764802888036, -0.027462590485811234, -0.0036712598521262407, 0.0010264175944030285, 0.0316956453025341, -0.007081219926476479, -0.008942979387938976, -0.007806326262652874, 0.012646902352571487, 0.008596757426857948, 0.008061093278229237, -0.015782497823238373, -0.016239771619439125, -0.007394779473543167, 0.0014248995576053858, -0.03412573039531708, 0.006865647621452808, -0.019022611901164055, -0.021700933575630188, 0.024117955937981606, -0.03875073418021202, -0.016148317605257034, -0.025790272280573845, -0.00524559011682868, -0.031721774488687515, 0.0021426568273454905, 0.020276851952075958, 0.028560049831867218, -0.012810214422643185, 0.023739071562886238, -0.006437769625335932, -0.0011448189616203308, 0.01971505768597126, 0.01931004226207733, -0.03686937689781189, -0.017598530277609825, 0.0012468891218304634, 0.0030915013048797846, -0.014306154102087021, 0.007917379029095173, 0.002679954282939434, -0.023752136155962944, 0.0024741808883845806, -0.0640706717967987, 0.037627145648002625, 0.009668086655437946, -0.01240519993007183, 0.00037868032814003527, -0.028638439252972603, 0.000906383094843477, -0.010105762630701065, -0.02892586961388588, 0.02528073824942112, 0.003847636980935931, 0.03028462640941143, -0.0030049458146095276, -0.002536239568144083, -0.008812329731881618, -0.009570098482072353, 0.006248327437788248, 0.007584221661090851, 0.009086694568395615, 0.027645500376820564, -0.0030719037167727947, 0.008341990411281586, -0.03313279151916504, 0.012477057054638863, -0.021962232887744904, -0.0034360901918262243, -0.004226521588861942, 0.030363015830516815, 0.009922853671014309, 0.005128005053848028, 0.01702367141842842, -0.0436892993748188, 0.007714871317148209, 0.0258033387362957, -0.01749400980770588, -0.010295205749571323, 0.02824649028480053, 1.695640639809426e-05, -0.011823807843029499, 0.03749649599194527, -0.0067415302619338036, -0.0021834850776940584, 0.01869598776102066, 0.0193492379039526, -0.01303885132074356, 0.011471053585410118, -0.022471768781542778, 0.03182629495859146, 0.03028462640941143, 0.006411639507859945, 0.014044854789972305, 0.017546270042657852, 0.0039292932488024235, 0.0021050951909273863, -0.033890560269355774, 0.0011219552252441645, 0.01853920891880989, -0.0006867281044833362, 0.007388247177004814, -0.02605157345533371, 0.04724297299981117, 0.007545026950538158, -0.02471894398331642, -0.02827261947095394, 0.03297601267695427, 0.009759540669620037, -0.015207638032734394, 0.027645500376820564, -0.008969109505414963, -0.012646902352571487, -0.02926555834710598, 0.016710111871361732, -4.9019196012523025e-05, 0.017977414652705193, 0.012058977968990803, 0.01582169160246849, -0.0020936632063239813, 0.005114939995110035, -0.012248420156538486, 0.02240644209086895, 0.018748247995972633, 0.006490029394626617, -0.02023765631020069, 0.022471768781542778, 0.0034360901918262243, -0.006924440152943134, 0.006872180383652449, 0.016736241057515144, 0.003419758751988411, 0.0030719037167727947, 0.032139852643013, 0.0007855320000089705, 0.023817460983991623, 0.0019221854163333774, -0.0010264175944030285, 0.018212584778666496, -0.03775779530405998, -0.0025378726422786713, 0.008217873051762581, 0.008132951334118843, -0.008132951334118843, -0.012176563031971455, 0.006721932906657457, -0.014959403313696384, -0.011242416687309742, 0.026352066546678543, -0.03574578836560249, -0.010386659763753414, -0.01095498725771904, 0.023882785812020302, 0.00740784453228116, -0.008949512615799904, 0.02098236046731472, 0.010425855405628681, -0.008400782942771912, -0.0007851237314753234, 0.022667743265628815, -0.027149030938744545, -0.024248605594038963, 0.033733781427145004, 0.009067096747457981, 0.0020577346440404654, 0.03535383939743042, -0.02095622941851616, -0.000944761442951858, 0.025829467922449112, 0.001987510360777378, -0.005771455354988575, -0.005389304831624031, 0.0057975854724645615, -0.0036581947933882475, -0.0020169063936918974, -0.012784084305167198, -0.00914548709988594, 0.013927269726991653, 0.007479701656848192, 0.008165613748133183, -0.013221761211752892, -0.03059818595647812, 0.07034186273813248, 0.017689984291791916, -0.020407501608133316, 0.00480464706197381, 0.01591314747929573, 0.03300214186310768, -0.005196596495807171, 0.010321334935724735, -0.0012011617654934525, -0.003622265998274088, 0.009739943780004978, -0.03234889358282089, 0.020851710811257362, -0.04319282993674278, -0.022197403013706207, -0.0011415526969358325, -0.026809342205524445, 0.021674804389476776, -0.017298035323619843, -0.005859644152224064, 0.008420380763709545, 0.012503187172114849, 0.019976356998085976, -0.005199862644076347, -0.024653619155287743, -0.013587580993771553, 0.009165083989501, -0.0008410581503994763, -0.018134193494915962, -0.05466388165950775, 0.002377826487645507, 0.024026500061154366, -0.014711168594658375, -0.012326809577643871, 0.017794504761695862, -0.035432230681180954, -0.002730581210926175, -0.01200671773403883, 0.001793168717995286, 0.016082992777228355, -0.009034434333443642, 0.0037823121529072523, -0.03517093136906624, -0.012614239938557148, 0.03692163899540901, -0.008420380763709545, -0.009250006638467312, 0.007349052000790834, -0.017507074400782585]\n"
     ]
    }
   ],
   "source": [
    "query = \"\"\"\n",
    "LIŽBUA i moj put,\n",
    "u svet, kule u vazduhu i na morskoj peni,\n",
    "priviđaju mi se još, dok mi žižak drhće ko prut\n",
    "i prenosi mi zemlju, u sne, u sne, u sne.\n",
    "Samo, to više nisu, ni žene, ni ljudi živi,\n",
    "nego neke nemoćne, slabe, i setne, seni,\n",
    "što mi kažu, da nisu zveri, da nisu krivi,\n",
    "da im život baš ništa nije dao,\n",
    "pa šapću „ñao, ñao, ñao“\n",
    "i naše „ne, ne“.\n",
    "\n",
    "     Ti, međutim, dišeš, u noćnoj tišini,\n",
    "     do zvezda, što kazuju put Suncu u tvoj san.\n",
    "     Ti slušaš svog srca lupu, u dubini,\n",
    "     što udara, ko stenom, u mračni Kalemegdan.\n",
    "     Tebi su naši boli sitni mravi.\n",
    "     Ti biser suza naših bacaš u prah.\n",
    "     Ali se nad njima, posle, Tvoja zora zaplavi,\n",
    "     u koju se mlad i veseo zagledah.\n",
    "     A kad umorno srce moje ućuti, da spi,\n",
    "     uzglavlje meko ćeš mi, u snu, biti, Ti.\n",
    "\n",
    "FINISTÈRE i njen stas,\n",
    "brak, poljupci, bura što je tako silna bila,\n",
    "priviđaju mi se još, po neki leptir, bulke, klas,\n",
    "dok, iz prošlosti, slušam, njen korak, tako lak.\n",
    "Samo, to više nije ona, ni njen glas nasmejan,\n",
    "nego neki kormoran, divljih i crnih krila,\n",
    "što viče: zrak svake sreće tone u Okean.\n",
    "Pa mi mrmlja reči „tombe“ i „sombre“.\n",
    "Pa krešti njino „ombre, ombre“. –  \n",
    "i naš „grob“ i „mrak“.\n",
    "\n",
    "     Ti, međutim, krećeš, ko naš labud večni,\n",
    "     iz smrti, i krvi, prema Suncu, na svoj put.\n",
    "     Dok meni dan tone u tvoj ponor rečni,\n",
    "     Ti se dižeš, iz jutra, sav zracima obasut.\n",
    "     Ja ću negde, sam, u Sahari, stati,\n",
    "     u onoj gde su karavani seni,\n",
    "     ali, ko što uz mrtvog Tuarega čuči mati,\n",
    "     Ti ćeš, do smrti, biti uteha meni.\n",
    "     A kad mi slome dušu, koplje i ruku i nogu,\n",
    "     Tebe, Tebe, znam da ne mogu, ne mogu.\n",
    "\"\"\"\n",
    "\n",
    "query_embedding_response = client.embeddings.create(\n",
    "        model=\"text-embedding-ada-002\",\n",
    "        input=query,\n",
    "    )\n",
    "query_embedding_mc = query_embedding_response.data[0].embedding\n",
    "\n",
    "print(query_embedding_mc)"
   ]
  },
  {
   "cell_type": "markdown",
   "metadata": {},
   "source": [
    "Correlations (we would typically use something else, a metric like [cosine distance](https://en.wikipedia.org/wiki/Cosine_similarity) or something similar)"
   ]
  },
  {
   "cell_type": "code",
   "execution_count": 28,
   "metadata": {},
   "outputs": [
    {
     "data": {
      "text/html": [
       "<div>\n",
       "<style scoped>\n",
       "    .dataframe tbody tr th:only-of-type {\n",
       "        vertical-align: middle;\n",
       "    }\n",
       "\n",
       "    .dataframe tbody tr th {\n",
       "        vertical-align: top;\n",
       "    }\n",
       "\n",
       "    .dataframe thead th {\n",
       "        text-align: right;\n",
       "    }\n",
       "</style>\n",
       "<table border=\"1\" class=\"dataframe\">\n",
       "  <thead>\n",
       "    <tr style=\"text-align: right;\">\n",
       "      <th></th>\n",
       "      <th>stc</th>\n",
       "      <th>ow</th>\n",
       "      <th>cb</th>\n",
       "      <th>mc</th>\n",
       "    </tr>\n",
       "  </thead>\n",
       "  <tbody>\n",
       "    <tr>\n",
       "      <th>stc</th>\n",
       "      <td>1.000000</td>\n",
       "      <td>0.833402</td>\n",
       "      <td>0.761302</td>\n",
       "      <td>0.775735</td>\n",
       "    </tr>\n",
       "    <tr>\n",
       "      <th>ow</th>\n",
       "      <td>0.833402</td>\n",
       "      <td>1.000000</td>\n",
       "      <td>0.803866</td>\n",
       "      <td>0.813332</td>\n",
       "    </tr>\n",
       "    <tr>\n",
       "      <th>cb</th>\n",
       "      <td>0.761302</td>\n",
       "      <td>0.803866</td>\n",
       "      <td>1.000000</td>\n",
       "      <td>0.775618</td>\n",
       "    </tr>\n",
       "    <tr>\n",
       "      <th>mc</th>\n",
       "      <td>0.775735</td>\n",
       "      <td>0.813332</td>\n",
       "      <td>0.775618</td>\n",
       "      <td>1.000000</td>\n",
       "    </tr>\n",
       "  </tbody>\n",
       "</table>\n",
       "</div>"
      ],
      "text/plain": [
       "          stc        ow        cb        mc\n",
       "stc  1.000000  0.833402  0.761302  0.775735\n",
       "ow   0.833402  1.000000  0.803866  0.813332\n",
       "cb   0.761302  0.803866  1.000000  0.775618\n",
       "mc   0.775735  0.813332  0.775618  1.000000"
      ]
     },
     "execution_count": 28,
     "metadata": {},
     "output_type": "execute_result"
    }
   ],
   "source": [
    "poets = pd.DataFrame({\"stc\":query_embedding_stc,\n",
    "                      \"ow\":query_embedding_ow,\n",
    "                      \"cb\":query_embedding_cb,\n",
    "                      \"mc\":query_embedding_mc})\n",
    "poets.corr()"
   ]
  },
  {
   "cell_type": "markdown",
   "metadata": {},
   "source": [
    "<hr>"
   ]
  },
  {
   "attachments": {},
   "cell_type": "markdown",
   "metadata": {},
   "source": [
    "DataKolektiv, 2023.\n",
    "\n",
    "[hello@datakolektiv.com](mailto:goran.milovanovic@datakolektiv.com)\n",
    "\n",
    "![](_img/DK_logo_horizontal.png)"
   ]
  },
  {
   "cell_type": "markdown",
   "metadata": {},
   "source": [
    "<font size=1>License: [GPLv3](https://www.gnu.org/licenses/gpl-3.0.txt) This Notebook is free software: you can redistribute it and/or modify it under the terms of the GNU General Public License as published by the Free Software Foundation, either version 3 of the License, or (at your option) any later version. This Notebook is distributed in the hope that it will be useful, but WITHOUT ANY WARRANTY; without even the implied warranty of MERCHANTABILITY or FITNESS FOR A PARTICULAR PURPOSE. See the GNU General Public License for more details. You should have received a copy of the GNU General Public License along with this Notebook. If not, see http://www.gnu.org/licenses/.</font>"
   ]
  }
 ],
 "metadata": {
  "kernelspec": {
   "display_name": "dss00python2023",
   "language": "python",
   "name": "python3"
  },
  "language_info": {
   "codemirror_mode": {
    "name": "ipython",
    "version": 3
   },
   "file_extension": ".py",
   "mimetype": "text/x-python",
   "name": "python",
   "nbconvert_exporter": "python",
   "pygments_lexer": "ipython3",
   "version": "3.11.5"
  },
  "orig_nbformat": 4,
  "vscode": {
   "interpreter": {
    "hash": "1cd3978be751434017ac2cef9d5b4683bcdb1c1d31a8fa91ec8c7c13b7681774"
   }
  }
 },
 "nbformat": 4,
 "nbformat_minor": 2
}
