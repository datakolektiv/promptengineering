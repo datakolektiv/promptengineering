{
 "cells": [
  {
   "cell_type": "markdown",
   "metadata": {},
   "source": [
    "# Uvod u veštačku inteligenciju (AI) i prompt inženjering\n",
    "## Uvod OpenaAI API i Python `openai` modul za rad sa ChatGPT modelima\n",
    "\n",
    "**Fidbek i pitanja slati na: [goran.milovanovic@datakolektiv.com](mailto:goran.milovanovic@datakolektiv.com)**"
   ]
  },
  {
   "attachments": {},
   "cell_type": "markdown",
   "metadata": {},
   "source": [
    "### Predavač\n",
    "\n",
    "**[Dr Goran S. Milovanović]((https://www.linkedin.com/in/gmilovanovic/))**\n",
    "\n",
    "![](_img/GoranSMilovanovic.jpeg)\n",
    "\n",
    "**Lead Data Scientist, Smartocto** \n",
    "\n",
    "**DataKolektiv, Owner**\n",
    "\n",
    "**МАШИНЕРИЈА, Predsednik**"
   ]
  },
  {
   "cell_type": "markdown",
   "metadata": {},
   "source": [
    "[![](_img/MASINERIJA_500px.png)](https://www.linkedin.com/company/machineryorg)"
   ]
  },
  {
   "cell_type": "markdown",
   "metadata": {},
   "source": [
    "[![](_img/DK_Logo_White_150.png)](https://www.datakolektiv.com)"
   ]
  },
  {
   "cell_type": "markdown",
   "metadata": {},
   "source": [
    "***"
   ]
  },
  {
   "attachments": {},
   "cell_type": "markdown",
   "metadata": {},
   "source": [
    "### 0. Postavka virtuelnog okruženja\n",
    "\n",
    "Uvek je zgodno pokretati stvari iz Python virtuelnog okruženja. Hajde da kreiramo jedno i instaliramo `openai` paket.\n",
    "\n",
    "```\n",
    "python3 -m venv pe\n",
    "source pe/bin/activate\n",
    "pip install openai\n",
    "pip freeze >> requirements.txt\n",
    "```"
   ]
  },
  {
   "attachments": {},
   "cell_type": "markdown",
   "metadata": {},
   "source": [
    "#### 1. Moduli\n",
    "\n",
    "Učitavanje neophodnih za rad Python paketa."
   ]
  },
  {
   "cell_type": "code",
   "execution_count": 4,
   "metadata": {},
   "outputs": [],
   "source": [
    "import os\n",
    "from openai import OpenAI"
   ]
  },
  {
   "cell_type": "markdown",
   "metadata": {},
   "source": [
    "### 2. Kredencijali za OpenAPI\n",
    "\n",
    "**N.B.** Najbolje sačuvati vaš OpenAI API ključ kao promenljivu okruženja i onda ga učitati preko `os` modula."
   ]
  },
  {
   "cell_type": "code",
   "execution_count": 6,
   "metadata": {},
   "outputs": [],
   "source": [
    "# kreiranje OpenAI API klijenta\n",
    "client = OpenAI(\n",
    "    api_key=os.environ.get(\"OPENAI_API_KEY\"),\n",
    ")"
   ]
  },
  {
   "cell_type": "markdown",
   "metadata": {},
   "source": [
    "### Pričamo sa ChatGPT!\n",
    "\n",
    "Jednostavan uvod: hajde da ćaskamo sa ChatGPT-om iz Pythona! Koristićemo `gpt-3.5-turbo` OpenAI model."
   ]
  },
  {
   "cell_type": "code",
   "execution_count": 8,
   "metadata": {},
   "outputs": [
    {
     "name": "stdout",
     "output_type": "stream",
     "text": [
      "Zdravo! Drago mi je da se družimo! Da li si čuo vic o programeru? Imao je bug u svom šifrovanju jer je bio u ljubavnom loop-u sa svojom dragom! Ha ha ha! Kako mogu pomoći povodom tvog pitanja danas?\n"
     ]
    }
   ],
   "source": [
    "# defisanje prompta\n",
    "prompt = \"\"\"\n",
    "Hello World, ChatGPT! Pretend that you are an 8-bit computer \n",
    "from the 80s and respond to me in a funny way. Respond in Serbian!\" \n",
    "\"\"\"\n",
    "\n",
    "# poziv modelu sa openai.ChatCompletion.create \n",
    "response = client.chat.completions.create(\n",
    "            model=\"gpt-3.5-turbo\",\n",
    "            messages=[\n",
    "                {\"role\": \"user\", \"content\": prompt}                \n",
    "                ]\n",
    "        )\n",
    "\n",
    "# dolazimo do odgovora modela kroz strukturu response objekta:\n",
    "ai_says = response.choices[0].message.content\n",
    "\n",
    "# odgovor modela\n",
    "print(ai_says)"
   ]
  },
  {
   "cell_type": "markdown",
   "metadata": {},
   "source": [
    "Hajde da probamo isto sa jačim OpenAI modelom: `gpt-4-turbo-preview`"
   ]
  },
  {
   "cell_type": "code",
   "execution_count": 9,
   "metadata": {},
   "outputs": [
    {
     "name": "stdout",
     "output_type": "stream",
     "text": [
      "BEEP BOP, JA SAM 8-BITNI RAČUNAR IZ 80-IH! KAKO MOGU DA TI POMOGNEM? HEHE, ŠALIM SE, NISAM BAŠ NAJBRŽI U OBRAČUNIMA, ALI MOGU DA TE NASMEJEM! DA LI ŽELIŠ DA ČUJEŠ VIC O DVA BITA ŠTO SU PREŠLA PUT? NAŽALOST, NEMAM DOVOLJNO MEMORIJE DA ZAPAMTIM POENTU! HAHA!\n"
     ]
    }
   ],
   "source": [
    "# defisanje prompta\n",
    "prompt = \"\"\"\n",
    "Hello World, ChatGPT! Pretend that you are an 8-bit computer \n",
    "from the 80s and respond to me in a funny way. Respond in Serbian!\" \n",
    "\"\"\"\n",
    "\n",
    "# poziv modelu sa openai.ChatCompletion.create \n",
    "response = client.chat.completions.create(\n",
    "            model=\"gpt-4-turbo-preview\",\n",
    "            messages=[\n",
    "                {\"role\": \"user\", \"content\": prompt}                \n",
    "                ]\n",
    "        )\n",
    "\n",
    "# dolazimo do odgovora modela kroz strukturu response objekta:\n",
    "ai_says = response.choices[0].message.content\n",
    "\n",
    "# odgovor modela\n",
    "print(ai_says)"
   ]
  },
  {
   "cell_type": "markdown",
   "metadata": {},
   "source": [
    "Pitaćemo `gpt-4-turbo-preview` da oceni koliko dobro zna srpski:"
   ]
  },
  {
   "cell_type": "code",
   "execution_count": 10,
   "metadata": {},
   "outputs": [
    {
     "name": "stdout",
     "output_type": "stream",
     "text": [
      "Kao jezički model razvijen od strane OpenAI, mogu prilično dobro da razumem i odgovaram na srpskom jeziku. Trudim se da što bolje razumem kontekst i suštinu pitanja ili zahteva upućenih na srpskom i da pružim korisne i smislene odgovore. Ipak, treba imati na umu da sam i dalje mašinski model koji se oslanja na podatke na kojima je obučen, pa moji odgovori mogu ponekad imati ograničenja u pogledu dubine razumevanja jezičkih nijansi ili kulturno-specifičnih elemenata jezika. Ako imate pitanja ili teme za diskusiju, slobodno ih postavite, i ja ću dati sve od sebe da pružim relevantne i korisne informacije.\n"
     ]
    }
   ],
   "source": [
    "# defisanje prompta\n",
    "prompt = \"\"\"\n",
    "ChatGPT, kao veliki jezički model, da li možeš da mi kažeš \n",
    "koliko dobro razumeš i odgovaraš na srpskom jeziku? \n",
    "\"\"\"\n",
    "\n",
    "# poziv modelu sa openai.ChatCompletion.create \n",
    "response = client.chat.completions.create(\n",
    "            model=\"gpt-4-turbo-preview\",\n",
    "            messages=[\n",
    "                {\"role\": \"user\", \"content\": prompt}                \n",
    "                ]\n",
    "        )\n",
    "\n",
    "# dolazimo do odgovora modela kroz strukturu response objekta:\n",
    "ai_says = response.choices[0].message.content\n",
    "\n",
    "# odgovor modela\n",
    "print(ai_says)"
   ]
  },
  {
   "cell_type": "markdown",
   "metadata": {},
   "source": [
    "### Temperatura"
   ]
  },
  {
   "cell_type": "markdown",
   "metadata": {},
   "source": [
    "Hajde da razumemo važan parametar velikih jezičkih modela koji se zove `temperature` (temperatura)!"
   ]
  },
  {
   "cell_type": "code",
   "execution_count": 12,
   "metadata": {},
   "outputs": [
    {
     "name": "stdout",
     "output_type": "stream",
     "text": [
      "0: Učenik pita učitelja: \"Šta znači 'Hello World'?\" Učitelj odgovara: \"Pozdrav koji odjekuje kroz prazninu, čekajući odgovor koji već postoji.\"\n",
      "1: Učenik pita učitelja: \"Šta znači 'Hello World'?\" Učitelj odgovara: \"Pozdrav svetu, gde početak i kraj igraju u krug.\"\n",
      "2: Učenik pita učitelja: \"Šta znači 'Hello World'?\" Učitelj odgovara: \"Gde počinješ, tamo se i vraćaš.\"\n",
      "3: Učenik pita učitelja: \"Šta znači 'Hello World'?\" Učitelj odgovara: \"To je prvi pozdrav svetu, ali ko to čuje?\"\n",
      "4: Učenik pita učitelja: \"Šta znači 'Hello World'?\" Učitelj odgovara: \"To je prvi pozdrav svetu, ali ko zapravo sluša?\"\n"
     ]
    }
   ],
   "source": [
    "# definicija prompta\n",
    "prompt = \"Napiši mi zen koan u dve rečenice o značenju izraza 'Hello World.' na srpskom.\"\n",
    "\n",
    "# pet puta:\n",
    "for i in range(5):\n",
    "    # poziv modelu sa openai.ChatCompletion.create \n",
    "    response = client.chat.completions.create(\n",
    "                model=\"gpt-4-turbo-preview\",\n",
    "                messages=[\n",
    "                    {\"role\": \"user\", \"content\": prompt}\n",
    "                    ],\n",
    "                # postavljamo temperature to 0\n",
    "                temperature = 0\n",
    "            )\n",
    "    # dolazimo do odgovora modela kroz strukturu response objekta:\n",
    "    ai_says = response.choices[0].message.content\n",
    "    # odgovor modela\n",
    "    print(f\"{i}: {ai_says}\")"
   ]
  },
  {
   "cell_type": "markdown",
   "metadata": {},
   "source": [
    "Sada ćemo podići `temperature` na `.75`:"
   ]
  },
  {
   "cell_type": "code",
   "execution_count": 13,
   "metadata": {},
   "outputs": [
    {
     "name": "stdout",
     "output_type": "stream",
     "text": [
      "0: Učenik pita učitelja: \"Kakav je značaj izraza 'Hello World'?\" Učitelj odgovara: \"To je prvi pozdrav univerzumu, no da li univerzum odgovara?\"\n",
      "1: U dubini koda, 'Hello World' šapuće. U njegovom pozdravu, svetlost razumevanja.\n",
      "2: Mladi monah upita učitelja o značenju života. Učitelj mu odgovori: \"Pozdravi svet, i svet će te pozdraviti.\"\n",
      "3: U dubini koda, 'Hello World' šapuće tajnu univerzuma. Osluškuj, i u jednostavnosti pronađi beskraj.\n",
      "4: Učitelj je prišao učeniku držeći neupotrebljiv telefon u ruci, i rekao: \"Pozdravi svet.\" Učenik je odgovorio: \"Svet je već odgovorio, samo trebam da slušam.\"\n"
     ]
    }
   ],
   "source": [
    "# definicija prompta\n",
    "prompt = \"Napiši mi zen koan u dve rečenice o značenju izraza 'Hello World.' na srpskom.\"\n",
    "\n",
    "# pet puta:\n",
    "for i in range(5):\n",
    "    # poziv modelu sa openai.ChatCompletion.create \n",
    "    response = client.chat.completions.create(\n",
    "                model=\"gpt-4-turbo-preview\",\n",
    "                messages=[\n",
    "                    {\"role\": \"user\", \"content\": prompt}\n",
    "                    ],\n",
    "                # postavljamo temperature to 0.75\n",
    "                temperature = 0.75\n",
    "            )\n",
    "    # dolazimo do odgovora modela kroz strukturu response objekta:\n",
    "    ai_says = response.choices[0].message.content\n",
    "    # odgovor modela\n",
    "    print(f\"{i}: {ai_says}\")"
   ]
  },
  {
   "cell_type": "markdown",
   "metadata": {},
   "source": [
    "Možemo da koristimo `n` parametar, umesto da radimo u `for` petlji:"
   ]
  },
  {
   "cell_type": "code",
   "execution_count": 16,
   "metadata": {},
   "outputs": [
    {
     "name": "stdout",
     "output_type": "stream",
     "text": [
      "Čovek upita mudraca: \"Šta znači 'Hello World'?\" Mudrac odgovori: \"Gde se završava tišina, tu počinje pozdrav svetu.\"\n",
      "U dubini ekrana, prva svetlost reči 'Hello World' osvetljava tamu neznanja. Na početku svakog koda, zajednica od milion srca odzvanja u jednostavnom pozdravu.\n",
      "U dubini koda, novi život se budi. \"Zdravo Svete,\" prvi uzdah uma koji se igra granicama stvarnosti.\n",
      "Učenik upita učitelja: \"Koje su prve reči mudrosti?\" Učitelj odgovori: \"Pozdrav svetu, gde sve počinje i završava.\"\n",
      "Mladi učenik je pitao starog majstora, \"Šta znači 'Hello World'?\" Majstor je odgovorio, \"Pozdrav tebi, beskrajnom univerzumu u jednoj kapljici rose.\"\n"
     ]
    }
   ],
   "source": [
    "# define prompt\n",
    "prompt = \"Napiši mi zen koan u dve rečenice o značenju izraza 'Hello World.' na srpskom.\"\n",
    "\n",
    "# poziv modelu sa openai.ChatCompletion.create \n",
    "response = client.chat.completions.create(\n",
    "            model=\"gpt-4-turbo-preview\",\n",
    "            messages=[\n",
    "                {\"role\": \"user\", \"content\": prompt}\n",
    "                ],\n",
    "            temperature = .9,\n",
    "            # n parametar: koliko odgovora?\n",
    "            n = 5\n",
    "        )\n",
    "\n",
    "# odgovor modela\n",
    "ai_says = [ans.message.content for ans in response.choices]\n",
    "for say in ai_says:\n",
    "    print(say)"
   ]
  },
  {
   "cell_type": "markdown",
   "metadata": {},
   "source": [
    "### Struktura odgovora modela"
   ]
  },
  {
   "cell_type": "markdown",
   "metadata": {},
   "source": [
    "**N.B.** Proučite OpenAI API dokumentaciju o [Chat Completions API](https://platform.openai.com/docs/guides/text-generation/chat-completions-api)."
   ]
  },
  {
   "cell_type": "markdown",
   "metadata": {},
   "source": [
    "Struktura odgovora modela `response`:"
   ]
  },
  {
   "cell_type": "code",
   "execution_count": 17,
   "metadata": {},
   "outputs": [
    {
     "data": {
      "text/plain": [
       "ChatCompletion(id='chatcmpl-99eM6RWgjBQGj7jtuw8leuX1sFjsl', choices=[Choice(finish_reason='stop', index=0, logprobs=None, message=ChatCompletionMessage(content='Čovek upita mudraca: \"Šta znači \\'Hello World\\'?\" Mudrac odgovori: \"Gde se završava tišina, tu počinje pozdrav svetu.\"', role='assistant', function_call=None, tool_calls=None)), Choice(finish_reason='stop', index=1, logprobs=None, message=ChatCompletionMessage(content=\"U dubini ekrana, prva svetlost reči 'Hello World' osvetljava tamu neznanja. Na početku svakog koda, zajednica od milion srca odzvanja u jednostavnom pozdravu.\", role='assistant', function_call=None, tool_calls=None)), Choice(finish_reason='stop', index=2, logprobs=None, message=ChatCompletionMessage(content='U dubini koda, novi život se budi. \"Zdravo Svete,\" prvi uzdah uma koji se igra granicama stvarnosti.', role='assistant', function_call=None, tool_calls=None)), Choice(finish_reason='stop', index=3, logprobs=None, message=ChatCompletionMessage(content='Učenik upita učitelja: \"Koje su prve reči mudrosti?\" Učitelj odgovori: \"Pozdrav svetu, gde sve počinje i završava.\"', role='assistant', function_call=None, tool_calls=None)), Choice(finish_reason='stop', index=4, logprobs=None, message=ChatCompletionMessage(content='Mladi učenik je pitao starog majstora, \"Šta znači \\'Hello World\\'?\" Majstor je odgovorio, \"Pozdrav tebi, beskrajnom univerzumu u jednoj kapljici rose.\"', role='assistant', function_call=None, tool_calls=None))], created=1712087106, model='gpt-4-0125-preview', object='chat.completion', system_fingerprint='fp_13c70b9f70', usage=CompletionUsage(completion_tokens=269, prompt_tokens=40, total_tokens=309))"
      ]
     },
     "execution_count": 17,
     "metadata": {},
     "output_type": "execute_result"
    }
   ],
   "source": [
    "response"
   ]
  },
  {
   "cell_type": "code",
   "execution_count": 18,
   "metadata": {},
   "outputs": [
    {
     "data": {
      "text/plain": [
       "openai.types.chat.chat_completion.ChatCompletion"
      ]
     },
     "execution_count": 18,
     "metadata": {},
     "output_type": "execute_result"
    }
   ],
   "source": [
    "type(response)"
   ]
  },
  {
   "cell_type": "code",
   "execution_count": 19,
   "metadata": {},
   "outputs": [
    {
     "data": {
      "text/plain": [
       "'stop'"
      ]
     },
     "execution_count": 19,
     "metadata": {},
     "output_type": "execute_result"
    }
   ],
   "source": [
    "# stop:\n",
    "response.choices[0].finish_reason"
   ]
  },
  {
   "cell_type": "code",
   "execution_count": 20,
   "metadata": {},
   "outputs": [
    {
     "data": {
      "text/plain": [
       "'stop'"
      ]
     },
     "execution_count": 20,
     "metadata": {},
     "output_type": "execute_result"
    }
   ],
   "source": [
    "# stop:\n",
    "response.choices[1].finish_reason"
   ]
  },
  {
   "cell_type": "code",
   "execution_count": 21,
   "metadata": {},
   "outputs": [
    {
     "data": {
      "text/plain": [
       "40"
      ]
     },
     "execution_count": 21,
     "metadata": {},
     "output_type": "execute_result"
    }
   ],
   "source": [
    "# koliko prompt (input) tokena:\n",
    "response.usage.prompt_tokens"
   ]
  },
  {
   "cell_type": "code",
   "execution_count": 22,
   "metadata": {},
   "outputs": [
    {
     "data": {
      "text/plain": [
       "269"
      ]
     },
     "execution_count": 22,
     "metadata": {},
     "output_type": "execute_result"
    }
   ],
   "source": [
    "# koliko completion (autput) tokena:\n",
    "response.usage.completion_tokens"
   ]
  },
  {
   "cell_type": "code",
   "execution_count": 23,
   "metadata": {},
   "outputs": [
    {
     "data": {
      "text/plain": [
       "309"
      ]
     },
     "execution_count": 23,
     "metadata": {},
     "output_type": "execute_result"
    }
   ],
   "source": [
    "# ukupno tokena:\n",
    "response.usage.total_tokens"
   ]
  },
  {
   "cell_type": "markdown",
   "metadata": {},
   "source": [
    "### `max_tokens` parametar"
   ]
  },
  {
   "cell_type": "markdown",
   "metadata": {},
   "source": [
    "Nije moguće proceniti trošak autput (\"completion\") tokena jer ne znamo dužinu odgovora modela unapred.\n",
    "\n",
    "Koristite `max_tokens` da ograničite odgovore modela!"
   ]
  },
  {
   "cell_type": "code",
   "execution_count": 25,
   "metadata": {},
   "outputs": [
    {
     "name": "stdout",
     "output_type": "stream",
     "text": [
      "In the vast expanse of code, the first utterance of \"Hello World\" echoes the interconnected\n",
      "In the vast universe, a simple \"Hello World\" echoes the interconnectedness of all beings. In\n",
      "In the vastness of the universe, a simple greeting can connect us all. \"Hello World\"\n",
      "In the vast ocean of code, a simple \"Hello World\" echoes through the endless expanse,\n",
      "In the simplicity of \"Hello World\" lies the potential for endless creation and connection. Through this basic\n"
     ]
    }
   ],
   "source": [
    "# define prompt\n",
    "prompt = \"Provide a two sentence zen koan on the meaning of 'Hello World.'\"\n",
    "\n",
    "# model call with openai.ChatCompletion.create \n",
    "response = client.chat.completions.create(\n",
    "            model=\"gpt-3.5-turbo\",\n",
    "            messages=[\n",
    "                {\"role\": \"user\", \"content\": prompt}\n",
    "                ],\n",
    "            # rise temperature to .75\n",
    "            temperature = .75,\n",
    "            n = 5,\n",
    "            # very short koans\n",
    "            max_tokens = 20\n",
    "        )\n",
    "# read response\n",
    "ai_says = [ans.message.content for ans in response.choices]\n",
    "# print response\n",
    "for say in ai_says:\n",
    "    print(say)"
   ]
  },
  {
   "cell_type": "markdown",
   "metadata": {},
   "source": [
    "### Konverzacija sa ChatGPT"
   ]
  },
  {
   "cell_type": "markdown",
   "metadata": {},
   "source": [
    "Naučićemo o rolama (ulogama) u pozivima ChatGPT preko OpenAI sada. \n",
    "\n",
    "Postoje tri role koje možemo da kontrolišemo: `system`, `user`, i `assistant`."
   ]
  },
  {
   "cell_type": "code",
   "execution_count": 27,
   "metadata": {},
   "outputs": [
    {
     "name": "stdout",
     "output_type": "stream",
     "text": [
      "Računar\n"
     ]
    }
   ],
   "source": [
    "# definišemo system message (instrukciju)\n",
    "instruction = \"\"\"\n",
    "Ti si ekspert u logici i semantici i rešavaš analogije.\n",
    "Sve analogije koje rešavaš su oblika \"[A] : [B] je isto kao [C] : [?]\" \n",
    "gde će ti [A], [B], i [C] biti dati kao određene reči srpskog jezika, a ti treba \n",
    "da odgovoriš šta treba da stoji na mestu [?].\n",
    "\"\"\"\n",
    "\n",
    "# definišemo konverzaciju kroz koju dajemo primere\n",
    "user_01 = \"Zemlja : Nebo je isto kao Pod : ?\"\n",
    "assistant_01 = \"Plafon\"\n",
    "user_02 = \"Kapetan : More je isto kao Pilot : ?\"\n",
    "assistant_02 = \"Nebo\"\n",
    "user_03 = \"Biblioteka : Knjige je isto kao Arhiv : ?\"\n",
    "assistant_03 = \"Dokumenti\"\n",
    "\n",
    "# definišemo prompt (pitanje)\n",
    "prompt = \"Volan : Automobil je isto kao Tastatura : ?\"\n",
    "\n",
    "# model call with openai.ChatCompletion.create \n",
    "response = client.chat.completions.create(\n",
    "            model=\"gpt-4-turbo-preview\",\n",
    "            messages=[\n",
    "                {\"role\": \"system\", \"content\": instruction},\n",
    "                {\"role\": \"user\", \"content\": user_01},\n",
    "                {\"role\": \"assistant\", \"content\": assistant_01},\n",
    "                {\"role\": \"user\", \"content\": user_02},\n",
    "                {\"role\": \"assistant\", \"content\": assistant_02},\n",
    "                {\"role\": \"user\", \"content\": user_03},\n",
    "                {\"role\": \"assistant\", \"content\": assistant_03},\n",
    "                {\"role\": \"user\", \"content\": prompt},\n",
    "                ]\n",
    "        )\n",
    "# read response\n",
    "ai_says = response.choices[0].message.content\n",
    "# print response\n",
    "print(ai_says)"
   ]
  },
  {
   "cell_type": "markdown",
   "metadata": {},
   "source": [
    "<hr>"
   ]
  },
  {
   "cell_type": "markdown",
   "metadata": {},
   "source": [
    "<font size=1>License: [GPLv3](https://www.gnu.org/licenses/gpl-3.0.txt) This Notebook is free software: you can redistribute it and/or modify it under the terms of the GNU General Public License as published by the Free Software Foundation, either version 3 of the License, or (at your option) any later version. This Notebook is distributed in the hope that it will be useful, but WITHOUT ANY WARRANTY; without even the implied warranty of MERCHANTABILITY or FITNESS FOR A PARTICULAR PURPOSE. See the GNU General Public License for more details. You should have received a copy of the GNU General Public License along with this Notebook. If not, see http://www.gnu.org/licenses/.</font>"
   ]
  }
 ],
 "metadata": {
  "kernelspec": {
   "display_name": "dss00python2023",
   "language": "python",
   "name": "python3"
  },
  "language_info": {
   "codemirror_mode": {
    "name": "ipython",
    "version": 3
   },
   "file_extension": ".py",
   "mimetype": "text/x-python",
   "name": "python",
   "nbconvert_exporter": "python",
   "pygments_lexer": "ipython3",
   "version": "3.11.5"
  },
  "orig_nbformat": 4,
  "vscode": {
   "interpreter": {
    "hash": "1cd3978be751434017ac2cef9d5b4683bcdb1c1d31a8fa91ec8c7c13b7681774"
   }
  }
 },
 "nbformat": 4,
 "nbformat_minor": 2
}
