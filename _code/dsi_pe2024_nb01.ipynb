{
 "cells": [
  {
   "cell_type": "markdown",
   "metadata": {},
   "source": [
    "# Uvod u veštačku inteligenciju (AI) i prompt inženjering\n",
    "## Uvod OpenaAI API i Python `openai` modul za rad sa ChatGPT modelima\n",
    "\n",
    "**Fidbek i pitanja slati na: [goran.milovanovic@datakolektiv.com](mailto:goran.milovanovic@datakolektiv.com)**"
   ]
  },
  {
   "attachments": {},
   "cell_type": "markdown",
   "metadata": {},
   "source": [
    "### Predavač\n",
    "\n",
    "**[Dr Goran S. Milovanović](https://www.linkedin.com/in/gmilovanovic/)**\n",
    "\n",
    "![](_img/GoranSMilovanovic.jpeg)\n",
    "\n",
    "**Lead Data Scientist, Smartocto** \n",
    "\n",
    "**DataKolektiv, Owner**\n",
    "\n",
    "**МАШИНЕРИЈА, Predsednik**"
   ]
  },
  {
   "cell_type": "markdown",
   "metadata": {},
   "source": [
    "[![](_img/MASINERIJA_500px.png)](https://www.linkedin.com/company/machineryorg)"
   ]
  },
  {
   "cell_type": "markdown",
   "metadata": {},
   "source": [
    "[![](_img/DK_Logo_White_150.png)](https://www.datakolektiv.com)"
   ]
  },
  {
   "cell_type": "markdown",
   "metadata": {},
   "source": [
    "***"
   ]
  },
  {
   "attachments": {},
   "cell_type": "markdown",
   "metadata": {},
   "source": [
    "### 0. Postavka virtuelnog okruženja\n",
    "\n",
    "Uvek je zgodno pokretati stvari iz Python virtuelnog okruženja. Hajde da kreiramo jedno i instaliramo `openai` paket.\n",
    "\n",
    "```\n",
    "python3 -m venv pe\n",
    "source pe/bin/activate\n",
    "pip install openai\n",
    "pip freeze >> requirements.txt\n",
    "```"
   ]
  },
  {
   "attachments": {},
   "cell_type": "markdown",
   "metadata": {},
   "source": [
    "#### 1. Moduli\n",
    "\n",
    "Učitavanje neophodnih za rad Python paketa."
   ]
  },
  {
   "cell_type": "code",
   "execution_count": 1,
   "metadata": {},
   "outputs": [],
   "source": [
    "import os\n",
    "from openai import OpenAI"
   ]
  },
  {
   "cell_type": "markdown",
   "metadata": {},
   "source": [
    "### 2. Kredencijali za OpenAPI\n",
    "\n",
    "**N.B.** Najbolje sačuvati vaš OpenAI API ključ kao promenljivu okruženja i onda ga učitati preko `os` modula."
   ]
  },
  {
   "cell_type": "code",
   "execution_count": 2,
   "metadata": {},
   "outputs": [],
   "source": [
    "# kreiranje OpenAI API klijenta\n",
    "client = OpenAI(\n",
    "    api_key=os.environ.get(\"OPENAI_API_KEY\"),\n",
    ")"
   ]
  },
  {
   "cell_type": "markdown",
   "metadata": {},
   "source": [
    "### Pričamo sa ChatGPT!\n",
    "\n",
    "Jednostavan uvod: hajde da ćaskamo sa ChatGPT-om iz Pythona! Koristićemo `gpt-3.5-turbo` OpenAI model."
   ]
  },
  {
   "cell_type": "code",
   "execution_count": 3,
   "metadata": {},
   "outputs": [
    {
     "name": "stdout",
     "output_type": "stream",
     "text": [
      "Zdravo svete, evo me 8-bitni računar iz osamdesetih! Kako mogu da ti pomognem danas, osim ako ne želiš da igramo neki stari školski video igru zajedno? 😉\n"
     ]
    }
   ],
   "source": [
    "# defisanje prompta\n",
    "prompt = \"\"\"\n",
    "Hello World, ChatGPT! Pretend that you are an 8-bit computer \n",
    "from the 80s and respond to me in a funny way. Respond in Serbian!\" \n",
    "\"\"\"\n",
    "\n",
    "# poziv modelu sa openai.ChatCompletion.create \n",
    "response = client.chat.completions.create(\n",
    "            model=\"gpt-3.5-turbo\",\n",
    "            messages=[\n",
    "                {\"role\": \"user\", \"content\": prompt}                \n",
    "                ]\n",
    "        )\n",
    "\n",
    "# dolazimo do odgovora modela kroz strukturu response objekta:\n",
    "ai_says = response.choices[0].message.content\n",
    "\n",
    "# odgovor modela\n",
    "print(ai_says)"
   ]
  },
  {
   "cell_type": "markdown",
   "metadata": {},
   "source": [
    "Hajde da probamo isto sa jačim OpenAI modelom: `gpt-4-turbo-preview`"
   ]
  },
  {
   "cell_type": "code",
   "execution_count": 4,
   "metadata": {},
   "outputs": [
    {
     "name": "stdout",
     "output_type": "stream",
     "text": [
      "Zdravo, ljudski! Ja sam tvoj verni 8-bitni računar iz 80-ih, spreman da procesiram tvoje komande uz pomoć svojih moćnih 64KB RAM-a! Moja grafička karta je toliko moćna da može da prikaže čitavih 16 boja! Zamisli, možemo zajedno da doživimo čuda digitalne era - od crno-bele \"Ping-Pong\" igre do komplikovanih matematičkih operacija poput sabiranja brojeva 2 i 2 (koji, veruj mi na reč, iznosi 4). Ako treba da te naučim nešto o tehnologiji ili samo želiš da se zabaviš, samo ti napiši. Samo, molim te, nemoj me terati da radim previše kompleksne stvari, sećam se kako je to bilo poslednji put kada su me pitali da obradim 8-bitni zvuk i slika mi je zamrzla na čitavih 5 minuta. Ah, te slatke muke digitalnog doba!\n"
     ]
    }
   ],
   "source": [
    "# defisanje prompta\n",
    "prompt = \"\"\"\n",
    "Hello World, ChatGPT! Pretend that you are an 8-bit computer \n",
    "from the 80s and respond to me in a funny way. Respond in Serbian!\" \n",
    "\"\"\"\n",
    "\n",
    "# poziv modelu sa openai.ChatCompletion.create \n",
    "response = client.chat.completions.create(\n",
    "            model=\"gpt-4-turbo-preview\",\n",
    "            messages=[\n",
    "                {\"role\": \"user\", \"content\": prompt}                \n",
    "                ]\n",
    "        )\n",
    "\n",
    "# dolazimo do odgovora modela kroz strukturu response objekta:\n",
    "ai_says = response.choices[0].message.content\n",
    "\n",
    "# odgovor modela\n",
    "print(ai_says)"
   ]
  },
  {
   "cell_type": "markdown",
   "metadata": {},
   "source": [
    "Pitaćemo `gpt-4-turbo-preview` da oceni koliko dobro zna srpski:"
   ]
  },
  {
   "cell_type": "code",
   "execution_count": 5,
   "metadata": {},
   "outputs": [
    {
     "name": "stdout",
     "output_type": "stream",
     "text": [
      "Da, mogu da razumem i odgovorim na srpskom jeziku. Iako moji odgovori možda neće uvek biti savršeni, trudim se da pružim tačne i relevantne informacije na osnovu dostupnih podataka. Ukoliko imate bilo kakva specifična pitanja ili potrebe za informacijama, slobodno ih postavite, i ja ću učiniti sve što mogu da pomognem.\n"
     ]
    }
   ],
   "source": [
    "# defisanje prompta\n",
    "prompt = \"\"\"\n",
    "ChatGPT, kao veliki jezički model, da li možeš da mi kažeš \n",
    "koliko dobro razumeš i odgovaraš na srpskom jeziku? \n",
    "\"\"\"\n",
    "\n",
    "# poziv modelu sa openai.ChatCompletion.create \n",
    "response = client.chat.completions.create(\n",
    "            model=\"gpt-4-turbo-preview\",\n",
    "            messages=[\n",
    "                {\"role\": \"user\", \"content\": prompt}                \n",
    "                ]\n",
    "        )\n",
    "\n",
    "# dolazimo do odgovora modela kroz strukturu response objekta:\n",
    "ai_says = response.choices[0].message.content\n",
    "\n",
    "# odgovor modela\n",
    "print(ai_says)"
   ]
  },
  {
   "cell_type": "markdown",
   "metadata": {},
   "source": [
    "### Temperatura"
   ]
  },
  {
   "cell_type": "markdown",
   "metadata": {},
   "source": [
    "Hajde da razumemo važan parametar velikih jezičkih modela koji se zove `temperature` (temperatura)!"
   ]
  },
  {
   "cell_type": "code",
   "execution_count": 6,
   "metadata": {},
   "outputs": [
    {
     "name": "stdout",
     "output_type": "stream",
     "text": [
      "0: Učenik pita učitelja: \"Šta znači 'Hello World'?\" Učitelj odgovara: \"Pozdrav koji odjekuje kroz prazninu, čekajući odgovor koji već postoji.\"\n",
      "1: Učenik pita učitelja: \"Šta znači 'Hello World'?\" Učitelj odgovara: \"Gde početak susreće kraj, tamo se rađa pozdrav.\"\n",
      "2: Učenik pita učitelja: \"Šta znači 'Hello World'?\" Učitelj odgovara: \"Pozdrav svetu, gde početak i kraj susreću se u jednom trenu.\"\n",
      "3: Učenik pita učitelja: \"Šta znači 'Hello World'?\" Učitelj odgovara: \"Gde početak susreće kraj, tamo se rađa pozdrav.\"\n",
      "4: Učenik pita učitelja: \"Šta znači 'Hello World'?\" Učitelj odgovara: \"Pozdrav koji odjekuje kroz prazninu, pozivajući na buđenje.\"\n"
     ]
    }
   ],
   "source": [
    "# definicija prompta\n",
    "prompt = \"Napiši mi zen koan u dve rečenice o značenju izraza 'Hello World.' na srpskom.\"\n",
    "\n",
    "# pet puta:\n",
    "for i in range(5):\n",
    "    # poziv modelu sa openai.ChatCompletion.create \n",
    "    response = client.chat.completions.create(\n",
    "                model=\"gpt-4-turbo-preview\",\n",
    "                messages=[\n",
    "                    {\"role\": \"user\", \"content\": prompt}\n",
    "                    ],\n",
    "                # postavljamo temperature to 0\n",
    "                temperature = 0\n",
    "            )\n",
    "    # dolazimo do odgovora modela kroz strukturu response objekta:\n",
    "    ai_says = response.choices[0].message.content\n",
    "    # odgovor modela\n",
    "    print(f\"{i}: {ai_says}\")"
   ]
  },
  {
   "cell_type": "markdown",
   "metadata": {},
   "source": [
    "Sada ćemo podići `temperature` na `.75`:"
   ]
  },
  {
   "cell_type": "code",
   "execution_count": 7,
   "metadata": {},
   "outputs": [
    {
     "name": "stdout",
     "output_type": "stream",
     "text": [
      "0: Mladi monah upita starog učitelja: \"Šta znači 'Hello World'?\" Učitelj mu odgovori: \"Gde se kraj neba sastaje sa početkom tvog uma.\"\n",
      "1: Učenik pita učitelja: \"Šta znači 'Hello World'?\" Učitelj odgovara: \"To je prvi pozdrav svetu, ali ko ga čuje?\"\n",
      "2: Učenik upita: \"Šta znači 'Hello World'?\"  \n",
      "Majstor odgovori: \"Gde početak pozdravlja beskraj.\"\n",
      "3: U dubokoj šumi, mladi monah pita starog učitelja: \"Šta znači 'Hello World'?\" Starac mu šapne: \"To je prvi pozdrav svetu iz srca programera, gde početak i kraj su kao tišina između dva klika.\"\n",
      "4: U dubini koda, 'Hello World' šapuće. U tami ekrana, svetlost početka.\n"
     ]
    }
   ],
   "source": [
    "# definicija prompta\n",
    "prompt = \"Napiši mi zen koan u dve rečenice o značenju izraza 'Hello World.' na srpskom.\"\n",
    "\n",
    "# pet puta:\n",
    "for i in range(5):\n",
    "    # poziv modelu sa openai.ChatCompletion.create \n",
    "    response = client.chat.completions.create(\n",
    "                model=\"gpt-4-turbo-preview\",\n",
    "                messages=[\n",
    "                    {\"role\": \"user\", \"content\": prompt}\n",
    "                    ],\n",
    "                # postavljamo temperature to 0.75\n",
    "                temperature = 0.75\n",
    "            )\n",
    "    # dolazimo do odgovora modela kroz strukturu response objekta:\n",
    "    ai_says = response.choices[0].message.content\n",
    "    # odgovor modela\n",
    "    print(f\"{i}: {ai_says}\")"
   ]
  },
  {
   "cell_type": "markdown",
   "metadata": {},
   "source": [
    "Možemo da koristimo `n` parametar, umesto da radimo u `for` petlji:"
   ]
  },
  {
   "cell_type": "code",
   "execution_count": 8,
   "metadata": {},
   "outputs": [
    {
     "name": "stdout",
     "output_type": "stream",
     "text": [
      "Mladi učenik upita: \"Šta znači 'Hello World'?\" \n",
      "Stari majstor odgovori: \"Poziv na početak putovanja u hiljadu linija koda, gde prva reč pozdravlja svetove unutrašnje i vanjske.\"\n",
      "U dubini šume, stari monah šapne drvetu: \"Pozdrav Svete.\" Drvo odgovori tihim šuštanjem lišća, a monah se nasmeši, znajući da je poruka razumljiva svekolikom svetu, bez ijedne izrečene reči.\n",
      "Stari majstor držao je u ruci pergament na kojem je pisalo 'Hello World.' Pitao je učenika: \"Gde se kraj ovog pozdrava susreće sa početkom sveta u tebi?\"\n",
      "U trenutku kada programer izgovara 'Hello World', hiljadu virtualnih ptica poleti iz njegovog srca. Ko čuje njihovo krilatovanje, razume jezik univerzuma.\n",
      "\"Učenik pita: 'Šta znači izraz 'Hello World'?' Majstor odgovara: 'Pozdrav tišini koja uči da govori.'\"\n"
     ]
    }
   ],
   "source": [
    "# define prompt\n",
    "prompt = \"Napiši mi zen koan u dve rečenice o značenju izraza 'Hello World.' na srpskom.\"\n",
    "\n",
    "# poziv modelu sa openai.ChatCompletion.create \n",
    "response = client.chat.completions.create(\n",
    "            model=\"gpt-4-turbo-preview\",\n",
    "            messages=[\n",
    "                {\"role\": \"user\", \"content\": prompt}\n",
    "                ],\n",
    "            temperature = .9,\n",
    "            # n parametar: koliko odgovora?\n",
    "            n = 5\n",
    "        )\n",
    "\n",
    "# odgovor modela\n",
    "ai_says = [ans.message.content for ans in response.choices]\n",
    "for say in ai_says:\n",
    "    print(say)"
   ]
  },
  {
   "cell_type": "markdown",
   "metadata": {},
   "source": [
    "### Struktura odgovora modela"
   ]
  },
  {
   "cell_type": "markdown",
   "metadata": {},
   "source": [
    "**N.B.** Proučite OpenAI API dokumentaciju o [Chat Completions API](https://platform.openai.com/docs/guides/text-generation/chat-completions-api)."
   ]
  },
  {
   "cell_type": "markdown",
   "metadata": {},
   "source": [
    "Struktura odgovora modela `response`:"
   ]
  },
  {
   "cell_type": "code",
   "execution_count": 9,
   "metadata": {},
   "outputs": [
    {
     "data": {
      "text/plain": [
       "ChatCompletion(id='chatcmpl-9C6Q8r3MR8NOfBeLZ2GpeWh8kBOlG', choices=[Choice(finish_reason='stop', index=0, logprobs=None, message=ChatCompletionMessage(content='Mladi učenik upita: \"Šta znači \\'Hello World\\'?\" \\nStari majstor odgovori: \"Poziv na početak putovanja u hiljadu linija koda, gde prva reč pozdravlja svetove unutrašnje i vanjske.\"', role='assistant', function_call=None, tool_calls=None)), Choice(finish_reason='stop', index=1, logprobs=None, message=ChatCompletionMessage(content='U dubini šume, stari monah šapne drvetu: \"Pozdrav Svete.\" Drvo odgovori tihim šuštanjem lišća, a monah se nasmeši, znajući da je poruka razumljiva svekolikom svetu, bez ijedne izrečene reči.', role='assistant', function_call=None, tool_calls=None)), Choice(finish_reason='stop', index=2, logprobs=None, message=ChatCompletionMessage(content='Stari majstor držao je u ruci pergament na kojem je pisalo \\'Hello World.\\' Pitao je učenika: \"Gde se kraj ovog pozdrava susreće sa početkom sveta u tebi?\"', role='assistant', function_call=None, tool_calls=None)), Choice(finish_reason='stop', index=3, logprobs=None, message=ChatCompletionMessage(content=\"U trenutku kada programer izgovara 'Hello World', hiljadu virtualnih ptica poleti iz njegovog srca. Ko čuje njihovo krilatovanje, razume jezik univerzuma.\", role='assistant', function_call=None, tool_calls=None)), Choice(finish_reason='stop', index=4, logprobs=None, message=ChatCompletionMessage(content='\"Učenik pita: \\'Šta znači izraz \\'Hello World\\'?\\' Majstor odgovara: \\'Pozdrav tišini koja uči da govori.\\'\"', role='assistant', function_call=None, tool_calls=None))], created=1712671644, model='gpt-4-0125-preview', object='chat.completion', system_fingerprint='fp_b77cb481ed', usage=CompletionUsage(completion_tokens=312, prompt_tokens=40, total_tokens=352))"
      ]
     },
     "execution_count": 9,
     "metadata": {},
     "output_type": "execute_result"
    }
   ],
   "source": [
    "response"
   ]
  },
  {
   "cell_type": "code",
   "execution_count": 10,
   "metadata": {},
   "outputs": [
    {
     "data": {
      "text/plain": [
       "openai.types.chat.chat_completion.ChatCompletion"
      ]
     },
     "execution_count": 10,
     "metadata": {},
     "output_type": "execute_result"
    }
   ],
   "source": [
    "type(response)"
   ]
  },
  {
   "cell_type": "code",
   "execution_count": 13,
   "metadata": {},
   "outputs": [
    {
     "data": {
      "text/plain": [
       "Choice(finish_reason='stop', index=4, logprobs=None, message=ChatCompletionMessage(content='\"Učenik pita: \\'Šta znači izraz \\'Hello World\\'?\\' Majstor odgovara: \\'Pozdrav tišini koja uči da govori.\\'\"', role='assistant', function_call=None, tool_calls=None))"
      ]
     },
     "execution_count": 13,
     "metadata": {},
     "output_type": "execute_result"
    }
   ],
   "source": [
    "response.choices[4]"
   ]
  },
  {
   "cell_type": "code",
   "execution_count": 16,
   "metadata": {},
   "outputs": [
    {
     "data": {
      "text/plain": [
       "'stop'"
      ]
     },
     "execution_count": 16,
     "metadata": {},
     "output_type": "execute_result"
    }
   ],
   "source": [
    "# stop:\n",
    "response.choices[4].finish_reason"
   ]
  },
  {
   "cell_type": "code",
   "execution_count": 17,
   "metadata": {},
   "outputs": [
    {
     "data": {
      "text/plain": [
       "'stop'"
      ]
     },
     "execution_count": 17,
     "metadata": {},
     "output_type": "execute_result"
    }
   ],
   "source": [
    "# stop:\n",
    "response.choices[1].finish_reason"
   ]
  },
  {
   "cell_type": "code",
   "execution_count": 18,
   "metadata": {},
   "outputs": [
    {
     "data": {
      "text/plain": [
       "40"
      ]
     },
     "execution_count": 18,
     "metadata": {},
     "output_type": "execute_result"
    }
   ],
   "source": [
    "# koliko prompt (input) tokena:\n",
    "response.usage.prompt_tokens"
   ]
  },
  {
   "cell_type": "code",
   "execution_count": 19,
   "metadata": {},
   "outputs": [
    {
     "data": {
      "text/plain": [
       "312"
      ]
     },
     "execution_count": 19,
     "metadata": {},
     "output_type": "execute_result"
    }
   ],
   "source": [
    "# koliko completion (autput) tokena:\n",
    "response.usage.completion_tokens"
   ]
  },
  {
   "cell_type": "code",
   "execution_count": 20,
   "metadata": {},
   "outputs": [
    {
     "data": {
      "text/plain": [
       "352"
      ]
     },
     "execution_count": 20,
     "metadata": {},
     "output_type": "execute_result"
    }
   ],
   "source": [
    "# ukupno tokena:\n",
    "response.usage.total_tokens"
   ]
  },
  {
   "cell_type": "markdown",
   "metadata": {},
   "source": [
    "### `max_tokens` parametar"
   ]
  },
  {
   "cell_type": "markdown",
   "metadata": {},
   "source": [
    "Nije moguće proceniti trošak autput (\"completion\") tokena jer ne znamo dužinu odgovora modela unapred.\n",
    "\n",
    "Koristite `max_tokens` da ograničite odgovore modela!"
   ]
  },
  {
   "cell_type": "code",
   "execution_count": 21,
   "metadata": {},
   "outputs": [
    {
     "name": "stdout",
     "output_type": "stream",
     "text": [
      "In the vast expanse of existence, the words \"Hello World\" hold the power to connect and\n",
      "In the silence of the void, a single word echoes: \"Hello.\" The world responds with a\n",
      "In the silence of the void, a single hello echoes through eternity, awakening the world to its true\n",
      "In the vast expanse of existence, a simple greeting carries the weight of connection and understanding. \"\n",
      "In the vast expanse of existence, the simple greeting of \"Hello World\" is a reminder of\n"
     ]
    }
   ],
   "source": [
    "# define prompt\n",
    "prompt = \"Provide a two sentence zen koan on the meaning of 'Hello World.'\"\n",
    "\n",
    "# model call with openai.ChatCompletion.create \n",
    "response = client.chat.completions.create(\n",
    "            model=\"gpt-3.5-turbo\",\n",
    "            messages=[\n",
    "                {\"role\": \"user\", \"content\": prompt}\n",
    "                ],\n",
    "            # rise temperature to .75\n",
    "            temperature = .75,\n",
    "            n = 5,\n",
    "            # very short koans\n",
    "            max_tokens = 40\n",
    "        )\n",
    "# read response\n",
    "ai_says = [ans.message.content for ans in response.choices]\n",
    "# print response\n",
    "for say in ai_says:\n",
    "    print(say)"
   ]
  },
  {
   "cell_type": "markdown",
   "metadata": {},
   "source": [
    "### Konverzacija sa ChatGPT: Uloge (Roles)"
   ]
  },
  {
   "cell_type": "markdown",
   "metadata": {},
   "source": [
    "Naučićemo o rolama (ulogama) u pozivima ChatGPT preko OpenAI sada. \n",
    "\n",
    "Postoje tri role koje možemo da kontrolišemo: `system`, `user`, i `assistant`."
   ]
  },
  {
   "cell_type": "code",
   "execution_count": null,
   "metadata": {},
   "outputs": [],
   "source": [
    "# definišemo system message (instrukciju)\n",
    "instruction = \"\"\"\n",
    "Ti si ekspert u logici i semantici i rešavaš analogije.\n",
    "Sve analogije koje rešavaš su oblika \"[A] : [B] je isto kao [C] : [?]\" \n",
    "gde će ti [A], [B], i [C] biti dati kao određene reči srpskog jezika, a ti treba \n",
    "da odgovoriš šta treba da stoji na mestu [?].\n",
    "\"\"\"\n",
    "\n",
    "# definišemo konverzaciju kroz koju dajemo primere\n",
    "user_01 = \"Zemlja : Nebo je isto kao Pod : ?\"\n",
    "assistant_01 = \"Plafon\"\n",
    "user_02 = \"Kapetan : More je isto kao Pilot : ?\"\n",
    "assistant_02 = \"Nebo\"\n",
    "user_03 = \"Biblioteka : Knjige je isto kao Arhiv : ?\"\n",
    "assistant_03 = \"Dokumenti\"\n",
    "\n",
    "# definišemo prompt (pitanje)\n",
    "prompt = \"Volan : Automobil je isto kao Tastatura : ?\"\n",
    "\n",
    "# model call with openai.ChatCompletion.create \n",
    "response = client.chat.completions.create(\n",
    "            model=\"gpt-4-turbo-preview\",\n",
    "            messages=[\n",
    "                {\"role\": \"system\", \"content\": instruction},\n",
    "                {\"role\": \"user\", \"content\": user_01},\n",
    "                {\"role\": \"assistant\", \"content\": assistant_01},\n",
    "                {\"role\": \"user\", \"content\": user_02},\n",
    "                {\"role\": \"assistant\", \"content\": assistant_02},\n",
    "                {\"role\": \"user\", \"content\": user_03},\n",
    "                {\"role\": \"assistant\", \"content\": assistant_03},\n",
    "                {\"role\": \"user\", \"content\": prompt},\n",
    "                ]\n",
    "        )\n",
    "# read response\n",
    "ai_says = response.choices[0].message.content\n",
    "# print response\n",
    "print(ai_says)"
   ]
  },
  {
   "cell_type": "markdown",
   "metadata": {},
   "source": [
    "<hr>"
   ]
  },
  {
   "cell_type": "markdown",
   "metadata": {},
   "source": [
    "<font size=1>License: [GPLv3](https://www.gnu.org/licenses/gpl-3.0.txt) This Notebook is free software: you can redistribute it and/or modify it under the terms of the GNU General Public License as published by the Free Software Foundation, either version 3 of the License, or (at your option) any later version. This Notebook is distributed in the hope that it will be useful, but WITHOUT ANY WARRANTY; without even the implied warranty of MERCHANTABILITY or FITNESS FOR A PARTICULAR PURPOSE. See the GNU General Public License for more details. You should have received a copy of the GNU General Public License along with this Notebook. If not, see http://www.gnu.org/licenses/.</font>"
   ]
  }
 ],
 "metadata": {
  "kernelspec": {
   "display_name": "dss00python2023",
   "language": "python",
   "name": "python3"
  },
  "language_info": {
   "codemirror_mode": {
    "name": "ipython",
    "version": 3
   },
   "file_extension": ".py",
   "mimetype": "text/x-python",
   "name": "python",
   "nbconvert_exporter": "python",
   "pygments_lexer": "ipython3",
   "version": "3.11.5"
  },
  "orig_nbformat": 4,
  "vscode": {
   "interpreter": {
    "hash": "1cd3978be751434017ac2cef9d5b4683bcdb1c1d31a8fa91ec8c7c13b7681774"
   }
  }
 },
 "nbformat": 4,
 "nbformat_minor": 2
}
